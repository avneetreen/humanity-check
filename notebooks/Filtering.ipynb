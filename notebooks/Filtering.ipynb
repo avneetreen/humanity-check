{
 "cells": [
  {
   "cell_type": "code",
   "execution_count": 1,
   "metadata": {},
   "outputs": [
    {
     "name": "stderr",
     "output_type": "stream",
     "text": [
      "/home/ksg502/miniconda3/envs/humanity/lib/python3.12/site-packages/tqdm/auto.py:21: TqdmWarning: IProgress not found. Please update jupyter and ipywidgets. See https://ipywidgets.readthedocs.io/en/stable/user_install.html\n",
      "  from .autonotebook import tqdm as notebook_tqdm\n"
     ]
    }
   ],
   "source": [
    "import glob\n",
    "import pandas as pd\n",
    "\n",
    "from bertopic import BERTopic"
   ]
  },
  {
   "cell_type": "code",
   "execution_count": 3,
   "metadata": {},
   "outputs": [],
   "source": [
    "regions = [\"UK\", \"US\", \"MiddleEast\", \"India\", \"Israel\"]"
   ]
  },
  {
   "cell_type": "code",
   "execution_count": 3,
   "metadata": {},
   "outputs": [],
   "source": [
    "def consolidate_links_data(region: str) -> None:\n",
    "    df_list = []\n",
    "    for month in glob.glob(f\"../data/links/WayBackMachine/{region}/*\"):\n",
    "            for file in glob.glob(f\"{month}/*.csv\"):\n",
    "                df_list.append(pd.read_csv(file))\n",
    "    combined_df = pd.concat(df_list)\n",
    "    combined_df.to_csv(f\"../data/processed/WayBackMachine/{region}.csv\", index=False)\n",
    "            "
   ]
  },
  {
   "cell_type": "code",
   "execution_count": null,
   "metadata": {},
   "outputs": [],
   "source": [
    "for reg in regions:\n",
    "    consolidate_links_data(reg)"
   ]
  },
  {
   "cell_type": "code",
   "execution_count": 22,
   "metadata": {},
   "outputs": [],
   "source": [
    "selected_domains = {\"UK\":['dailymail.co.uk', 'independent.co.uk', 'theguardian.com', 'bbc.co.uk'],\n",
    "\"US\":['nytimes.com', 'cbsnews.com', 'foxnews.com', 'nypost.com', 'npr.org', 'breitbart.com'],\n",
    "\"MiddleEast\":['mehrnews.com', 'cumhuriyet.com.tr', 'dailysabah.com', 'aksam.com.tr'],\n",
    "\"India\":['indiatimes.com', 'tribuneindia.com', 'hindustantimes.com', 'firstpost.com', 'thehindu.com'],\n",
    "\"Israel\":['timesofisrael.com', 'jpost.com', 'ynetnews.com', 'israelhayom.co.il', 'maariv.co.il']}"
   ]
  },
  {
   "cell_type": "code",
   "execution_count": 23,
   "metadata": {},
   "outputs": [
    {
     "name": "stdout",
     "output_type": "stream",
     "text": [
      "UK 10519\n",
      "US 13879\n",
      "MiddleEast 4010\n",
      "India 32642\n",
      "Israel 24532\n"
     ]
    }
   ],
   "source": [
    "for reg in regions:\n",
    "    df = pd.read_csv(f\"../data/links/WayBackMachine/consolidated/{reg}.csv\")\n",
    "    df = df[df.language == \"en\"]\n",
    "    df = df[df.media_name.isin(selected_domains[reg])]\n",
    "    print(reg, len(df))\n",
    "    df.to_csv(f\"../data/links/WayBackMachine/selected/{reg}.csv\", index=False)"
   ]
  },
  {
   "cell_type": "code",
   "execution_count": 4,
   "metadata": {},
   "outputs": [],
   "source": [
    "all_df = []\n",
    "for reg in regions:\n",
    "    df = pd.read_csv(f\"../data/links/WayBackMachine/selected/{reg}.csv\")\n",
    "    all_df.append(df)\n",
    "all_df = pd.concat(all_df)"
   ]
  },
  {
   "cell_type": "code",
   "execution_count": 6,
   "metadata": {},
   "outputs": [],
   "source": [
    "titles = all_df.title.values"
   ]
  },
  {
   "cell_type": "code",
   "execution_count": 7,
   "metadata": {},
   "outputs": [
    {
     "name": "stderr",
     "output_type": "stream",
     "text": [
      "huggingface/tokenizers: The current process just got forked, after parallelism has already been used. Disabling parallelism to avoid deadlocks...\n",
      "To disable this warning, you can either:\n",
      "\t- Avoid using `tokenizers` before the fork if possible\n",
      "\t- Explicitly set the environment variable TOKENIZERS_PARALLELISM=(true | false)\n",
      "huggingface/tokenizers: The current process just got forked, after parallelism has already been used. Disabling parallelism to avoid deadlocks...\n",
      "To disable this warning, you can either:\n",
      "\t- Avoid using `tokenizers` before the fork if possible\n",
      "\t- Explicitly set the environment variable TOKENIZERS_PARALLELISM=(true | false)\n",
      "huggingface/tokenizers: The current process just got forked, after parallelism has already been used. Disabling parallelism to avoid deadlocks...\n",
      "To disable this warning, you can either:\n",
      "\t- Avoid using `tokenizers` before the fork if possible\n",
      "\t- Explicitly set the environment variable TOKENIZERS_PARALLELISM=(true | false)\n",
      "huggingface/tokenizers: The current process just got forked, after parallelism has already been used. Disabling parallelism to avoid deadlocks...\n",
      "To disable this warning, you can either:\n",
      "\t- Avoid using `tokenizers` before the fork if possible\n",
      "\t- Explicitly set the environment variable TOKENIZERS_PARALLELISM=(true | false)\n",
      "huggingface/tokenizers: The current process just got forked, after parallelism has already been used. Disabling parallelism to avoid deadlocks...\n",
      "To disable this warning, you can either:\n",
      "\t- Avoid using `tokenizers` before the fork if possible\n",
      "\t- Explicitly set the environment variable TOKENIZERS_PARALLELISM=(true | false)\n"
     ]
    }
   ],
   "source": [
    "topic_model = BERTopic(language=\"english\", min_topic_size=100)\n",
    "topics, probs = topic_model.fit_transform(titles)"
   ]
  },
  {
   "cell_type": "code",
   "execution_count": 9,
   "metadata": {},
   "outputs": [
    {
     "data": {
      "text/plain": [
       "85582"
      ]
     },
     "execution_count": 9,
     "metadata": {},
     "output_type": "execute_result"
    }
   ],
   "source": [
    "len(all_df)"
   ]
  },
  {
   "cell_type": "code",
   "execution_count": 8,
   "metadata": {},
   "outputs": [
    {
     "data": {
      "text/html": [
       "<div>\n",
       "<style scoped>\n",
       "    .dataframe tbody tr th:only-of-type {\n",
       "        vertical-align: middle;\n",
       "    }\n",
       "\n",
       "    .dataframe tbody tr th {\n",
       "        vertical-align: top;\n",
       "    }\n",
       "\n",
       "    .dataframe thead th {\n",
       "        text-align: right;\n",
       "    }\n",
       "</style>\n",
       "<table border=\"1\" class=\"dataframe\">\n",
       "  <thead>\n",
       "    <tr style=\"text-align: right;\">\n",
       "      <th></th>\n",
       "      <th>Topic</th>\n",
       "      <th>Count</th>\n",
       "      <th>Name</th>\n",
       "      <th>Representation</th>\n",
       "      <th>Representative_Docs</th>\n",
       "    </tr>\n",
       "  </thead>\n",
       "  <tbody>\n",
       "    <tr>\n",
       "      <th>0</th>\n",
       "      <td>-1</td>\n",
       "      <td>37461</td>\n",
       "      <td>-1_in_to_of_the</td>\n",
       "      <td>[in, to, of, the, gaza, for, hamas, israel, an...</td>\n",
       "      <td>[Israel says war in Gaza could go on for month...</td>\n",
       "    </tr>\n",
       "    <tr>\n",
       "      <th>1</th>\n",
       "      <td>0</td>\n",
       "      <td>2478</td>\n",
       "      <td>0_sea_red_houthi_houthis</td>\n",
       "      <td>[sea, red, houthi, houthis, yemen, ship, attac...</td>\n",
       "      <td>[Houthis claim new attacks on Red Sea shipping...</td>\n",
       "    </tr>\n",
       "    <tr>\n",
       "      <th>2</th>\n",
       "      <td>1</td>\n",
       "      <td>2219</td>\n",
       "      <td>1_harvard_students_antisemitism_university</td>\n",
       "      <td>[harvard, students, antisemitism, university, ...</td>\n",
       "      <td>[Harvard sued by Jewish students over ‘rampant...</td>\n",
       "    </tr>\n",
       "    <tr>\n",
       "      <th>3</th>\n",
       "      <td>2</td>\n",
       "      <td>2169</td>\n",
       "      <td>2_the_we_our_you</td>\n",
       "      <td>[the, we, our, you, my, and, war, of, cohen, m...</td>\n",
       "      <td>[We Must Have Hope That Everything Will Be Goo...</td>\n",
       "    </tr>\n",
       "    <tr>\n",
       "      <th>4</th>\n",
       "      <td>3</td>\n",
       "      <td>2157</td>\n",
       "      <td>3_iran_iraq_syria_us</td>\n",
       "      <td>[iran, iraq, syria, us, drone, iranian, irans,...</td>\n",
       "      <td>[Iran strikes targets in northern Iraq and Syr...</td>\n",
       "    </tr>\n",
       "    <tr>\n",
       "      <th>...</th>\n",
       "      <td>...</td>\n",
       "      <td>...</td>\n",
       "      <td>...</td>\n",
       "      <td>...</td>\n",
       "      <td>...</td>\n",
       "    </tr>\n",
       "    <tr>\n",
       "      <th>106</th>\n",
       "      <td>105</td>\n",
       "      <td>108</td>\n",
       "      <td>105_grapevine_susan_sarandon_dropped</td>\n",
       "      <td>[grapevine, susan, sarandon, dropped, taste, 2...</td>\n",
       "      <td>[Susan Sarandon Apologizes for Comment About J...</td>\n",
       "    </tr>\n",
       "    <tr>\n",
       "      <th>107</th>\n",
       "      <td>106</td>\n",
       "      <td>107</td>\n",
       "      <td>106_education_schools_exams_teachers</td>\n",
       "      <td>[education, schools, exams, teachers, exam, st...</td>\n",
       "      <td>[Appearing for class 10, 12 board exams twice ...</td>\n",
       "    </tr>\n",
       "    <tr>\n",
       "      <th>108</th>\n",
       "      <td>107</td>\n",
       "      <td>106</td>\n",
       "      <td>107_iran_irans_khamenei_hamas</td>\n",
       "      <td>[iran, irans, khamenei, hamas, attack, war, is...</td>\n",
       "      <td>[Iran's Khamenei says Tehran was not behind Ha...</td>\n",
       "    </tr>\n",
       "    <tr>\n",
       "      <th>109</th>\n",
       "      <td>108</td>\n",
       "      <td>104</td>\n",
       "      <td>108_trump_trial_fraud_donald</td>\n",
       "      <td>[trump, trial, fraud, donald, judge, trumps, i...</td>\n",
       "      <td>[Eye Opener: Former President Donald Trump cla...</td>\n",
       "    </tr>\n",
       "    <tr>\n",
       "      <th>110</th>\n",
       "      <td>109</td>\n",
       "      <td>101</td>\n",
       "      <td>109_johnson_speaker_mike_mayorkas</td>\n",
       "      <td>[johnson, speaker, mike, mayorkas, impeach, im...</td>\n",
       "      <td>[Mike Johnson, Republicans FAIL to impeach Ale...</td>\n",
       "    </tr>\n",
       "  </tbody>\n",
       "</table>\n",
       "<p>111 rows × 5 columns</p>\n",
       "</div>"
      ],
      "text/plain": [
       "     Topic  Count                                        Name  \\\n",
       "0       -1  37461                             -1_in_to_of_the   \n",
       "1        0   2478                    0_sea_red_houthi_houthis   \n",
       "2        1   2219  1_harvard_students_antisemitism_university   \n",
       "3        2   2169                            2_the_we_our_you   \n",
       "4        3   2157                        3_iran_iraq_syria_us   \n",
       "..     ...    ...                                         ...   \n",
       "106    105    108        105_grapevine_susan_sarandon_dropped   \n",
       "107    106    107        106_education_schools_exams_teachers   \n",
       "108    107    106               107_iran_irans_khamenei_hamas   \n",
       "109    108    104                108_trump_trial_fraud_donald   \n",
       "110    109    101           109_johnson_speaker_mike_mayorkas   \n",
       "\n",
       "                                        Representation  \\\n",
       "0    [in, to, of, the, gaza, for, hamas, israel, an...   \n",
       "1    [sea, red, houthi, houthis, yemen, ship, attac...   \n",
       "2    [harvard, students, antisemitism, university, ...   \n",
       "3    [the, we, our, you, my, and, war, of, cohen, m...   \n",
       "4    [iran, iraq, syria, us, drone, iranian, irans,...   \n",
       "..                                                 ...   \n",
       "106  [grapevine, susan, sarandon, dropped, taste, 2...   \n",
       "107  [education, schools, exams, teachers, exam, st...   \n",
       "108  [iran, irans, khamenei, hamas, attack, war, is...   \n",
       "109  [trump, trial, fraud, donald, judge, trumps, i...   \n",
       "110  [johnson, speaker, mike, mayorkas, impeach, im...   \n",
       "\n",
       "                                   Representative_Docs  \n",
       "0    [Israel says war in Gaza could go on for month...  \n",
       "1    [Houthis claim new attacks on Red Sea shipping...  \n",
       "2    [Harvard sued by Jewish students over ‘rampant...  \n",
       "3    [We Must Have Hope That Everything Will Be Goo...  \n",
       "4    [Iran strikes targets in northern Iraq and Syr...  \n",
       "..                                                 ...  \n",
       "106  [Susan Sarandon Apologizes for Comment About J...  \n",
       "107  [Appearing for class 10, 12 board exams twice ...  \n",
       "108  [Iran's Khamenei says Tehran was not behind Ha...  \n",
       "109  [Eye Opener: Former President Donald Trump cla...  \n",
       "110  [Mike Johnson, Republicans FAIL to impeach Ale...  \n",
       "\n",
       "[111 rows x 5 columns]"
      ]
     },
     "execution_count": 8,
     "metadata": {},
     "output_type": "execute_result"
    }
   ],
   "source": [
    "topic_model.get_topic_info()"
   ]
  },
  {
   "cell_type": "code",
   "execution_count": 10,
   "metadata": {},
   "outputs": [],
   "source": [
    "topic_model.save(\"../models/\", serialization=\"pytorch\", save_ctfidf=True)"
   ]
  },
  {
   "cell_type": "code",
   "execution_count": null,
   "metadata": {},
   "outputs": [],
   "source": []
  }
 ],
 "metadata": {
  "kernelspec": {
   "display_name": "humanity",
   "language": "python",
   "name": "python3"
  },
  "language_info": {
   "codemirror_mode": {
    "name": "ipython",
    "version": 3
   },
   "file_extension": ".py",
   "mimetype": "text/x-python",
   "name": "python",
   "nbconvert_exporter": "python",
   "pygments_lexer": "ipython3",
   "version": "3.12.1"
  }
 },
 "nbformat": 4,
 "nbformat_minor": 2
}
