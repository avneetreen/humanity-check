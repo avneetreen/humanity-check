{
 "cells": [
  {
   "cell_type": "code",
   "execution_count": 1,
   "metadata": {},
   "outputs": [
    {
     "name": "stderr",
     "output_type": "stream",
     "text": [
      "/Users/avtk/miniconda3/envs/riveterEnv/lib/python3.9/site-packages/tqdm/auto.py:21: TqdmWarning: IProgress not found. Please update jupyter and ipywidgets. See https://ipywidgets.readthedocs.io/en/stable/user_install.html\n",
      "  from .autonotebook import tqdm as notebook_tqdm\n"
     ]
    }
   ],
   "source": [
    "from frame_semantic_transformer import FrameSemanticTransformer\n",
    "import ssl \n",
    "import nltk\n",
    "import pandas as pd\n",
    "import matplotlib.pyplot as plt\n",
    "import spacy\n",
    "\n",
    "from frame_semantic_transformer import FrameSemanticTransformer\n",
    "\n",
    "nlp = spacy.load(\"en_core_web_sm\")"
   ]
  },
  {
   "cell_type": "code",
   "execution_count": 7,
   "metadata": {},
   "outputs": [],
   "source": [
    "import pickle\n",
    "import logging \n",
    "\n",
    "logger = logging.getLogger()"
   ]
  },
  {
   "cell_type": "code",
   "execution_count": 6,
   "metadata": {},
   "outputs": [
    {
     "name": "stderr",
     "output_type": "stream",
     "text": [
      "[nltk_data] Downloading package wordnet to /Users/avtk/nltk_data...\n",
      "[nltk_data]   Package wordnet is already up-to-date!\n",
      "[nltk_data] Downloading package framenet_v17 to\n",
      "[nltk_data]     /Users/avtk/nltk_data...\n",
      "[nltk_data]   Package framenet_v17 is already up-to-date!\n"
     ]
    },
    {
     "data": {
      "text/plain": [
       "True"
      ]
     },
     "execution_count": 6,
     "metadata": {},
     "output_type": "execute_result"
    }
   ],
   "source": [
    "try:\n",
    "    _create_unverified_https_context = ssl._create_unverified_context\n",
    "except AttributeError:\n",
    "    pass\n",
    "else:\n",
    "    ssl._create_default_https_context = _create_unverified_https_context\n",
    "\n",
    "nltk.download('wordnet')\n",
    "nltk.download('framenet_v17')"
   ]
  },
  {
   "cell_type": "code",
   "execution_count": 33,
   "metadata": {},
   "outputs": [],
   "source": [
    "def run_spacy_ner(filename: str, region: str):\n",
    "    \"\"\"Function to get frame semantics \n",
    "\n",
    "    Args:\n",
    "        df (pd.DataFrame): dataframe for region\n",
    "        filename (str): name of file\n",
    "    \"\"\"\n",
    "\n",
    "    pickle_obj = {\"index\": [], \"ner_output\": []}\n",
    "    \n",
    "    df = pd.read_csv(filename)\n",
    "\n",
    "    try:\n",
    "        for row in df.iterrows():\n",
    "            index = row[0]\n",
    "            print(row[0])\n",
    "            ner_outputs = []\n",
    "            article_text = row[1].maintext\n",
    "            try:\n",
    "                doc = nlp(article_text)\n",
    "                ner_outputs.append([ [ent.text, ent.start_char, ent.end_char, ent.label_] for ent in doc.ents])\n",
    "            except Exception as e: \n",
    "                logger.error(e)\n",
    "                pass\n",
    "    except Exception as e: \n",
    "        logger.error(e)\n",
    "        pass\n",
    "    else: \n",
    "        pickle_obj[\"index\"].append(index)\n",
    "        pickle_obj[\"ner_output\"].append(ner_outputs) \n",
    "        pickle.dump(pickle_obj, file = open(f\"../data/processed/ner/ner_{region}.pickle\", \"wb\"))\n",
    "    "
   ]
  },
  {
   "cell_type": "code",
   "execution_count": 34,
   "metadata": {},
   "outputs": [
    {
     "name": "stdout",
     "output_type": "stream",
     "text": [
      "0\n"
     ]
    }
   ],
   "source": [
    "region = \"MiddleEast\"\n",
    "df = pd.read_csv(f\"../data/raw/filtered_data/{region}.csv\")\n",
    "\n",
    "run_spacy_ner(f\"../data/raw/filtered_data/{region}.csv\", region)"
   ]
  },
  {
   "cell_type": "code",
   "execution_count": 36,
   "metadata": {},
   "outputs": [
    {
     "name": "stdout",
     "output_type": "stream",
     "text": [
      "{'index': [0], 'ner_output': [[[['CNN', 0, 3, 'ORG'], ['Mohammed Ghneim', 10, 25, 'PERSON'], ['Gaza City', 55, 64, 'GPE'], ['four weeks', 68, 78, 'DATE'], ['days', 533, 537, 'DATE'], ['Ghneim', 642, 648, 'GPE'], ['CNN', 654, 657, 'ORG'], ['November 7', 680, 690, 'DATE'], ['Ghneim', 825, 831, 'GPE'], ['Dar Al-Shifa', 863, 875, 'GPE'], ['Al-Shifa Hospital', 891, 908, 'ORG'], ['Shifa', 912, 917, 'ORG'], ['Arabic', 926, 932, 'LANGUAGE'], ['Gaza', 1011, 1015, 'GPE'], ['Palestinian', 1048, 1059, 'NORP'], ['Nasser Medical Center', 1088, 1109, 'ORG'], ['Khan Younis', 1128, 1139, 'PERSON'], ['Gaza', 1141, 1145, 'GPE'], ['November 7', 1150, 1160, 'DATE'], ['Ahmad Hasaballah/Getty Images\\nShifa', 1162, 1197, 'PERSON'], ['thousands', 1281, 1290, 'CARDINAL'], ['Palestinians', 1294, 1306, 'NORP'], ['Israel', 1332, 1338, 'GPE'], ['Hamas', 1353, 1358, 'ORG'], ['Israeli', 1454, 1461, 'NORP'], ['Saturday', 1472, 1480, 'DATE'], ['Shifa', 1492, 1497, 'ORG'], ['Munir Al-Bursh', 1585, 1599, 'PERSON'], ['Hamas', 1625, 1630, 'ORG'], ['Gaza', 1661, 1665, 'GPE'], ['Israeli', 1670, 1677, 'NORP'], ['Al-Bursh', 1724, 1732, 'PERSON'], ['39', 1816, 1818, 'CARDINAL'], ['Three', 1845, 1850, 'CARDINAL'], ['Israeli', 1892, 1899, 'NORP'], ['CNN', 1958, 1961, 'ORG'], ['Hamas', 2015, 2020, 'ORG'], ['Shifa', 2040, 2045, 'ORG'], ['Israel', 2165, 2171, 'GPE'], ['Hamas', 2184, 2189, 'ORG'], ['Shifa', 2240, 2245, 'ORG'], ['Ghneim', 2341, 2347, 'GPE'], ['28', 2349, 2351, 'DATE'], ['Palestinians', 2515, 2527, 'NORP'], ['Israeli', 2577, 2584, 'NORP'], ['Al-Shifa Hospital', 2613, 2630, 'ORG'], ['Gaza City', 2634, 2643, 'GPE'], ['Anas al-Shareef/Reuters', 2645, 2668, 'PERSON'], ['Shifa', 2697, 2702, 'ORG'], ['Gaza', 2731, 2735, 'GPE'], ['some 2 million', 2845, 2859, 'CARDINAL'], ['Palestinians', 2860, 2872, 'NORP'], ['Israel', 2911, 2917, 'GPE'], ['Egypt', 2922, 2927, 'GPE'], ['the United States', 2961, 2978, 'GPE'], ['Gaza', 3109, 3113, 'GPE'], ['Ghneim', 3309, 3315, 'GPE'], ['More than 7,000 miles', 3402, 3423, 'QUANTITY'], ['Houston', 3433, 3440, 'GPE'], ['Mosab Nasser', 3442, 3454, 'PERSON'], ['Gaza', 3552, 3556, 'GPE'], ['Texan', 3609, 3614, 'NORP'], ['Gaza', 3635, 3639, 'GPE'], ['October 7', 3677, 3686, 'DATE'], ['Israel', 3693, 3699, 'GPE'], ['Hamas', 3742, 3747, 'ORG'], ['around 1,200', 3760, 3772, 'CARDINAL'], ['more than 230', 3789, 3802, 'CARDINAL'], ['Israeli', 3832, 3839, 'NORP'], ['Israel', 3853, 3859, 'GPE'], ['Gaza', 3934, 3938, 'GPE'], ['Hamas', 3946, 3951, 'ORG'], ['Israel', 3961, 3967, 'GPE'], ['Palestinian', 4054, 4065, 'NORP'], ['at least 11,025', 4155, 4170, 'CARDINAL'], ['Palestinians', 4171, 4183, 'NORP'], ['4,506', 4195, 4200, 'CARDINAL'], ['more than 27,000', 4223, 4239, 'CARDINAL'], ['the Palestinian Ministry of Health', 4268, 4302, 'ORG'], ['Ramallah', 4306, 4314, 'GPE'], ['Hamas', 4356, 4361, 'ORG'], ['Gaza', 4366, 4370, 'GPE'], ['Nasser', 4372, 4378, 'PERSON'], ['three', 4384, 4389, 'CARDINAL'], ['only 8 months old', 4451, 4468, 'DATE'], ['Israeli', 4488, 4495, 'NORP'], ['FAJR Scientific', 4606, 4621, 'ORG'], ['FAJR Scientific’s', 4710, 4727, 'ORG'], ['five 40-foot', 4766, 4778, 'QUANTITY'], ['Gaza', 4870, 4874, 'GPE'], ['Nasser', 4876, 4882, 'PERSON'], ['Gaza', 4901, 4905, 'GPE'], ['Nasser', 4954, 4960, 'PERSON'], ['Palestinian', 5101, 5112, 'NORP'], ['Nasser Hospital', 5122, 5137, 'FAC'], ['Khan Younis', 5141, 5152, 'PERSON'], ['Gaza', 5154, 5158, 'GPE'], ['November 9', 5219, 5229, 'DATE'], ['Abed Zagout/Anadolu/Getty Images', 5231, 5263, 'PERSON'], ['Nasser', 5279, 5285, 'PERSON'], ['first', 5446, 5451, 'ORDINAL'], ['FAJR Scientific', 5457, 5472, 'ORG'], ['Gaza', 5487, 5491, 'GPE'], ['Gaza', 5560, 5564, 'GPE'], ['nearly 100', 5577, 5587, 'CARDINAL'], ['Palestinian', 5588, 5599, 'NORP'], ['Nasser', 5631, 5637, 'PERSON'], ['August', 5647, 5653, 'DATE'], ['more than $4 million', 5669, 5689, 'MONEY'], ['The Palestinian American Medical Association', 5745, 5789, 'ORG'], ['US', 5806, 5808, 'GPE'], ['Gaza', 5883, 5887, 'GPE'], ['more than 6,000', 5910, 5925, 'CARDINAL'], ['over $2 million', 6002, 6017, 'MONEY'], ['PAMA', 6026, 6030, 'ORG'], ['Mustafa Musleh', 6045, 6059, 'PERSON'], ['CNN', 6065, 6068, 'ORG'], ['Gaza', 6235, 6239, 'GPE'], ['more than 1,000', 6260, 6275, 'CARDINAL'], ['Israel', 6345, 6351, 'GPE'], ['Egypt', 6356, 6361, 'GPE'], ['Musleh', 6399, 6405, 'NORP'], ['Palestinian', 6448, 6459, 'NORP'], ['American', 6460, 6468, 'NORP'], ['Dayton', 6481, 6487, 'GPE'], ['Ohio', 6489, 6493, 'GPE'], ['10', 6543, 6545, 'CARDINAL'], ['Al-Shifa Hospital', 6799, 6816, 'ORG'], ['Gaza City', 6820, 6829, 'GPE'], ['November 10', 6833, 6844, 'DATE'], ['Khader Al Zanoun/AFP/Getty Images', 6846, 6879, 'PERSON'], ['US', 6923, 6925, 'GPE'], ['Gaza', 7147, 7151, 'GPE'], ['Egypt', 7191, 7196, 'GPE'], ['the Palestine Red Crescent Society', 7211, 7245, 'ORG'], ['each day', 7323, 7331, 'DATE'], ['Gaza', 7364, 7368, 'GPE'], ['Ahmad Muhanna', 7462, 7475, 'PERSON'], ['Al Awda Hospital', 7489, 7505, 'ORG'], ['Jabalya', 7509, 7516, 'GPE'], ['Muhanna', 7779, 7786, 'PERSON'], ['CNN', 7792, 7795, 'ORG'], ['October 29', 7799, 7809, 'DATE'], ['Gaza', 7840, 7844, 'GPE'], ['anesthesia', 7946, 7956, 'GPE'], ['Israeli', 8056, 8063, 'NORP'], ['Muhanna', 8142, 8149, 'GPE'], ['49', 8151, 8153, 'DATE'], ['November 10', 8207, 8218, 'DATE'], ['198', 8220, 8223, 'CARDINAL'], ['130', 8265, 8268, 'CARDINAL'], ['Gaza', 8287, 8291, 'GPE'], ['the Palestinian Ministry of Health', 8306, 8340, 'ORG'], ['Ramallah', 8344, 8352, 'GPE'], ['21', 8370, 8372, 'CARDINAL'], ['51', 8387, 8389, 'CARDINAL'], ['Al-Shifa Hospital', 8438, 8455, 'ORG'], ['Gaza City', 8469, 8478, 'GPE'], ['October 24', 8502, 8512, 'DATE'], ['Mohammed Saber/EPA-EFE/Shutterstock', 8514, 8549, 'PERSON'], ['Israel', 8550, 8556, 'GPE'], ['Hamas', 8582, 8587, 'ORG'], ['The Palestinian Ministry of Health', 8652, 8686, 'ORG'], ['Hamas', 8691, 8696, 'ORG'], ['Israel', 8715, 8721, 'GPE'], ['Palestinians', 8858, 8870, 'NORP'], ['Gaza', 8914, 8918, 'GPE'], ['Israeli', 9025, 9032, 'NORP'], ['Muhanna', 9115, 9122, 'PERSON'], ['Israel', 9159, 9165, 'GPE'], ['Shifa', 9412, 9417, 'ORG'], ['Al Awda', 9419, 9426, 'PERSON'], ['Gaza', 9454, 9458, 'GPE'], ['Ghneim', 9693, 9699, 'GPE'], ['Shifa', 9730, 9735, 'ORG'], ['Nasser', 9853, 9859, 'PERSON'], ['Musleh', 9864, 9870, 'NORP'], ['Gaza', 10012, 10016, 'GPE'], ['Gaza', 10105, 10109, 'GPE'], ['Nasser', 10112, 10118, 'PERSON']]]]}\n"
     ]
    }
   ],
   "source": [
    "region = \"MiddleEast\"\n",
    "sem_frames = pickle.load(open(f\"../data/processed/ner/ner_{region}.pickle\", \"rb\"))\n",
    "print(sem_frames)"
   ]
  },
  {
   "cell_type": "markdown",
   "metadata": {},
   "source": []
  },
  {
   "cell_type": "code",
   "execution_count": 32,
   "metadata": {},
   "outputs": [
    {
     "name": "stdout",
     "output_type": "stream",
     "text": [
      "Mohammed Ghneim 4 19 PERSON\n",
      "Gaza City 49 58 GPE\n",
      "four weeks 62 72 DATE\n",
      "CNN 206 209 ORG\n",
      "Mohammed Ghneim 215 230 PERSON\n",
      "Gaza City 260 269 GPE\n",
      "four weeks 273 283 DATE\n",
      "days 737 741 DATE\n",
      "Ghneim 846 852 GPE\n",
      "CNN 858 861 ORG\n",
      "November 7 884 894 DATE\n",
      "Ghneim 1029 1035 GPE\n",
      "Dar Al-Shifa 1067 1079 GPE\n",
      "Al-Shifa Hospital 1095 1112 ORG\n",
      "Shifa 1116 1121 ORG\n",
      "Arabic 1130 1136 LANGUAGE\n",
      "Gaza 1215 1219 GPE\n",
      "death.o 1243 1250 PRODUCT\n",
      "Ghneim 1298 1304 GPE\n",
      "28 1306 1308 DATE\n"
     ]
    }
   ],
   "source": [
    "doc = nlp(\"Dr. Mohammed Ghneim has not left his hospital in Gaza City in four weeks. He can’t remember the last time he slept or ate, and his blue scrubs are stained in the blood of patients who’ve died in his arms., CNN —Dr. Mohammed Ghneim has not left his hospital in Gaza City in four weeks. He can’t remember the last time he slept or ate, and his blue scrubs are stained in the blood of patients who’ve died in his arms. His voice cracks under the weight of the horrors he’s seen: fetuses pulled from the wombs of dying mothers, children with crushed lungs struggling to breathe, and his own colleagues – doctors, nurses and EMTs – transported to the hospital morgue in body bags. We are doing our best – this is why we haven’t left here for days – but the situation is very horrible. There’s no way to describe it in any language or with any words,” Ghneim told CNN in a voice message on November 7, as sounds of chaos and panic unfolded around him. “Many times I want to go to the side and cry, but unfortunately there is no time.” Ghneim is an emergency room doctor at Dar Al-Shifa, also known as Al-Shifa Hospital or Shifa, and is Arabic for “house of healing.” But at this hospital – the largest medical complex in Gaza – there’s far too much death.o deal with mass casualties, but not like this,” Ghneim, 28, said. “We have no anesthesia to treat patients with severe pain, patients with shrapnel in their head or abdomen, people whose arms or legs have been amputated.\")\n",
    "for ent in doc.ents:\n",
    "    print(ent.text, ent.start_char, ent.end_char, ent.label_)"
   ]
  },
  {
   "cell_type": "code",
   "execution_count": null,
   "metadata": {},
   "outputs": [],
   "source": []
  },
  {
   "cell_type": "code",
   "execution_count": null,
   "metadata": {},
   "outputs": [],
   "source": []
  }
 ],
 "metadata": {
  "kernelspec": {
   "display_name": "base",
   "language": "python",
   "name": "python3"
  },
  "language_info": {
   "codemirror_mode": {
    "name": "ipython",
    "version": 3
   },
   "file_extension": ".py",
   "mimetype": "text/x-python",
   "name": "python",
   "nbconvert_exporter": "python",
   "pygments_lexer": "ipython3",
   "version": "3.9.18"
  }
 },
 "nbformat": 4,
 "nbformat_minor": 2
}
