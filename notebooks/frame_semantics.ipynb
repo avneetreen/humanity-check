{
 "cells": [
  {
   "cell_type": "code",
   "execution_count": null,
   "metadata": {},
   "outputs": [],
   "source": [
    "from frame_semantic_transformer import FrameSemanticTransformer\n",
    "import pickle\n",
    "import logging\n",
    "logger = logging.getLogger()\n",
    "import spacy\n",
    "import pandas as pd"
   ]
  },
  {
   "cell_type": "code",
   "execution_count": null,
   "metadata": {},
   "outputs": [],
   "source": [
    "nlp = spacy.load(\"en_core_web_sm\")"
   ]
  },
  {
   "cell_type": "code",
   "execution_count": null,
   "metadata": {},
   "outputs": [],
   "source": [
    "import pandas as pd\n",
    "import pickle\n",
    "\n",
    "def process_article(article_text: str):\n",
    "    \"\"\"Tokenize the article into sentences and clean them.\"\"\"\n",
    "    doc = nlp(article_text)\n",
    "    return [sent.text.strip() for sent in doc.sents if sent.text.strip()]\n",
    "\n",
    "def get_frame_semantics_docs(filename: str, region: str):\n",
    "    \"\"\"Process documents to extract frame semantics and save periodically.\"\"\"\n",
    "    df = pd.read_csv(filename)\n",
    "    print(df.shape)\n",
    "    frame_transformer = FrameSemanticTransformer(batch_size=32)\n",
    "    results = {\"index\": [], \"frame_semantics\": [], 'title': []}\n",
    "\n",
    "    for index, row in df.iterrows():\n",
    "        try:\n",
    "            headline = row['title']\n",
    "            sentences = process_article(row['maintext'])\n",
    "            print(len(sentences))\n",
    "            \n",
    "            # Create batches of sentences\n",
    "            batch_size = 32\n",
    "            sentence_batches = [sentences[i:i + batch_size] for i in range(0, len(sentences), batch_size)]\n",
    "            \n",
    "            doc_semantics = []\n",
    "            for batch in sentence_batches:\n",
    "                batch_semantics = frame_transformer.detect_frames_bulk(batch)\n",
    "                print(batch_semantics)\n",
    "                doc_semantics.extend(batch_semantics)\n",
    "            \n",
    "            results['title'].append(headline)\n",
    "            results['index'].append(index)\n",
    "            results['frame_semantics'].append(doc_semantics)\n",
    "            \n",
    "            # Save periodically or based on some condition\n",
    "            if len(results['index']) % 100 == 0:\n",
    "                save_results(results, region)\n",
    "\n",
    "        except Exception as e:\n",
    "            logger.error(f\"Error processing index {index}: {e}\")\n",
    "            pass\n",
    "\n",
    "    # Save remaining results at the end of processing\n",
    "    if results['index']:\n",
    "        save_results(results, region)\n",
    "\n",
    "def save_results(results, region):\n",
    "    \"\"\"Save the processed results to a pickle file.\"\"\"\n",
    "    filename = f\"../data/processed/doc_semantics/frame_semantics_{region}.pickle\"\n",
    "    with open(filename, 'wb') as f:\n",
    "        pickle.dump(results, f)\n",
    "    print(f\"Saved results to {filename}\")\n",
    "\n",
    "if __name__ == \"__main__\":\n",
    "    regions = [\"UK\", \"US\", \"MiddleEast\"]\n",
    "    for region in regions:\n",
    "        get_frame_semantics_docs(f\"../data/raw/filtered_data/{region}.csv\", region)"
   ]
  },
  {
   "cell_type": "code",
   "execution_count": null,
   "metadata": {},
   "outputs": [],
   "source": [
    "with open(\"../data/processed/doc_semantics/frame_semantics_UK.pickle\", \"rb\") as f:\n",
    "    frame_semantics = pickle.load(f)"
   ]
  },
  {
   "cell_type": "code",
   "execution_count": null,
   "metadata": {},
   "outputs": [],
   "source": [
    "frame_semantics['frame_semantics'][3][0]"
   ]
  },
  {
   "cell_type": "code",
   "execution_count": null,
   "metadata": {},
   "outputs": [],
   "source": [
    "for batch in frame_semantics['frame_semantics']:\n",
    "    print(batch[0])"
   ]
  },
  {
   "cell_type": "code",
   "execution_count": 20,
   "metadata": {},
   "outputs": [],
   "source": [
    "import pandas as pd\n",
    "regions = [\"UK\", \"US\", \"MiddleEast\"]\n",
    "region = regions[2]\n",
    "df = pd.read_csv(f\"../data/raw/filtered_data/{region}.csv\")"
   ]
  },
  {
   "cell_type": "code",
   "execution_count": 26,
   "metadata": {},
   "outputs": [],
   "source": [
    "text = df['maintext'].values"
   ]
  },
  {
   "cell_type": "code",
   "execution_count": 37,
   "metadata": {},
   "outputs": [
    {
     "name": "stdout",
     "output_type": "stream",
     "text": [
      "1712\n"
     ]
    }
   ],
   "source": [
    "for data in range(0,len(text)): \n",
    "    if type(text[data])==str and \"They then lost contact with the team and with Hind\" in text[data]:\n",
    "        print(data)"
   ]
  },
  {
   "cell_type": "code",
   "execution_count": null,
   "metadata": {},
   "outputs": [],
   "source": []
  },
  {
   "cell_type": "code",
   "execution_count": 39,
   "metadata": {},
   "outputs": [
    {
     "name": "stderr",
     "output_type": "stream",
     "text": [
      "/Users/avtk/miniconda3/envs/riveterEnv/lib/python3.9/site-packages/tqdm/auto.py:21: TqdmWarning: IProgress not found. Please update jupyter and ipywidgets. See https://ipywidgets.readthedocs.io/en/stable/user_install.html\n",
      "  from .autonotebook import tqdm as notebook_tqdm\n"
     ]
    }
   ],
   "source": [
    "import pickle\n",
    "with open(\"../data/processed/doc_semantics/frame_semantics_MiddleEast.pickle\", \"rb\") as f:\n",
    "    frame_semantics = pickle.load(f)"
   ]
  },
  {
   "cell_type": "code",
   "execution_count": 47,
   "metadata": {},
   "outputs": [
    {
     "data": {
      "text/plain": [
       "[DetectFramesResult(sentence='Occupied Jerusalem, SANA- Dozens of Palestinians were martyred and others were injured as a result of the continued Israeli aggression on the war-ravaged Gaza Strip for the 131st day in a row.', trigger_locations=[0, 67, 79, 179], frames=[FrameResult(name='Residence', trigger_location=0, frame_elements=[FrameElementResult(name='Location', text='Jerusalem')]), FrameResult(name='Increment', trigger_location=67, frame_elements=[FrameElementResult(name='Class', text='others')]), FrameResult(name='Cause_harm', trigger_location=79, frame_elements=[FrameElementResult(name='Victim', text='others'), FrameElementResult(name='Explanation', text='as a result of the continued Israeli aggression on the war-ravaged Gaza Strip')]), FrameResult(name='Calendric_unit', trigger_location=179, frame_elements=[FrameElementResult(name='Count', text='131st'), FrameElementResult(name='Unit', text='day')])]),\n",
       " DetectFramesResult(sentence='Wafa Agency reported that during the past hours, the Israeli occupation committed a new massacre in al-Nuseirat camp in the central Gaza Strip after bombing a house, which led to the martyrdom of 14 Palestinians and the injury of dozens.', trigger_locations=[12, 72, 84, 88, 149, 159, 172], frames=[FrameResult(name='Statement', trigger_location=12, frame_elements=[FrameElementResult(name='Speaker', text='Wafa Agency'), FrameElementResult(name='Message', text='that during the past hours, the Israeli occupation committed a new massacre in al-Nuseirat camp in the central Gaza Strip after bombing a house, which led to the martyrdom of 14 Palestinians and the injury of dozens')]), FrameResult(name='Committing_crime', trigger_location=72, frame_elements=[FrameElementResult(name='Perpetrator', text='the Israeli occupation'), FrameElementResult(name='Crime', text='a new massacre in al-Nuseirat camp in the central Gaza Strip'), FrameElementResult(name='Time', text='after bombing a house, which led to the martyrdom of 14 Palestinians and the injury of dozens')]), FrameResult(name='Familiarity', trigger_location=84, frame_elements=[FrameElementResult(name='Entity', text='massacre')]), FrameResult(name='Killing', trigger_location=88, frame_elements=[FrameElementResult(name='Time', text='after bombing a house'), FrameElementResult(name='Killer', text='the Israeli occupation'), FrameElementResult(name='Place', text='in al-Nuseirat camp in the central Gaza Strip')]), FrameResult(name='Attack', trigger_location=149, frame_elements=[FrameElementResult(name='Assailant', text='the Israeli occupation'), FrameElementResult(name='Victim', text='a house')]), FrameResult(name='Buildings', trigger_location=159, frame_elements=[FrameElementResult(name='Building', text='house')]), FrameResult(name='Causation', trigger_location=172, frame_elements=[FrameElementResult(name='Cause', text='which'), FrameElementResult(name='Effect', text='to the martyrdom of 14 Palestinians and the injury of dozens')])]),\n",
       " DetectFramesResult(sentence='The Israeli aircraft also launched a series of raids on several homes and in Abu Araban area behind al-Aqsa Martyrs Hospital, west of the camp, which led to the martyrdom of ten Palestinians and the injury of others.', trigger_locations=[26, 47, 64, 150], frames=[FrameResult(name='Shoot_projectiles', trigger_location=26, frame_elements=[FrameElementResult(name='Agent', text='The Israeli aircraft'), FrameElementResult(name='Projectile', text='a series of raids on several homes and in Abu Araban area behind al-Aqsa Martyrs Hospital, west of the camp')]), FrameResult(name='Attack', trigger_location=47, frame_elements=[FrameElementResult(name='Assailant', text='The Israeli aircraft'), FrameElementResult(name='Victim', text='on several homes and in Abu Araban area behind al-Aqsa Martyrs Hospital, west of the camp')]), FrameResult(name='Buildings', trigger_location=64, frame_elements=[FrameElementResult(name='Building', text='homes')]), FrameResult(name='Causation', trigger_location=150, frame_elements=[FrameElementResult(name='Cause', text='which'), FrameElementResult(name='Effect', text='to the martyrdom of ten Palestinians and the injury of others')])]),\n",
       " DetectFramesResult(sentence='In Gaza City, the occupation aircraft launched two raids on homes in al-Zeitoun neighborhood, southeast of Gaza City, and Tal al-Hawa in the southwest, which led to the martyrdom of 9 Palestinians, including children and women.', trigger_locations=[38, 51, 60, 158, 198, 208, 221], frames=[FrameResult(name='Shoot_projectiles', trigger_location=38, frame_elements=[FrameElementResult(name='Agent', text='the occupation aircraft'), FrameElementResult(name='Projectile', text='two raids on homes in al-Zeitoun neighborhood, southeast of Gaza City, and Tal al-Hawa in the southwest')]), FrameResult(name='Attack', trigger_location=51, frame_elements=[FrameElementResult(name='Place', text='In Gaza City'), FrameElementResult(name='Assailant', text='the occupation aircraft'), FrameElementResult(name='Victim', text='on homes in al-Zeitoun neighborhood, southeast of Gaza City, and Tal al-Hawa in the southwest')]), FrameResult(name='Buildings', trigger_location=60, frame_elements=[FrameElementResult(name='Building', text='homes'), FrameElementResult(name='Place', text='in al-Zeitoun neighborhood, southeast of Gaza City')]), FrameResult(name='Causation', trigger_location=158, frame_elements=[FrameElementResult(name='Cause', text='which'), FrameElementResult(name='Effect', text='to the martyrdom of 9 Palestinians, including children and women')]), FrameResult(name='Inclusion', trigger_location=198, frame_elements=[FrameElementResult(name='Total', text='9 Palestinians'), FrameElementResult(name='Part', text='children and women')]), FrameResult(name='People_by_age', trigger_location=208, frame_elements=[FrameElementResult(name='Person', text='children')]), FrameResult(name='People', trigger_location=221, frame_elements=[FrameElementResult(name='Person', text='women')])]),\n",
       " DetectFramesResult(sentence='A number of Palestinians were also martyred and others were injured as a result of the bombing of a car in the vicinity of Asqoula intersection in the city, coinciding with the martyrdom of a family consisting of 4 members, including an infant, as a result of the aircraft bombing a car near the Sheikh Radwan pool, north of the city.', trigger_locations=[2, 35, 48, 60, 87, 100, 192, 215, 224, 273, 283, 329], frames=[FrameResult(name='Quantified_mass', trigger_location=2, frame_elements=[FrameElementResult(name='Quantity', text='number'), FrameElementResult(name='Individuals', text='of Palestinians')]), FrameResult(name='Killing', trigger_location=35, frame_elements=[FrameElementResult(name='Victim', text='A number of Palestinians')]), FrameResult(name='Increment', trigger_location=48, frame_elements=[FrameElementResult(name='Class', text='others')]), FrameResult(name='Cause_harm', trigger_location=60, frame_elements=[FrameElementResult(name='Victim', text='others'), FrameElementResult(name='Explanation', text='as a result of the bombing of a car in the vicinity of Asqoula intersection in the city')]), FrameResult(name='Attack', trigger_location=87, frame_elements=[FrameElementResult(name='Victim', text='of a car'), FrameElementResult(name='Place', text='in the vicinity of Asqoula intersection in the city')]), FrameResult(name='Vehicle', trigger_location=100, frame_elements=[FrameElementResult(name='Vehicle', text='car')]), FrameResult(name='Kinship', trigger_location=192, frame_elements=[FrameElementResult(name='Relatives', text='family')]), FrameResult(name='Membership', trigger_location=215, frame_elements=[FrameElementResult(name='Member', text='members')]), FrameResult(name='Inclusion', trigger_location=224, frame_elements=[FrameElementResult(name='Total', text='4 members'), FrameElementResult(name='Part', text='an infant')]), FrameResult(name='Attack', trigger_location=273, frame_elements=[FrameElementResult(name='Weapon', text='aircraft'), FrameElementResult(name='Victim', text='a car'), FrameElementResult(name='Place', text='near the Sheikh Radwan pool, north of the city')]), FrameResult(name='Vehicle', trigger_location=283, frame_elements=[FrameElementResult(name='Vehicle', text='car')]), FrameResult(name='Political_locales', trigger_location=329, frame_elements=[FrameElementResult(name='Locale', text='city')])]),\n",
       " DetectFramesResult(sentence='Two Palestinians were injured in an occupation drone bombing inside Baptist Hospital in Gaza City, while Israeli aircraft launched three other raids on the northwestern area of the city, where smoke rose from the targeted places.', trigger_locations=[22, 53, 122, 143, 169, 181, 199, 222], frames=[FrameResult(name='Cause_harm', trigger_location=22, frame_elements=[FrameElementResult(name='Victim', text='Two Palestinians'), FrameElementResult(name='Place', text='in an occupation drone bombing inside Baptist Hospital in Gaza City'), FrameElementResult(name='Time', text='while Israeli aircraft launched three other raids on the northwestern area of the city, where smoke rose from the targeted places')]), FrameResult(name='Attack', trigger_location=53, frame_elements=[FrameElementResult(name='Assailant', text='occupation drone'), FrameElementResult(name='Place', text='inside Baptist Hospital in Gaza City')]), FrameResult(name='Shoot_projectiles', trigger_location=122, frame_elements=[FrameElementResult(name='Agent', text='Israeli aircraft'), FrameElementResult(name='Projectile', text='three other raids on the northwestern area of the city, where smoke rose from the targeted places')]), FrameResult(name='Attack', trigger_location=143, frame_elements=[FrameElementResult(name='Assailant', text='Israeli aircraft'), FrameElementResult(name='Victim', text='on the northwestern area of the city, where smoke rose from the targeted places')]), FrameResult(name='Locale', trigger_location=169, frame_elements=[FrameElementResult(name='Name', text='northwestern'), FrameElementResult(name='Locale', text='area'), FrameElementResult(name='Container_possessor', text='of the city')]), FrameResult(name='Political_locales', trigger_location=181, frame_elements=[FrameElementResult(name='Locale', text='city')]), FrameResult(name='Motion_directional', trigger_location=199, frame_elements=[FrameElementResult(name='Theme', text='smoke'), FrameElementResult(name='Source', text='from the targeted places')]), FrameResult(name='Locale', trigger_location=222, frame_elements=[FrameElementResult(name='Descriptor', text='targeted'), FrameElementResult(name='Locale', text='places')])]),\n",
       " DetectFramesResult(sentence='Meanwhile, in southern Gaza Strip, the Palestinian Ministry of Health stated that the occupation drones opened fire at the doctors’ room in the surgery department on the third floor of Nasser Medical Complex in the city of Khan Yunis, causing the injury of one of the emergency doctors.', trigger_locations=[70, 235, 247, 278], frames=[FrameResult(name='Statement', trigger_location=70, frame_elements=[FrameElementResult(name='Time', text='Meanwhile'), FrameElementResult(name='Place', text='in southern Gaza Strip'), FrameElementResult(name='Speaker', text='the Palestinian Ministry of Health'), FrameElementResult(name='Message', text='that the occupation drones opened fire at the doctors ’ room in the surgery department on the third floor of Nasser Medical Complex in the city of Khan Yunis, causing the injury of one of the emergency doctors')]), FrameResult(name='Causation', trigger_location=235, frame_elements=[FrameElementResult(name='Cause', text='the occupation drones opened fire at the doctors ’ room in the surgery department on the third floor of Nasser Medical Complex in the city of Khan Yunis'), FrameElementResult(name='Effect', text='the injury of one of the emergency doctors')]), FrameResult(name='Medical_conditions', trigger_location=247, frame_elements=[FrameElementResult(name='Patient', text='of one of the emergency doctors')]), FrameResult(name='Medical_professionals', trigger_location=278, frame_elements=[FrameElementResult(name='Type', text='emergency'), FrameElementResult(name='Professional', text='doctors')])]),\n",
       " DetectFramesResult(sentence='In northern Gaza Strip, the occupation aircraft launched two raids in the vicinity of al-Tawam area, northwest of the Gaza Strip, amid continued bombing of eastern Jabalia.', trigger_locations=[39, 48, 61, 145], frames=[FrameResult(name='Vehicle', trigger_location=39, frame_elements=[FrameElementResult(name='Possessor', text='occupation'), FrameElementResult(name='Vehicle', text='aircraft')]), FrameResult(name='Shoot_projectiles', trigger_location=48, frame_elements=[FrameElementResult(name='Place', text='In northern Gaza Strip'), FrameElementResult(name='Agent', text='the occupation aircraft'), FrameElementResult(name='Projectile', text='two raids'), FrameElementResult(name='Area', text='in the vicinity of al-Tawam area, northwest of the Gaza Strip')]), FrameResult(name='Attack', trigger_location=61, frame_elements=[FrameElementResult(name='Place', text='in the vicinity of al-Tawam area, northwest of the Gaza Strip'), FrameElementResult(name='Assailant', text='the occupation aircraft'), FrameElementResult(name='Time', text='amid continued bombing of eastern Jabalia')]), FrameResult(name='Attack', trigger_location=145, frame_elements=[FrameElementResult(name='Manner', text='continued'), FrameElementResult(name='Victim', text='of eastern Jabalia')])]),\n",
       " DetectFramesResult(sentence='Manar Salameh/ Ruaa al-Jazaeri', trigger_locations=[], frames=[])]"
      ]
     },
     "execution_count": 47,
     "metadata": {},
     "output_type": "execute_result"
    }
   ],
   "source": [
    "(frame_semantics['frame_semantics'][1299])"
   ]
  },
  {
   "cell_type": "code",
   "execution_count": 56,
   "metadata": {},
   "outputs": [],
   "source": [
    "import pickle\n",
    "with open(\"../data/processed/frame_semantics/frame_semantics_UK_main.pickle\", \"rb\") as f: \n",
    "    data = pickle.load(f)"
   ]
  },
  {
   "cell_type": "code",
   "execution_count": 57,
   "metadata": {},
   "outputs": [
    {
     "data": {
      "text/plain": [
       "2001"
      ]
     },
     "execution_count": 57,
     "metadata": {},
     "output_type": "execute_result"
    }
   ],
   "source": [
    "len(data['index'])"
   ]
  },
  {
   "cell_type": "code",
   "execution_count": null,
   "metadata": {},
   "outputs": [],
   "source": []
  }
 ],
 "metadata": {
  "kernelspec": {
   "display_name": "riveterEnv",
   "language": "python",
   "name": "python3"
  },
  "language_info": {
   "codemirror_mode": {
    "name": "ipython",
    "version": 3
   },
   "file_extension": ".py",
   "mimetype": "text/x-python",
   "name": "python",
   "nbconvert_exporter": "python",
   "pygments_lexer": "ipython3",
   "version": "3.9.18"
  }
 },
 "nbformat": 4,
 "nbformat_minor": 2
}
