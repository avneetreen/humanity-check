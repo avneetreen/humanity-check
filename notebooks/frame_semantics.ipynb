{
 "cells": [
  {
   "cell_type": "code",
   "execution_count": null,
   "metadata": {},
   "outputs": [],
   "source": [
    "from frame_semantic_transformer import FrameSemanticTransformer\n",
    "import pickle\n",
    "import logging\n",
    "logger = logging.getLogger()\n",
    "import spacy\n",
    "import pandas as pd"
   ]
  },
  {
   "cell_type": "code",
   "execution_count": null,
   "metadata": {},
   "outputs": [],
   "source": [
    "nlp = spacy.load(\"en_core_web_sm\")"
   ]
  },
  {
   "cell_type": "code",
   "execution_count": null,
   "metadata": {},
   "outputs": [],
   "source": [
    "import pandas as pd\n",
    "import pickle\n",
    "\n",
    "def process_article(article_text: str):\n",
    "    \"\"\"Tokenize the article into sentences and clean them.\"\"\"\n",
    "    doc = nlp(article_text)\n",
    "    return [sent.text.strip() for sent in doc.sents if sent.text.strip()]\n",
    "\n",
    "def get_frame_semantics_docs(filename: str, region: str):\n",
    "    \"\"\"Process documents to extract frame semantics and save periodically.\"\"\"\n",
    "    df = pd.read_csv(filename)\n",
    "    print(df.shape)\n",
    "    frame_transformer = FrameSemanticTransformer(batch_size=32)\n",
    "    results = {\"index\": [], \"frame_semantics\": [], 'title': []}\n",
    "\n",
    "    for index, row in df.iterrows():\n",
    "        try:\n",
    "            headline = row['title']\n",
    "            sentences = process_article(row['maintext'])\n",
    "            print(len(sentences))\n",
    "            \n",
    "            # Create batches of sentences\n",
    "            batch_size = 32\n",
    "            sentence_batches = [sentences[i:i + batch_size] for i in range(0, len(sentences), batch_size)]\n",
    "            \n",
    "            doc_semantics = []\n",
    "            for batch in sentence_batches:\n",
    "                batch_semantics = frame_transformer.detect_frames_bulk(batch)\n",
    "                print(batch_semantics)\n",
    "                doc_semantics.extend(batch_semantics)\n",
    "            \n",
    "            results['title'].append(headline)\n",
    "            results['index'].append(index)\n",
    "            results['frame_semantics'].append(doc_semantics)\n",
    "            \n",
    "            # Save periodically or based on some condition\n",
    "            if len(results['index']) % 100 == 0:\n",
    "                save_results(results, region)\n",
    "\n",
    "        except Exception as e:\n",
    "            logger.error(f\"Error processing index {index}: {e}\")\n",
    "            pass\n",
    "\n",
    "    # Save remaining results at the end of processing\n",
    "    if results['index']:\n",
    "        save_results(results, region)\n",
    "\n",
    "def save_results(results, region):\n",
    "    \"\"\"Save the processed results to a pickle file.\"\"\"\n",
    "    filename = f\"../data/processed/doc_semantics/frame_semantics_{region}.pickle\"\n",
    "    with open(filename, 'wb') as f:\n",
    "        pickle.dump(results, f)\n",
    "    print(f\"Saved results to {filename}\")\n",
    "\n",
    "if __name__ == \"__main__\":\n",
    "    regions = [\"UK\", \"US\", \"MiddleEast\"]\n",
    "    for region in regions:\n",
    "        get_frame_semantics_docs(f\"../data/raw/filtered_data/{region}.csv\", region)"
   ]
  },
  {
   "cell_type": "code",
   "execution_count": null,
   "metadata": {},
   "outputs": [],
   "source": [
    "with open(\"../data/processed/doc_semantics/frame_semantics_UK.pickle\", \"rb\") as f:\n",
    "    frame_semantics = pickle.load(f)"
   ]
  },
  {
   "cell_type": "code",
   "execution_count": null,
   "metadata": {},
   "outputs": [],
   "source": [
    "frame_semantics['frame_semantics'][3][0]"
   ]
  },
  {
   "cell_type": "code",
   "execution_count": null,
   "metadata": {},
   "outputs": [],
   "source": [
    "for batch in frame_semantics['frame_semantics']:\n",
    "    print(batch[0])"
   ]
  },
  {
   "cell_type": "code",
   "execution_count": null,
   "metadata": {},
   "outputs": [],
   "source": []
  }
 ],
 "metadata": {
  "kernelspec": {
   "display_name": "riveterEnv",
   "language": "python",
   "name": "python3"
  },
  "language_info": {
   "codemirror_mode": {
    "name": "ipython",
    "version": 3
   },
   "file_extension": ".py",
   "mimetype": "text/x-python",
   "name": "python",
   "nbconvert_exporter": "python",
   "pygments_lexer": "ipython3",
   "version": "3.9.18"
  }
 },
 "nbformat": 4,
 "nbformat_minor": 2
}
