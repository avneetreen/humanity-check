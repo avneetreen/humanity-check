{
 "cells": [
  {
   "cell_type": "code",
   "execution_count": 6,
   "metadata": {},
   "outputs": [
    {
     "name": "stdout",
     "output_type": "stream",
     "text": [
      "Requirement already satisfied: gensim in /Users/avtk/miniconda3/envs/bert/lib/python3.11/site-packages (4.3.2)\n",
      "Requirement already satisfied: numpy>=1.18.5 in /Users/avtk/miniconda3/envs/bert/lib/python3.11/site-packages (from gensim) (1.26.3)\n",
      "Requirement already satisfied: scipy>=1.7.0 in /Users/avtk/miniconda3/envs/bert/lib/python3.11/site-packages (from gensim) (1.11.4)\n",
      "Requirement already satisfied: smart-open>=1.8.1 in /Users/avtk/miniconda3/envs/bert/lib/python3.11/site-packages (from gensim) (6.4.0)\n",
      "Requirement already satisfied: pyldavis in /Users/avtk/miniconda3/envs/bert/lib/python3.11/site-packages (3.4.1)\n",
      "Requirement already satisfied: numpy>=1.24.2 in /Users/avtk/miniconda3/envs/bert/lib/python3.11/site-packages (from pyldavis) (1.26.3)\n",
      "Requirement already satisfied: scipy in /Users/avtk/miniconda3/envs/bert/lib/python3.11/site-packages (from pyldavis) (1.11.4)\n",
      "Requirement already satisfied: pandas>=2.0.0 in /Users/avtk/miniconda3/envs/bert/lib/python3.11/site-packages (from pyldavis) (2.1.4)\n",
      "Requirement already satisfied: joblib>=1.2.0 in /Users/avtk/miniconda3/envs/bert/lib/python3.11/site-packages (from pyldavis) (1.2.0)\n",
      "Requirement already satisfied: jinja2 in /Users/avtk/miniconda3/envs/bert/lib/python3.11/site-packages (from pyldavis) (3.1.3)\n",
      "Requirement already satisfied: numexpr in /Users/avtk/miniconda3/envs/bert/lib/python3.11/site-packages (from pyldavis) (2.8.7)\n",
      "Requirement already satisfied: funcy in /Users/avtk/miniconda3/envs/bert/lib/python3.11/site-packages (from pyldavis) (2.0)\n",
      "Requirement already satisfied: scikit-learn>=1.0.0 in /Users/avtk/miniconda3/envs/bert/lib/python3.11/site-packages (from pyldavis) (1.2.2)\n",
      "Requirement already satisfied: gensim in /Users/avtk/miniconda3/envs/bert/lib/python3.11/site-packages (from pyldavis) (4.3.2)\n",
      "Requirement already satisfied: setuptools in /Users/avtk/miniconda3/envs/bert/lib/python3.11/site-packages (from pyldavis) (68.2.2)\n",
      "Requirement already satisfied: python-dateutil>=2.8.2 in /Users/avtk/miniconda3/envs/bert/lib/python3.11/site-packages (from pandas>=2.0.0->pyldavis) (2.8.2)\n",
      "Requirement already satisfied: pytz>=2020.1 in /Users/avtk/miniconda3/envs/bert/lib/python3.11/site-packages (from pandas>=2.0.0->pyldavis) (2023.3.post1)\n",
      "Requirement already satisfied: tzdata>=2022.1 in /Users/avtk/miniconda3/envs/bert/lib/python3.11/site-packages (from pandas>=2.0.0->pyldavis) (2023.3)\n",
      "Requirement already satisfied: threadpoolctl>=2.0.0 in /Users/avtk/miniconda3/envs/bert/lib/python3.11/site-packages (from scikit-learn>=1.0.0->pyldavis) (2.2.0)\n",
      "Requirement already satisfied: smart-open>=1.8.1 in /Users/avtk/miniconda3/envs/bert/lib/python3.11/site-packages (from gensim->pyldavis) (6.4.0)\n",
      "Requirement already satisfied: MarkupSafe>=2.0 in /Users/avtk/miniconda3/envs/bert/lib/python3.11/site-packages (from jinja2->pyldavis) (2.1.5)\n",
      "Requirement already satisfied: six>=1.5 in /Users/avtk/miniconda3/envs/bert/lib/python3.11/site-packages (from python-dateutil>=2.8.2->pandas>=2.0.0->pyldavis) (1.16.0)\n",
      "Requirement already satisfied: matplotlib in /Users/avtk/miniconda3/envs/bert/lib/python3.11/site-packages (3.8.3)\n",
      "Requirement already satisfied: contourpy>=1.0.1 in /Users/avtk/miniconda3/envs/bert/lib/python3.11/site-packages (from matplotlib) (1.2.0)\n",
      "Requirement already satisfied: cycler>=0.10 in /Users/avtk/miniconda3/envs/bert/lib/python3.11/site-packages (from matplotlib) (0.12.1)\n",
      "Requirement already satisfied: fonttools>=4.22.0 in /Users/avtk/miniconda3/envs/bert/lib/python3.11/site-packages (from matplotlib) (4.49.0)\n",
      "Requirement already satisfied: kiwisolver>=1.3.1 in /Users/avtk/miniconda3/envs/bert/lib/python3.11/site-packages (from matplotlib) (1.4.5)\n",
      "Requirement already satisfied: numpy<2,>=1.21 in /Users/avtk/miniconda3/envs/bert/lib/python3.11/site-packages (from matplotlib) (1.26.3)\n",
      "Requirement already satisfied: packaging>=20.0 in /Users/avtk/miniconda3/envs/bert/lib/python3.11/site-packages (from matplotlib) (23.2)\n",
      "Requirement already satisfied: pillow>=8 in /Users/avtk/miniconda3/envs/bert/lib/python3.11/site-packages (from matplotlib) (10.2.0)\n",
      "Requirement already satisfied: pyparsing>=2.3.1 in /Users/avtk/miniconda3/envs/bert/lib/python3.11/site-packages (from matplotlib) (3.1.1)\n",
      "Requirement already satisfied: python-dateutil>=2.7 in /Users/avtk/miniconda3/envs/bert/lib/python3.11/site-packages (from matplotlib) (2.8.2)\n",
      "Requirement already satisfied: six>=1.5 in /Users/avtk/miniconda3/envs/bert/lib/python3.11/site-packages (from python-dateutil>=2.7->matplotlib) (1.16.0)\n"
     ]
    }
   ],
   "source": [
    "! pip install gensim \n",
    "! pip install pyldavis\n",
    "! pip install matplotlib\n",
    "\n",
    "\n"
   ]
  },
  {
   "cell_type": "code",
   "execution_count": 7,
   "metadata": {},
   "outputs": [
    {
     "name": "stdout",
     "output_type": "stream",
     "text": [
      "Intel MKL WARNING: Support of Intel(R) Streaming SIMD Extensions 4.2 (Intel(R) SSE4.2) enabled only processors has been deprecated. Intel oneAPI Math Kernel Library 2025.0 will require Intel(R) Advanced Vector Extensions (Intel(R) AVX) instructions.\n",
      "Intel MKL WARNING: Support of Intel(R) Streaming SIMD Extensions 4.2 (Intel(R) SSE4.2) enabled only processors has been deprecated. Intel oneAPI Math Kernel Library 2025.0 will require Intel(R) Advanced Vector Extensions (Intel(R) AVX) instructions.\n"
     ]
    }
   ],
   "source": [
    "import matplotlib.pyplot as plt \n",
    "import logging \n",
    "import pandas as pd\n",
    "import json \n",
    "import glob \n",
    "from sklearn.feature_extraction.text import CountVectorizer, TfidfVectorizer\n",
    "from sklearn.decomposition import LatentDirichletAllocation\n",
    "from scipy.sparse import spmatrix \n",
    "import pyLDAvis.gensim_models\n",
    "import pyLDAvis\n",
    "import pyLDAvis.lda_model\n",
    "pyLDAvis.enable_notebook()\n",
    "logger = logging.getLogger()"
   ]
  },
  {
   "cell_type": "code",
   "execution_count": 8,
   "metadata": {},
   "outputs": [],
   "source": [
    "import glob \n",
    "def data_compactor(data_dir: str) -> None:\n",
    "    \"\"\"Read files from dir and combine into a dataframe\n",
    "\n",
    "    Args:\n",
    "        data_dir (str): name of sub folder to extract data from \n",
    "\n",
    "    Returns:\n",
    "        None: writes the dataframe to a csv file\n",
    "    \"\"\"\n",
    "    data_list = []\n",
    "    try:\n",
    "        for name in glob.glob(f\"../../data/raw/{data_dir}/*.json\"):\n",
    "            article = json.load(open(name,'r'))\n",
    "            data_list.append(article)\n",
    "    except FileNotFoundError as e: \n",
    "        logging.error(f\"File not found: {e}\")\n",
    "    else:   \n",
    "        df = pd.DataFrame(data_list)\n",
    "        req_cols = ['description', 'maintext', 'source_domain', 'title', 'url', 'language', 'date_publish']\n",
    "        df = df[req_cols]\n",
    "        df.to_csv(f\"../../data/processed/{data_dir}.csv\", index=False)\n",
    "    return"
   ]
  },
  {
   "cell_type": "code",
   "execution_count": 9,
   "metadata": {},
   "outputs": [],
   "source": [
    "data_compactor(\"UK\")\n",
    "#data_compactor(\"MiddleEast\")\n",
    "data_compactor(\"US\")"
   ]
  },
  {
   "cell_type": "markdown",
   "metadata": {},
   "source": []
  },
  {
   "cell_type": "code",
   "execution_count": 11,
   "metadata": {},
   "outputs": [],
   "source": [
    "df_UK = pd.read_csv(\"../../data/processed/UK.csv\")\n",
    "df_US = pd.read_csv(\"../../data/processed/US.csv\")"
   ]
  },
  {
   "cell_type": "code",
   "execution_count": 12,
   "metadata": {},
   "outputs": [],
   "source": [
    "df_UK_titles = df_UK[\"title\"]"
   ]
  },
  {
   "cell_type": "code",
   "execution_count": 20,
   "metadata": {},
   "outputs": [],
   "source": [
    "def get_tfidf_scores(raw_df: pd.DataFrame)-> tuple:\n",
    "    \"\"\"Function to generate TF-IDF\n",
    "\n",
    "    Args:\n",
    "        raw_df (pd.DataFrame): _description_\n",
    "    \"\"\"\n",
    "    tf_vectorizer = CountVectorizer(strip_accents = 'unicode',\n",
    "                                    stop_words = 'english',\n",
    "                                    lowercase = True,\n",
    "                                    token_pattern = r'\\b[a-zA-Z]{3,}\\b',\n",
    "                                    max_df = 0.5, \n",
    "                                    min_df = 0.01\n",
    "                                    )\n",
    "    tf = tf_vectorizer.fit_transform(raw_df)\n",
    "    tfidf_vectorizer = TfidfVectorizer(**tf_vectorizer.get_params())\n",
    "    tfidf= tfidf_vectorizer.fit_transform(raw_df)\n",
    "    return tf,tfidf,tfidf_vectorizer"
   ]
  },
  {
   "cell_type": "code",
   "execution_count": 27,
   "metadata": {},
   "outputs": [],
   "source": [
    "def lda_topic_modelling(tf: spmatrix, tfidf: spmatrix) -> tuple:\n",
    "    \"\"\"Function to run LDA on tf and tfidf matrices for the dataframes\n",
    "\n",
    "    Args:\n",
    "        tf (spmatrix): Term Frequency Matrix \n",
    "        tfidf (spmatrix): TFIDF Matrix \n",
    "\n",
    "    Returns:\n",
    "        : _description_\n",
    "    \"\"\"\n",
    "    # initialse model for term frequency matrix\n",
    "    lda_tf = LatentDirichletAllocation(n_components=10, random_state=0)\n",
    "    lda_tf.fit(tf)\n",
    "\n",
    "    # initialise model for tfidf matrix \n",
    "    lda_tfidf = LatentDirichletAllocation(n_components=10, random_state=0)\n",
    "    lda_tfidf.fit(tfidf)\n",
    "\n",
    "    return lda_tf, lda_tfidf"
   ]
  },
  {
   "cell_type": "code",
   "execution_count": 28,
   "metadata": {},
   "outputs": [],
   "source": [
    "tf, tf_idf, tf_vectorizer = get_tfidf_scores(df_UK_titles)\n",
    "lda_tf, lda_tfidf = lda_topic_modelling(tf, tf_idf)\n",
    "\n"
   ]
  },
  {
   "cell_type": "code",
   "execution_count": 29,
   "metadata": {},
   "outputs": [
    {
     "name": "stdout",
     "output_type": "stream",
     "text": [
      "Topic 0:\n",
      "happened aid gaza israel war says biden say hostages president\n",
      "Topic 1:\n",
      "ukraine russia attack putin soldiers war american nato ukrainian troops\n",
      "Topic 2:\n",
      "israel hamas idf new war gaza missile leader terror terrorists\n",
      "Topic 3:\n",
      "market research billion reach forecast stratview says japan aircraft korea\n",
      "Topic 4:\n",
      "gaza israeli hospital israel forces palestinians killed shifa hostage says\n",
      "Topic 5:\n",
      "russian army west people hezbollah dead bank border israeli plane\n",
      "Topic 6:\n",
      "gaza ceasefire calls netanyahu palestinian israel minister hamas shows civilians\n",
      "Topic 7:\n",
      "day pro conflict palestine london world group video know state\n",
      "Topic 8:\n",
      "military china support east talks kyiv navy ukraine weapons middle\n",
      "Topic 9:\n",
      "yemen sea red british houthi iran attacks drone ship houthis\n"
     ]
    }
   ],
   "source": [
    "for topic_idx, topic in enumerate(lda_tfidf.components_):\n",
    "    print(\"Topic %d:\" % (topic_idx))\n",
    "    print(\" \".join([tf_vectorizer.get_feature_names_out()[i] for i in topic.argsort()[:-10 - 1:-1]]))"
   ]
  },
  {
   "cell_type": "code",
   "execution_count": 30,
   "metadata": {},
   "outputs": [
    {
     "name": "stdout",
     "output_type": "stream",
     "text": [
      "Intel MKL WARNING: Support of Intel(R) Streaming SIMD Extensions 4.2 (Intel(R) SSE4.2) enabled only processors has been deprecated. Intel oneAPI Math Kernel Library 2025.0 will require Intel(R) Advanced Vector Extensions (Intel(R) AVX) instructions.\n",
      "Intel MKL WARNING: Support of Intel(R) Streaming SIMD Extensions 4.2 (Intel(R) SSE4.2) enabled only processors has been deprecated. Intel oneAPI Math Kernel Library 2025.0 will require Intel(R) Advanced Vector Extensions (Intel(R) AVX) instructions.\n",
      "Intel MKL WARNING: Support of Intel(R) Streaming SIMD Extensions 4.2 (Intel(R) SSE4.2) enabled only processors has been deprecated. Intel oneAPI Math Kernel Library 2025.0 will require Intel(R) Advanced Vector Extensions (Intel(R) AVX) instructions.\n",
      "Intel MKL WARNING: Support of Intel(R) Streaming SIMD Extensions 4.2 (Intel(R) SSE4.2) enabled only processors has been deprecated. Intel oneAPI Math Kernel Library 2025.0 will require Intel(R) Advanced Vector Extensions (Intel(R) AVX) instructions.\n",
      "Intel MKL WARNING: Support of Intel(R) Streaming SIMD Extensions 4.2 (Intel(R) SSE4.2) enabled only processors has been deprecated. Intel oneAPI Math Kernel Library 2025.0 will require Intel(R) Advanced Vector Extensions (Intel(R) AVX) instructions.\n",
      "Intel MKL WARNING: Support of Intel(R) Streaming SIMD Extensions 4.2 (Intel(R) SSE4.2) enabled only processors has been deprecated. Intel oneAPI Math Kernel Library 2025.0 will require Intel(R) Advanced Vector Extensions (Intel(R) AVX) instructions.\n",
      "Intel MKL WARNING: Support of Intel(R) Streaming SIMD Extensions 4.2 (Intel(R) SSE4.2) enabled only processors has been deprecated. Intel oneAPI Math Kernel Library 2025.0 will require Intel(R) Advanced Vector Extensions (Intel(R) AVX) instructions.\n",
      "Intel MKL WARNING: Support of Intel(R) Streaming SIMD Extensions 4.2 (Intel(R) SSE4.2) enabled only processors has been deprecated. Intel oneAPI Math Kernel Library 2025.0 will require Intel(R) Advanced Vector Extensions (Intel(R) AVX) instructions.\n",
      "Intel MKL WARNING: Support of Intel(R) Streaming SIMD Extensions 4.2 (Intel(R) SSE4.2) enabled only processors has been deprecated. Intel oneAPI Math Kernel Library 2025.0 will require Intel(R) Advanced Vector Extensions (Intel(R) AVX) instructions.\n",
      "Intel MKL WARNING: Support of Intel(R) Streaming SIMD Extensions 4.2 (Intel(R) SSE4.2) enabled only processors has been deprecated. Intel oneAPI Math Kernel Library 2025.0 will require Intel(R) Advanced Vector Extensions (Intel(R) AVX) instructions.\n",
      "Intel MKL WARNING: Support of Intel(R) Streaming SIMD Extensions 4.2 (Intel(R) SSE4.2) enabled only processors has been deprecated. Intel oneAPI Math Kernel Library 2025.0 will require Intel(R) Advanced Vector Extensions (Intel(R) AVX) instructions.\n",
      "Intel MKL WARNING: Support of Intel(R) Streaming SIMD Extensions 4.2 (Intel(R) SSE4.2) enabled only processors has been deprecated. Intel oneAPI Math Kernel Library 2025.0 will require Intel(R) Advanced Vector Extensions (Intel(R) AVX) instructions.\n",
      "Intel MKL WARNING: Support of Intel(R) Streaming SIMD Extensions 4.2 (Intel(R) SSE4.2) enabled only processors has been deprecated. Intel oneAPI Math Kernel Library 2025.0 will require Intel(R) Advanced Vector Extensions (Intel(R) AVX) instructions.Intel MKL WARNING: Support of Intel(R) Streaming SIMD Extensions 4.2 (Intel(R) SSE4.2) enabled only processors has been deprecated. Intel oneAPI Math Kernel Library 2025.0 will require Intel(R) Advanced Vector Extensions (Intel(R) AVX) instructions.\n",
      "\n",
      "Intel MKL WARNING: Support of Intel(R) Streaming SIMD Extensions 4.2 (Intel(R) SSE4.2) enabled only processors has been deprecated. Intel oneAPI Math Kernel Library 2025.0 will require Intel(R) Advanced Vector Extensions (Intel(R) AVX) instructions.\n",
      "Intel MKL WARNING: Support of Intel(R) Streaming SIMD Extensions 4.2 (Intel(R) SSE4.2) enabled only processors has been deprecated. Intel oneAPI Math Kernel Library 2025.0 will require Intel(R) Advanced Vector Extensions (Intel(R) AVX) instructions.\n",
      "Intel MKL WARNING: Support of Intel(R) Streaming SIMD Extensions 4.2 (Intel(R) SSE4.2) enabled only processors has been deprecated. Intel oneAPI Math Kernel Library 2025.0 will require Intel(R) Advanced Vector Extensions (Intel(R) AVX) instructions.\n",
      "Intel MKL WARNING: Support of Intel(R) Streaming SIMD Extensions 4.2 (Intel(R) SSE4.2) enabled only processors has been deprecated. Intel oneAPI Math Kernel Library 2025.0 will require Intel(R) Advanced Vector Extensions (Intel(R) AVX) instructions.\n",
      "Intel MKL WARNING: Support of Intel(R) Streaming SIMD Extensions 4.2 (Intel(R) SSE4.2) enabled only processors has been deprecated. Intel oneAPI Math Kernel Library 2025.0 will require Intel(R) Advanced Vector Extensions (Intel(R) AVX) instructions.\n",
      "Intel MKL WARNING: Support of Intel(R) Streaming SIMD Extensions 4.2 (Intel(R) SSE4.2) enabled only processors has been deprecated. Intel oneAPI Math Kernel Library 2025.0 will require Intel(R) Advanced Vector Extensions (Intel(R) AVX) instructions.\n",
      "Intel MKL WARNING: Support of Intel(R) Streaming SIMD Extensions 4.2 (Intel(R) SSE4.2) enabled only processors has been deprecated. Intel oneAPI Math Kernel Library 2025.0 will require Intel(R) Advanced Vector Extensions (Intel(R) AVX) instructions.\n",
      "Intel MKL WARNING: Support of Intel(R) Streaming SIMD Extensions 4.2 (Intel(R) SSE4.2) enabled only processors has been deprecated. Intel oneAPI Math Kernel Library 2025.0 will require Intel(R) Advanced Vector Extensions (Intel(R) AVX) instructions.\n"
     ]
    },
    {
     "data": {
      "text/html": [
       "\n",
       "<link rel=\"stylesheet\" type=\"text/css\" href=\"https://cdn.jsdelivr.net/gh/bmabey/pyLDAvis@3.4.0/pyLDAvis/js/ldavis.v1.0.0.css\">\n",
       "\n",
       "\n",
       "<div id=\"ldavis_el1264851823419682210979730\" style=\"background-color:white;\"></div>\n",
       "<script type=\"text/javascript\">\n",
       "\n",
       "var ldavis_el1264851823419682210979730_data = {\"mdsDat\": {\"x\": [-0.2540487999467628, -0.1528079860846256, 0.016282806842191182, 0.024093555361728657, -0.2297203866322424, 0.2823031598972074, 0.06661782518749666, 0.09227320322611192, -0.11675567991044554, 0.27176230205934065], \"y\": [-0.01877922741187434, -0.036265205144143824, -0.17096722849761403, -0.024299240982881408, -0.08598064931390179, -0.18468023244529866, 0.10158739224601601, 0.3985925990224327, 0.061145789986718345, -0.04035399745945268], \"topics\": [1, 2, 3, 4, 5, 6, 7, 8, 9, 10], \"cluster\": [1, 1, 1, 1, 1, 1, 1, 1, 1, 1], \"Freq\": [17.58932436373301, 13.833013795957536, 10.806240640023073, 10.724190584337562, 9.583251098125622, 8.754075662703475, 7.7996670832090675, 7.730044278386837, 7.238627753967776, 5.941564739556056]}, \"tinfo\": {\"Term\": [\"gaza\", \"hamas\", \"ukraine\", \"israel\", \"israeli\", \"market\", \"military\", \"russia\", \"happened\", \"research\", \"reach\", \"billion\", \"biden\", \"ceasefire\", \"sea\", \"forecast\", \"stratview\", \"war\", \"says\", \"yemen\", \"killed\", \"houthi\", \"attack\", \"pro\", \"russian\", \"red\", \"british\", \"attacks\", \"day\", \"palestinian\", \"leader\", \"idf\", \"hamas\", \"terrorists\", \"hostages\", \"death\", \"terror\", \"shifa\", \"israel\", \"hostage\", \"claims\", \"new\", \"year\", \"hospital\", \"near\", \"group\", \"chief\", \"weapons\", \"war\", \"footage\", \"fighting\", \"gaza\", \"family\", \"says\", \"october\", \"live\", \"warns\", \"raid\", \"aid\", \"days\", \"forces\", \"troops\", \"palestinians\", \"white\", \"refugee\", \"house\", \"israeli\", \"southern\", \"soldiers\", \"largest\", \"families\", \"forces\", \"dead\", \"shot\", \"killed\", \"raid\", \"family\", \"fighting\", \"army\", \"city\", \"airstrikes\", \"hospital\", \"gaza\", \"strike\", \"offensive\", \"north\", \"shifa\", \"hostage\", \"troops\", \"days\", \"live\", \"strikes\", \"says\", \"hostages\", \"west\", \"hezbollah\", \"bank\", \"lebanon\", \"base\", \"syria\", \"iraq\", \"know\", \"american\", \"border\", \"killing\", \"october\", \"attack\", \"kills\", \"iran\", \"backed\", \"drone\", \"army\", \"strike\", \"launches\", \"middle\", \"airstrikes\", \"east\", \"attacks\", \"warns\", \"troops\", \"warning\", \"palestinian\", \"air\", \"day\", \"hamas\", \"war\", \"killed\", \"israel\", \"biden\", \"israeli\", \"ukraine\", \"russia\", \"kyiv\", \"security\", \"nato\", \"plane\", \"russian\", \"ukrainian\", \"putin\", \"support\", \"drones\", \"warning\", \"live\", \"war\", \"offensive\", \"east\", \"report\", \"claims\", \"year\", \"troops\", \"conflict\", \"chief\", \"know\", \"border\", \"shot\", \"happened\", \"warns\", \"strike\", \"arms\", \"killed\", \"soldiers\", \"says\", \"day\", \"attack\", \"military\", \"ceasefire\", \"netanyahu\", \"calls\", \"humanitarian\", \"minister\", \"pause\", \"amid\", \"civilians\", \"shows\", \"footage\", \"conflict\", \"offensive\", \"gaza\", \"end\", \"congress\", \"talks\", \"city\", \"visit\", \"palestinian\", \"israel\", \"war\", \"secretary\", \"iranian\", \"missiles\", \"aid\", \"support\", \"house\", \"live\", \"hostages\", \"claims\", \"idf\", \"israeli\", \"hamas\", \"houthi\", \"ship\", \"rebels\", \"navy\", \"pentagon\", \"targets\", \"video\", \"sea\", \"yemen\", \"red\", \"talks\", \"china\", \"missiles\", \"missile\", \"iranian\", \"strikes\", \"middle\", \"backed\", \"iran\", \"launches\", \"weapons\", \"east\", \"drones\", \"attacks\", \"dead\", \"warns\", \"hit\", \"drone\", \"attack\", \"air\", \"conflict\", \"south\", \"korea\", \"austin\", \"nuclear\", \"zelensky\", \"lloyd\", \"officials\", \"say\", \"aid\", \"north\", \"report\", \"congress\", \"biden\", \"president\", \"secretary\", \"days\", \"visit\", \"defense\", \"china\", \"new\", \"warning\", \"japan\", \"putin\", \"missile\", \"deal\", \"weapons\", \"hospital\", \"ukrainian\", \"says\", \"middle\", \"war\", \"military\", \"market\", \"research\", \"reach\", \"billion\", \"forecast\", \"stratview\", \"aircraft\", \"million\", \"cagr\", \"says\", \"defense\", \"family\", \"refugee\", \"largest\", \"plane\", \"pause\", \"arms\", \"october\", \"officials\", \"near\", \"know\", \"visit\", \"warning\", \"base\", \"kills\", \"nato\", \"footage\", \"report\", \"shot\", \"support\", \"military\", \"year\", \"security\", \"hit\", \"amid\", \"dead\", \"end\", \"air\", \"lebanon\", \"new\", \"japan\", \"drone\", \"death\", \"chief\", \"minister\", \"navy\", \"warns\", \"pro\", \"people\", \"palestine\", \"government\", \"london\", \"state\", \"happened\", \"arms\", \"day\", \"hit\", \"palestinian\", \"group\", \"near\", \"president\", \"killing\", \"terror\", \"city\", \"families\", \"biden\", \"death\", \"fighting\", \"year\", \"syria\", \"chief\", \"conflict\", \"says\", \"new\", \"shot\", \"live\", \"claims\", \"attack\", \"israel\", \"idf\", \"british\", \"houthis\", \"world\", \"military\", \"deal\", \"japan\", \"end\", \"defense\", \"attacks\", \"air\", \"visit\", \"iranian\", \"red\", \"yemen\", \"sea\", \"drone\", \"iraq\", \"strikes\", \"troops\", \"kills\", \"video\", \"secretary\", \"drones\", \"southern\", \"hostage\", \"russian\", \"says\", \"family\", \"refugee\", \"largest\", \"israel\", \"idf\", \"shot\"], \"Freq\": [364.0, 229.0, 121.0, 316.0, 162.0, 80.0, 80.0, 84.0, 78.0, 61.0, 53.0, 52.0, 77.0, 49.0, 58.0, 44.0, 44.0, 195.0, 220.0, 54.0, 92.0, 38.0, 65.0, 31.0, 41.0, 41.0, 28.0, 45.0, 42.0, 45.0, 16.37257954178649, 55.9286675405522, 193.18902683298623, 16.89816343404699, 36.137496369894755, 15.319987336338748, 19.25148104966671, 26.585774439918275, 212.38858707875528, 16.723972599115218, 20.108682388824207, 20.05928608762436, 11.898183818428613, 37.57847790071258, 7.01030591315263, 10.615368375606572, 7.748756453142256, 7.137399240678387, 67.76239942175795, 4.493992118064874, 9.622340302567329, 99.0845740999948, 3.6537634517914808, 57.16022484023212, 3.863198805910048, 6.201159150955875, 6.746084142689095, 3.0066592523716738, 5.320650445060201, 2.0903514725465255, 3.923841811318681, 4.574511231441424, 32.79639119568182, 25.321397810468543, 13.174588855422838, 27.934772225408004, 141.62252029143244, 20.293222242620235, 31.37641793121723, 11.305952106735111, 13.174633674323863, 32.03373035357249, 15.04335529246342, 11.030901922051017, 61.60464024725985, 10.914386135513078, 8.559532684262974, 19.041953109225528, 13.94715430010027, 9.507584710387723, 11.655776535092082, 34.34370495379803, 116.90174976141826, 14.545053097013861, 4.553828195153681, 6.633747824443572, 9.165580051241715, 6.938896867347507, 14.430452952393937, 4.223738263093823, 5.921720321867638, 7.682606517795728, 32.98310701696908, 5.9241698600070345, 35.16717938588319, 24.451426536942208, 24.45141511142876, 15.683976808203361, 14.70979016906012, 13.735685459435928, 14.709777839119129, 11.787343404947148, 15.329296044089476, 11.723800482368455, 13.735584945777811, 10.646805799483737, 44.366402350903485, 10.382196340517936, 26.96094780071789, 14.50294240151463, 20.794373527749645, 14.878527220819254, 24.152649152923743, 8.330041631138702, 8.910404910453677, 10.813084436345985, 9.257056237973737, 12.950256038059916, 7.751581831233764, 14.493670660127677, 3.082898036037114, 8.301669131222631, 4.8968876732627304, 7.320852726662371, 32.15297269909657, 26.141571059206875, 13.51850693362104, 28.98737457099791, 11.601509679160635, 15.836786983317747, 120.34079241432721, 83.703072744656, 18.882508143996297, 18.882461863632532, 15.124794630119368, 13.245938952987855, 38.589551461971084, 17.772881485302726, 22.904008520625258, 11.559458472578417, 12.128498141905201, 7.609292164141152, 9.488458631162178, 55.63818280146316, 4.79102310273277, 6.465526889201987, 3.8516155026738943, 8.449467171998599, 5.157190647369072, 13.097410267597411, 6.425817115238477, 3.8516451570224017, 2.9121917304493055, 2.9569148444952758, 2.8112748544421784, 13.421703695187421, 4.970093125369863, 8.327599651893891, 2.425990745208715, 14.241804220753156, 5.27929256759701, 20.099617219524042, 5.050571410019339, 5.770510708677327, 6.056453388093621, 48.96379059949213, 31.67767848843446, 29.79984487743226, 25.008897729883174, 18.30151049912174, 13.510529362006011, 21.628174102378768, 24.050785544551307, 17.327253961962192, 10.762316510069867, 13.204119728563553, 7.020097856451698, 146.54923006269098, 5.844968433790024, 4.886735828912928, 6.62009463543623, 4.940466736115705, 2.9702770068074, 8.020312680920632, 52.254341441124524, 27.818623213455897, 2.204437072371316, 2.0121347444853246, 2.012129895860767, 3.355629391855248, 1.3461149160195622, 2.206742682534057, 1.70714831494564, 2.8838043972565632, 2.1413543363610863, 3.7565219365428955, 2.2049176692407815, 2.0306513846953576, 38.05644508925597, 26.77285512997905, 21.643961045493135, 18.566610886979586, 23.23882690548429, 15.489238871534264, 17.40456863651235, 45.7293676664074, 41.09711724683678, 30.912561994435112, 16.71100319782508, 18.8733450873377, 13.89050922508045, 20.48765564182113, 7.84064196840511, 19.31850175886334, 8.357186950294755, 10.578213215229864, 17.975681457471573, 6.490372551627301, 7.086416567260743, 8.430118093895624, 4.25808606016939, 9.661887643620824, 4.205600063219495, 5.931141289191987, 3.2202041206438463, 6.306136793175329, 10.317814031144913, 4.205604465776227, 3.8033225676932445, 29.618891469812848, 19.66659118655716, 17.607225273107403, 18.57852421014036, 16.577574085558993, 16.577573252740613, 14.518214581414304, 26.868195327790858, 26.684722787111554, 18.637226531775116, 11.429268376331201, 11.429313869608292, 51.384571612155206, 15.547951473311446, 10.791639453273769, 10.779223136929547, 6.281039710668688, 10.225996025146712, 9.062028252899442, 9.804445606411266, 4.155091198869197, 5.316727299878724, 5.991827284046192, 6.280911964546283, 3.361881328214368, 2.437301810974595, 9.267934924132822, 2.3488398090205305, 23.508890242840664, 2.0655880097090633, 15.013062374409317, 2.8840520228622073, 79.70337240380425, 60.342229292401846, 52.81288880886193, 51.73726862956428, 43.13232484249679, 43.13232484249679, 19.46866955652324, 17.317440045445167, 15.166228838722528, 50.403956382160764, 3.694468652635565, 0.10756190977533284, 0.10756190889724135, 0.10756190912283495, 0.10756190837441786, 0.10756190853240691, 0.10756190913990711, 0.10756568134954933, 0.10756190877124655, 0.10756190946415456, 0.10756190920734343, 0.10756190898266922, 0.1075619096354579, 0.10756190873299719, 0.10756190930235526, 0.10756190847608527, 0.10756190901837148, 0.10756675033685849, 0.1075619096968449, 0.10756191069057494, 0.11324978158604063, 0.10759177915581103, 0.10758410296314978, 0.10757404998446288, 0.10757401333274184, 0.10756836211207182, 0.10756753036582724, 0.10756687099770122, 0.10756658447899396, 0.1075662280266814, 0.10756583106220939, 0.10756521909043046, 0.10756470471754316, 0.10756464130360147, 0.10756410363543088, 0.10756407679596877, 0.10756405561728107, 30.76133061526163, 21.563552347774838, 19.519640292242475, 17.475690862910522, 16.453727333974996, 15.431730257676842, 61.27632013275054, 11.770534643307991, 29.03287811790793, 11.209766224579319, 28.01008089819544, 13.760478157808992, 7.613710287061202, 8.27791934787086, 5.21207999168145, 5.025393043615686, 4.0380558357745295, 3.168039254917723, 13.782838993117796, 3.335394189535819, 5.39842208577955, 3.5312072954516665, 2.1461081234545025, 2.1426188490419, 3.302467886374097, 21.86177264988437, 3.566477232130824, 1.5343908845560612, 2.478311645421002, 2.786800068383826, 4.757988001551751, 18.810002176679884, 3.5992670165277576, 27.39221391442318, 25.209530508197872, 16.478948764976685, 69.78129956365089, 16.29882445156559, 15.318285124581438, 9.788378079622602, 15.206353741225968, 22.4672544139707, 12.347830732583041, 5.565741742531643, 5.18084754020953, 9.892137751466874, 12.152696606773382, 11.589763845324983, 7.000430871946041, 3.383141780742253, 7.614736191381469, 10.323585109124334, 2.6573929777166083, 3.5280175649271475, 2.7488025326807985, 2.442776472654891, 2.707969493904032, 2.6032073165230587, 2.3161207180667653, 11.44345743852189, 0.10914824141169066, 0.10913434151193917, 0.10913763760477382, 0.5081568958536532, 0.14014147905051821, 0.10946575582277139], \"Total\": [364.0, 229.0, 121.0, 316.0, 162.0, 80.0, 80.0, 84.0, 78.0, 61.0, 53.0, 52.0, 77.0, 49.0, 58.0, 44.0, 44.0, 195.0, 220.0, 54.0, 92.0, 38.0, 65.0, 31.0, 41.0, 41.0, 28.0, 45.0, 42.0, 45.0, 17.277710555273423, 64.0225272052897, 229.72378118618846, 21.133914974637783, 45.661292535087846, 19.458271034672162, 25.07982354357069, 36.56297919218304, 316.8483068801361, 27.998192132780872, 36.16798807703738, 36.11477424811309, 23.440147183541043, 81.89878511511034, 15.426938426274761, 25.17874712800021, 18.821917930144114, 19.439672549526122, 195.8788558670828, 16.06556935116784, 34.77283509468193, 364.99498507888734, 13.999086454159935, 220.91725605579285, 15.317661770035667, 26.316505140868134, 29.665630364456845, 16.871072125014226, 36.06731033288235, 17.801990720391192, 42.121470632701175, 60.2200116285551, 33.698489862092075, 26.22352617758246, 14.076702655033591, 30.94786519872733, 162.59290352226532, 23.79417318767619, 37.463893066455825, 14.086816193855423, 17.14260953251071, 42.121470632701175, 20.048561566136883, 16.082886983400925, 92.18437194187455, 16.871072125014226, 13.999086454159935, 34.77283509468193, 29.63038265139202, 21.01500236828838, 25.874059533736435, 81.89878511511034, 364.99498507888734, 49.86502508121629, 17.077271279208016, 26.07009382891563, 36.56297919218304, 27.998192132780872, 60.2200116285551, 17.801990720391192, 26.316505140868134, 44.37695303519455, 220.91725605579285, 45.661292535087846, 36.06530910100307, 25.34953608523618, 25.349536354346075, 16.582086555743214, 15.607924435325582, 16.67770545085777, 18.88190263284317, 15.503729260741018, 20.244737298152977, 16.53272108429604, 19.743620660495214, 15.317661770035667, 65.81213079752044, 15.797651065599776, 45.73217065453201, 25.87669342032625, 37.95434195373749, 29.63038265139202, 49.86502508121629, 17.79705867415106, 20.0257535498852, 25.874059533736435, 26.601362434305408, 45.765817566553565, 29.665630364456845, 60.2200116285551, 15.54849572643586, 45.03216001235863, 27.61778803018197, 42.10630402761779, 229.72378118618846, 195.8788558670828, 92.18437194187455, 316.8483068801361, 77.46190894112445, 162.59290352226532, 121.24238267366226, 84.60466353401252, 19.78408278972289, 19.784086381627343, 16.026368311987866, 14.147510693744705, 41.69812161368462, 20.920331448770312, 29.69444714206486, 16.214285689387104, 19.51928135884952, 15.54849572643586, 26.316505140868134, 195.8788558670828, 17.077271279208016, 26.601362434305408, 16.07953505808513, 36.16798807703738, 23.440147183541043, 60.2200116285551, 30.103779483904678, 18.821917930144114, 15.503729260741018, 16.53272108429604, 16.082886983400925, 78.30486925036881, 29.665630364456845, 49.86502508121629, 15.098972778983002, 92.18437194187455, 37.463893066455825, 220.91725605579285, 42.10630402761779, 65.81213079752044, 80.44982956478034, 49.86350557934964, 32.61381897031428, 30.69958723914866, 25.908605375260713, 19.20123324850116, 14.41025304836058, 24.080868780347224, 26.82926796886152, 20.29573015390792, 16.06556935116784, 30.103779483904678, 17.077271279208016, 364.99498507888734, 17.486175780094758, 17.112802246938912, 24.128279314066585, 21.01500236828838, 15.504710288583855, 45.03216001235863, 316.8483068801361, 195.8788558670828, 17.371782785011668, 17.484044406441395, 21.171475367871764, 36.06731033288235, 16.214285689387104, 30.94786519872733, 26.316505140868134, 45.661292535087846, 36.16798807703738, 64.0225272052897, 162.59290352226532, 229.72378118618846, 38.94938632262687, 27.66580069550651, 22.53689843521497, 19.459556789951346, 24.547767322154836, 16.38221326872522, 21.71644768148879, 58.10294841067728, 54.03363515057311, 41.58850341099388, 24.128279314066585, 28.725375886115426, 21.171475367871764, 31.579178980262792, 17.484044406441395, 44.37695303519455, 20.0257535498852, 25.87669342032625, 45.73217065453201, 17.79705867415106, 19.439672549526122, 26.601362434305408, 19.51928135884952, 45.765817566553565, 20.048561566136883, 29.665630364456845, 17.175375614307264, 37.95434195373749, 65.81213079752044, 27.61778803018197, 30.103779483904678, 30.823912338249656, 20.559134064897442, 18.499803613850926, 19.52924773027052, 17.470138828126657, 17.4701403794167, 15.410809316758701, 32.3614892040798, 36.06731033288235, 26.07009382891563, 16.07953505808513, 17.112802246938912, 77.46190894112445, 24.616246005428547, 17.371782785011668, 17.801990720391192, 15.504710288583855, 29.8026865049273, 28.725375886115426, 36.11477424811309, 15.54849572643586, 21.41844865156537, 29.69444714206486, 31.579178980262792, 20.444179730349035, 19.439672549526122, 81.89878511511034, 20.920331448770312, 220.91725605579285, 20.0257535498852, 195.8788558670828, 80.44982956478034, 80.59132002407355, 61.23017659488136, 53.70084255468767, 52.6252236598709, 44.02027142913197, 44.02027142913197, 20.356650085100085, 18.205411213131402, 16.054175351298007, 220.91725605579285, 29.8026865049273, 13.999086454159935, 14.076702655033591, 14.086816193855423, 14.147510693744705, 14.41025304836058, 15.098972778983002, 15.317661770035667, 15.410809316758701, 15.426938426274761, 15.503729260741018, 15.504710288583855, 15.54849572643586, 15.607924435325582, 15.797651065599776, 16.026368311987866, 16.06556935116784, 16.07953505808513, 16.082886983400925, 16.214285689387104, 80.44982956478034, 23.440147183541043, 19.784086381627343, 17.175375614307264, 24.080868780347224, 20.048561566136883, 17.486175780094758, 27.61778803018197, 16.582086555743214, 36.11477424811309, 21.41844865156537, 37.95434195373749, 19.458271034672162, 18.821917930144114, 19.20123324850116, 19.459556789951346, 29.665630364456845, 31.654648391153714, 22.45690613824799, 20.412962909467332, 18.369020759132006, 17.347049309589753, 16.32507660132858, 78.30486925036881, 15.098972778983002, 42.10630402761779, 17.175375614307264, 45.03216001235863, 25.17874712800021, 15.426938426274761, 24.616246005428547, 19.743620660495214, 25.07982354357069, 21.01500236828838, 17.14260953251071, 77.46190894112445, 19.458271034672162, 34.77283509468193, 23.440147183541043, 16.67770545085777, 18.821917930144114, 30.103779483904678, 220.91725605579285, 36.11477424811309, 16.082886983400925, 26.316505140868134, 36.16798807703738, 65.81213079752044, 316.8483068801361, 64.0225272052897, 28.27861014512266, 26.095960519747518, 17.365366268510577, 80.44982956478034, 20.444179730349035, 21.41844865156537, 17.486175780094758, 29.8026865049273, 45.765817566553565, 27.61778803018197, 15.504710288583855, 17.484044406441395, 41.58850341099388, 54.03363515057311, 58.10294841067728, 37.95434195373749, 18.88190263284317, 44.37695303519455, 60.2200116285551, 15.797651065599776, 21.71644768148879, 17.371782785011668, 19.51928135884952, 23.79417318767619, 27.998192132780872, 41.69812161368462, 220.91725605579285, 13.999086454159935, 14.076702655033591, 14.086816193855423, 316.8483068801361, 64.0225272052897, 16.082886983400925], \"Category\": [\"Default\", \"Default\", \"Default\", \"Default\", \"Default\", \"Default\", \"Default\", \"Default\", \"Default\", \"Default\", \"Default\", \"Default\", \"Default\", \"Default\", \"Default\", \"Default\", \"Default\", \"Default\", \"Default\", \"Default\", \"Default\", \"Default\", \"Default\", \"Default\", \"Default\", \"Default\", \"Default\", \"Default\", \"Default\", \"Default\", \"Topic1\", \"Topic1\", \"Topic1\", \"Topic1\", \"Topic1\", \"Topic1\", \"Topic1\", \"Topic1\", \"Topic1\", \"Topic1\", \"Topic1\", \"Topic1\", \"Topic1\", \"Topic1\", \"Topic1\", \"Topic1\", \"Topic1\", \"Topic1\", \"Topic1\", \"Topic1\", \"Topic1\", \"Topic1\", \"Topic1\", \"Topic1\", \"Topic1\", \"Topic1\", \"Topic1\", \"Topic1\", \"Topic1\", \"Topic1\", \"Topic1\", \"Topic1\", \"Topic2\", \"Topic2\", \"Topic2\", \"Topic2\", \"Topic2\", \"Topic2\", \"Topic2\", \"Topic2\", \"Topic2\", \"Topic2\", \"Topic2\", \"Topic2\", \"Topic2\", \"Topic2\", \"Topic2\", \"Topic2\", \"Topic2\", \"Topic2\", \"Topic2\", \"Topic2\", \"Topic2\", \"Topic2\", \"Topic2\", \"Topic2\", \"Topic2\", \"Topic2\", \"Topic2\", \"Topic2\", \"Topic2\", \"Topic2\", \"Topic2\", \"Topic2\", \"Topic3\", \"Topic3\", \"Topic3\", \"Topic3\", \"Topic3\", \"Topic3\", \"Topic3\", \"Topic3\", \"Topic3\", \"Topic3\", \"Topic3\", \"Topic3\", \"Topic3\", \"Topic3\", \"Topic3\", \"Topic3\", \"Topic3\", \"Topic3\", \"Topic3\", \"Topic3\", \"Topic3\", \"Topic3\", \"Topic3\", \"Topic3\", \"Topic3\", \"Topic3\", \"Topic3\", \"Topic3\", \"Topic3\", \"Topic3\", \"Topic3\", \"Topic3\", \"Topic3\", \"Topic3\", \"Topic3\", \"Topic3\", \"Topic4\", \"Topic4\", \"Topic4\", \"Topic4\", \"Topic4\", \"Topic4\", \"Topic4\", \"Topic4\", \"Topic4\", \"Topic4\", \"Topic4\", \"Topic4\", \"Topic4\", \"Topic4\", \"Topic4\", \"Topic4\", \"Topic4\", \"Topic4\", \"Topic4\", \"Topic4\", \"Topic4\", \"Topic4\", \"Topic4\", \"Topic4\", \"Topic4\", \"Topic4\", \"Topic4\", \"Topic4\", \"Topic4\", \"Topic4\", \"Topic4\", \"Topic4\", \"Topic4\", \"Topic4\", \"Topic4\", \"Topic5\", \"Topic5\", \"Topic5\", \"Topic5\", \"Topic5\", \"Topic5\", \"Topic5\", \"Topic5\", \"Topic5\", \"Topic5\", \"Topic5\", \"Topic5\", \"Topic5\", \"Topic5\", \"Topic5\", \"Topic5\", \"Topic5\", \"Topic5\", \"Topic5\", \"Topic5\", \"Topic5\", \"Topic5\", \"Topic5\", \"Topic5\", \"Topic5\", \"Topic5\", \"Topic5\", \"Topic5\", \"Topic5\", \"Topic5\", \"Topic5\", \"Topic5\", \"Topic5\", \"Topic6\", \"Topic6\", \"Topic6\", \"Topic6\", \"Topic6\", \"Topic6\", \"Topic6\", \"Topic6\", \"Topic6\", \"Topic6\", \"Topic6\", \"Topic6\", \"Topic6\", \"Topic6\", \"Topic6\", \"Topic6\", \"Topic6\", \"Topic6\", \"Topic6\", \"Topic6\", \"Topic6\", \"Topic6\", \"Topic6\", \"Topic6\", \"Topic6\", \"Topic6\", \"Topic6\", \"Topic6\", \"Topic6\", \"Topic6\", \"Topic6\", \"Topic7\", \"Topic7\", \"Topic7\", \"Topic7\", \"Topic7\", \"Topic7\", \"Topic7\", \"Topic7\", \"Topic7\", \"Topic7\", \"Topic7\", \"Topic7\", \"Topic7\", \"Topic7\", \"Topic7\", \"Topic7\", \"Topic7\", \"Topic7\", \"Topic7\", \"Topic7\", \"Topic7\", \"Topic7\", \"Topic7\", \"Topic7\", \"Topic7\", \"Topic7\", \"Topic7\", \"Topic7\", \"Topic7\", \"Topic7\", \"Topic7\", \"Topic7\", \"Topic8\", \"Topic8\", \"Topic8\", \"Topic8\", \"Topic8\", \"Topic8\", \"Topic8\", \"Topic8\", \"Topic8\", \"Topic8\", \"Topic8\", \"Topic8\", \"Topic8\", \"Topic8\", \"Topic8\", \"Topic8\", \"Topic8\", \"Topic8\", \"Topic8\", \"Topic8\", \"Topic8\", \"Topic8\", \"Topic8\", \"Topic8\", \"Topic8\", \"Topic8\", \"Topic8\", \"Topic8\", \"Topic8\", \"Topic8\", \"Topic8\", \"Topic8\", \"Topic8\", \"Topic8\", \"Topic8\", \"Topic8\", \"Topic8\", \"Topic8\", \"Topic8\", \"Topic8\", \"Topic8\", \"Topic8\", \"Topic8\", \"Topic8\", \"Topic8\", \"Topic8\", \"Topic8\", \"Topic9\", \"Topic9\", \"Topic9\", \"Topic9\", \"Topic9\", \"Topic9\", \"Topic9\", \"Topic9\", \"Topic9\", \"Topic9\", \"Topic9\", \"Topic9\", \"Topic9\", \"Topic9\", \"Topic9\", \"Topic9\", \"Topic9\", \"Topic9\", \"Topic9\", \"Topic9\", \"Topic9\", \"Topic9\", \"Topic9\", \"Topic9\", \"Topic9\", \"Topic9\", \"Topic9\", \"Topic9\", \"Topic9\", \"Topic9\", \"Topic9\", \"Topic9\", \"Topic9\", \"Topic10\", \"Topic10\", \"Topic10\", \"Topic10\", \"Topic10\", \"Topic10\", \"Topic10\", \"Topic10\", \"Topic10\", \"Topic10\", \"Topic10\", \"Topic10\", \"Topic10\", \"Topic10\", \"Topic10\", \"Topic10\", \"Topic10\", \"Topic10\", \"Topic10\", \"Topic10\", \"Topic10\", \"Topic10\", \"Topic10\", \"Topic10\", \"Topic10\", \"Topic10\", \"Topic10\", \"Topic10\", \"Topic10\", \"Topic10\", \"Topic10\", \"Topic10\", \"Topic10\"], \"logprob\": [30.0, 29.0, 28.0, 27.0, 26.0, 25.0, 24.0, 23.0, 22.0, 21.0, 20.0, 19.0, 18.0, 17.0, 16.0, 15.0, 14.0, 13.0, 12.0, 11.0, 10.0, 9.0, 8.0, 7.0, 6.0, 5.0, 4.0, 3.0, 2.0, 1.0, -4.1402, -2.9117, -1.6721, -4.1086, -3.3485, -4.2066, -3.9782, -3.6554, -1.5774, -4.119, -3.9347, -3.9371, -4.4594, -3.3094, -4.9884, -4.5735, -4.8883, -4.9705, -2.7198, -5.4331, -4.6717, -2.3398, -5.64, -2.8899, -5.5843, -5.1111, -5.0268, -5.835, -5.2642, -6.1985, -5.5687, -5.4153, -3.2053, -3.4639, -4.1173, -3.3657, -1.7424, -3.6853, -3.2495, -4.2702, -4.1173, -3.2288, -3.9846, -4.2949, -2.5748, -4.3055, -4.5485, -3.7489, -4.0603, -4.4435, -4.2398, -3.1592, -1.9342, -4.0183, -5.1796, -4.8034, -4.4801, -4.7584, -4.0262, -5.2549, -4.9169, -4.6566, -3.1996, -4.9165, -2.8885, -3.2519, -3.2519, -3.696, -3.7601, -3.8286, -3.7601, -3.9816, -3.7189, -3.987, -3.8286, -4.0834, -2.6562, -4.1085, -3.1542, -3.7743, -3.414, -3.7487, -3.2642, -4.3288, -4.2614, -4.0679, -4.2233, -3.8875, -4.4007, -3.7749, -5.3228, -4.3322, -4.86, -4.4579, -2.9781, -3.1851, -3.8446, -3.0818, -3.9975, -3.6863, -1.6507, -2.0137, -3.5028, -3.5028, -3.7247, -3.8573, -2.788, -3.5633, -3.3097, -3.9935, -3.9455, -4.4116, -4.1909, -2.4221, -4.8743, -4.5745, -5.0925, -4.3069, -4.8006, -3.8686, -4.5807, -5.0925, -5.3721, -5.3569, -5.4074, -3.8441, -4.8376, -4.3214, -5.5548, -3.7848, -4.7772, -3.4403, -4.8215, -4.6883, -4.6399, -2.4374, -2.8729, -2.934, -3.1093, -3.4215, -3.7251, -3.2545, -3.1484, -3.4763, -3.9525, -3.748, -4.3798, -1.3412, -4.5629, -4.742, -4.4384, -4.7311, -5.2399, -4.2466, -2.3724, -3.0028, -5.5381, -5.6293, -5.6293, -5.1179, -6.0313, -5.537, -5.7937, -5.2694, -5.5671, -5.005, -5.5378, -5.6202, -2.599, -2.9506, -3.1633, -3.3167, -3.0922, -3.4979, -3.3813, -2.4153, -2.5221, -2.8069, -3.422, -3.3003, -3.6068, -3.2182, -4.1787, -3.277, -4.1149, -3.8792, -3.349, -4.3677, -4.2799, -4.1062, -4.7892, -3.9698, -4.8016, -4.4578, -5.0686, -4.3965, -3.9042, -4.8016, -4.9022, -2.7342, -3.1437, -3.2543, -3.2006, -3.3145, -3.3145, -3.4472, -2.8317, -2.8385, -3.1974, -3.6864, -3.6864, -2.1833, -3.3787, -3.7438, -3.745, -4.2851, -3.7977, -3.9185, -3.8398, -4.6983, -4.4517, -4.3322, -4.2851, -4.9101, -5.2317, -3.896, -5.2687, -2.9652, -5.3972, -3.4137, -5.0634, -1.7353, -2.0136, -2.1469, -2.1675, -2.3494, -2.3494, -3.1448, -3.2619, -3.3946, -2.1936, -4.8068, -8.3433, -8.3433, -8.3433, -8.3433, -8.3433, -8.3433, -8.3433, -8.3433, -8.3433, -8.3433, -8.3433, -8.3433, -8.3433, -8.3433, -8.3433, -8.3433, -8.3433, -8.3433, -8.3433, -8.2918, -8.343, -8.3431, -8.3432, -8.3432, -8.3433, -8.3433, -8.3433, -8.3433, -8.3433, -8.3433, -8.3433, -8.3433, -8.3433, -8.3433, -8.3433, -8.3433, -2.6217, -2.9769, -3.0765, -3.1871, -3.2474, -3.3115, -1.9326, -3.5823, -2.6795, -3.6312, -2.7154, -3.4261, -4.018, -3.9344, -4.397, -4.4334, -4.6522, -4.8948, -3.4245, -4.8434, -4.3618, -4.7863, -5.2843, -5.2859, -4.8533, -2.9632, -4.7764, -5.6198, -5.1404, -5.0231, -4.4881, -3.1136, -4.7672, -2.5402, -2.6233, -3.0484, -1.6051, -3.0594, -3.1214, -3.5693, -3.1288, -2.7384, -3.337, -4.1339, -4.2055, -3.5587, -3.3529, -3.4004, -3.9045, -4.6317, -3.8204, -3.5161, -4.8731, -4.5898, -4.8393, -4.9574, -4.8543, -4.8937, -5.0106, -3.4131, -8.0655, -8.0657, -8.0656, -6.5275, -7.8156, -8.0626], \"loglift\": [30.0, 29.0, 28.0, 27.0, 26.0, 25.0, 24.0, 23.0, 22.0, 21.0, 20.0, 19.0, 18.0, 17.0, 16.0, 15.0, 14.0, 13.0, 12.0, 11.0, 10.0, 9.0, 8.0, 7.0, 6.0, 5.0, 4.0, 3.0, 2.0, 1.0, 1.6841, 1.6027, 1.5647, 1.5142, 1.504, 1.4988, 1.4734, 1.4192, 1.3379, 1.2226, 1.1509, 1.1499, 1.0598, 0.9588, 0.9491, 0.8742, 0.8504, 0.7359, 0.6764, 0.4639, 0.4531, 0.434, 0.3946, 0.3859, 0.3604, 0.2924, 0.2569, 0.0131, -0.1759, -0.4041, -0.6356, -0.8396, 1.951, 1.9431, 1.9119, 1.8757, 1.84, 1.819, 1.8008, 1.7582, 1.7148, 1.7043, 1.6909, 1.6011, 1.5751, 1.5426, 1.4862, 1.3759, 1.2246, 1.185, 1.1807, 1.109, 0.8396, 0.746, 0.6563, 0.6095, 0.5945, 0.5831, 0.5494, 0.5395, 0.4865, 0.2244, 0.0763, -0.0641, 2.1998, 2.189, 2.189, 2.1694, 2.1658, 2.031, 1.9754, 1.951, 1.9469, 1.8813, 1.8622, 1.8613, 1.8307, 1.8053, 1.6966, 1.6461, 1.6233, 1.5362, 1.5001, 1.4659, 1.4152, 1.3526, 1.1695, 0.9626, 0.883, 0.8008, 0.607, 0.5341, 0.4952, 0.4756, 0.2587, 0.2111, 0.3053, -0.1665, 0.3264, -0.1039, 2.2252, 2.222, 2.186, 2.186, 2.1748, 2.1668, 2.1552, 2.0696, 1.973, 1.8943, 1.7568, 1.5181, 1.2125, 0.974, 0.9617, 0.8182, 0.8036, 0.7786, 0.7186, 0.7071, 0.6883, 0.6461, 0.5605, 0.5115, 0.4886, 0.4689, 0.4461, 0.4429, 0.4043, 0.3651, 0.2731, -0.1644, 0.112, -0.2014, -0.3538, 2.3269, 2.316, 2.3154, 2.3098, 2.2972, 2.2807, 2.2377, 2.2358, 2.187, 1.9445, 1.521, 1.4562, 1.4326, 1.2493, 1.0919, 1.0519, 0.8974, 0.6927, 0.6198, 0.5429, 0.3934, 0.2808, 0.1831, -0.0083, -0.0296, -0.1435, -0.2956, -0.3902, -0.417, -0.4816, -0.4906, -1.9554, -2.3834, 2.4125, 2.4028, 2.3952, 2.3887, 2.3809, 2.3796, 2.2143, 2.1962, 2.162, 2.139, 2.0683, 2.0156, 2.0142, 2.003, 1.6337, 1.604, 1.5618, 1.5411, 1.5019, 1.4269, 1.4265, 1.2865, 0.9131, 0.8803, 0.8739, 0.8259, 0.7616, 0.6408, 0.5827, 0.5536, 0.3669, 2.5112, 2.5067, 2.5016, 2.5012, 2.4986, 2.4986, 2.4914, 2.3651, 2.2498, 2.2155, 2.2097, 2.1474, 2.1406, 2.0916, 2.075, 2.0494, 1.6475, 1.4814, 1.3974, 1.2472, 1.2315, 1.1577, 0.9505, 0.9361, 0.7459, 0.4747, 0.3722, 0.3643, 0.3107, 0.2795, -0.0175, -0.7773, 2.549, 2.5454, 2.5434, 2.543, 2.5397, 2.5397, 2.5155, 2.5101, 2.5032, 1.0823, 0.4723, -2.3086, -2.3142, -2.3149, -2.3192, -2.3376, -2.3843, -2.3986, -2.4047, -2.4057, -2.4107, -2.4108, -2.4136, -2.4174, -2.4295, -2.4439, -2.4463, -2.4471, -2.4474, -2.4555, -4.0057, -2.8238, -2.6543, -2.513, -2.8509, -2.6677, -2.531, -2.988, -2.4779, -3.2563, -2.7338, -3.306, -2.6379, -2.6046, -2.6246, -2.638, -3.0596, 2.5971, 2.5851, 2.581, 2.5759, 2.5729, 2.5695, 2.3805, 2.3767, 2.254, 2.199, 2.1509, 2.0215, 1.9196, 1.5359, 1.2939, 1.0182, 0.9763, 0.9373, 0.8994, 0.8621, 0.763, 0.7329, 0.5753, 0.4527, 0.4158, 0.3127, 0.3106, 0.2761, 0.2631, 0.0625, -0.0012, -0.1983, -0.2528, 2.7914, 2.7886, 2.7708, 2.6809, 2.5966, 2.488, 2.243, 2.1503, 2.1117, 2.0182, 1.7987, 1.6069, 1.3871, 1.3311, 1.2111, 1.1328, 1.1038, 1.0606, 1.0596, 1.0407, 1.0059, 0.9795, 0.7449, 0.65, 0.4478, -0.0674, -0.1372, -2.0308, -2.0365, -2.0372, -3.6122, -3.3011, -2.1667]}, \"token.table\": {\"Topic\": [1, 5, 7, 2, 3, 4, 6, 10, 8, 2, 3, 4, 9, 1, 3, 4, 5, 6, 4, 9, 2, 3, 3, 4, 6, 9, 3, 6, 10, 7, 3, 6, 3, 3, 3, 7, 9, 8, 3, 4, 7, 10, 8, 5, 5, 1, 2, 4, 7, 9, 6, 7, 1, 2, 5, 9, 4, 5, 1, 2, 4, 5, 9, 3, 4, 5, 6, 9, 5, 7, 3, 4, 9, 1, 2, 7, 2, 6, 7, 10, 1, 9, 7, 8, 10, 1, 3, 4, 6, 10, 4, 6, 10, 3, 4, 6, 7, 4, 5, 10, 2, 9, 1, 2, 3, 1, 2, 9, 1, 5, 1, 2, 3, 4, 8, 1, 2, 5, 9, 9, 1, 9, 1, 3, 5, 9, 2, 3, 4, 9, 3, 2, 6, 9, 1, 2, 7, 1, 2, 7, 10, 1, 2, 5, 2, 5, 6, 10, 5, 1, 5, 9, 3, 6, 3, 5, 6, 10, 3, 10, 1, 2, 3, 5, 7, 9, 10, 2, 3, 5, 9, 7, 10, 1, 2, 3, 4, 3, 9, 2, 3, 10, 3, 4, 7, 4, 2, 4, 3, 4, 6, 1, 3, 1, 2, 4, 5, 9, 7, 9, 8, 3, 6, 7, 2, 4, 7, 10, 8, 5, 3, 6, 7, 4, 5, 6, 7, 9, 4, 6, 1, 9, 5, 1, 4, 7, 9, 2, 7, 7, 1, 3, 2, 4, 5, 7, 9, 3, 5, 9, 2, 5, 2, 6, 9, 4, 7, 9, 9, 4, 7, 1, 2, 3, 8, 6, 6, 10, 2, 4, 7, 8, 4, 4, 10, 1, 4, 7, 1, 2, 3, 4, 7, 8, 9, 10, 6, 10, 4, 5, 7, 10, 4, 1, 2, 6, 2, 4, 9, 5, 6, 2, 4, 7, 2, 10, 9, 8, 2, 3, 4, 6, 2, 3, 4, 6, 7, 10, 3, 4, 5, 6, 3, 9, 5, 6, 6, 1, 9, 1, 3, 1, 2, 3, 4, 6, 10, 4, 4, 7, 6, 10, 5, 7, 10, 1, 3, 4, 5, 6, 7, 3, 4, 7, 1, 2, 3, 4, 6, 1, 3, 6, 7, 3, 2, 10, 1, 3, 4, 9, 6, 10, 7], \"Freq\": [0.13862968859758668, 0.083177813158552, 0.748600318426968, 0.1448341914866107, 0.18104273935826337, 0.036208547871652674, 0.1448341914866107, 0.43450257445983204, 0.9333559264697939, 0.46378497291287235, 0.425136225170133, 0.03864874774273937, 0.07729749548547873, 0.09879110657476743, 0.7409332993107557, 0.09879110657476743, 0.913588301181, 0.04152674096277273, 0.13245934205430834, 0.79475605232585, 0.472487991961261, 0.5062371342442082, 0.6685697525182965, 0.09116860261613134, 0.15194767102688558, 0.07597383551344279, 0.28405479659781324, 0.21850368969062556, 0.48070811731937624, 0.9729833016456066, 0.5796722075865163, 0.42509295223011195, 0.9467628782048827, 0.9610502704671186, 0.154914849944128, 0.6583881122625439, 0.18073399160148265, 0.9881193158643493, 0.725833330086144, 0.181458332521536, 0.060486110840512, 0.954785255054581, 0.9343363749161507, 0.9772118356608869, 0.9826826138812982, 0.42503638734858445, 0.15938864525571916, 0.21251819367429223, 0.10625909683714611, 0.10625909683714611, 0.6614360792118915, 0.31331182699510646, 0.09517010585818436, 0.4758505292909218, 0.2379252646454609, 0.19034021171636872, 0.07454545544519635, 0.8945454653423562, 0.5529751878207945, 0.05529751878207945, 0.2211900751283178, 0.05529751878207945, 0.08294627817311917, 0.0996552609483465, 0.199310521896693, 0.43183946410950147, 0.13287368126446197, 0.0996552609483465, 0.29217891540202806, 0.6427936138844618, 0.16624589029254755, 0.11874706449467683, 0.6887329740691256, 0.1123469858744006, 0.2246939717488012, 0.6179084223092034, 0.7481833522329013, 0.19951556059544037, 0.14674103043354444, 0.7826188289789037, 0.7708804124103272, 0.15417608248206544, 0.33554022045451143, 0.13421608818180458, 0.5033103306817672, 0.02634744665627187, 0.5532963797817093, 0.07904233996881561, 0.15808467993763123, 0.1844321265939031, 0.6147767317550101, 0.20492557725167004, 0.10246278862583502, 0.33832853569911525, 0.2255523571327435, 0.30073647617699134, 0.07518411904424784, 0.05718803313977557, 0.3431281988386534, 0.5718803313977557, 0.7583442868103417, 0.17500252772546346, 0.285732930723588, 0.642899094128073, 0.071433232680897, 0.28758080762673777, 0.5464035344908018, 0.14379040381336888, 0.24897966032615154, 0.6846940658969167, 0.09496344595562586, 0.7597075676450069, 0.07122258446671939, 0.04748172297781293, 0.9768226910918871, 0.2712366033703254, 0.32055234943765726, 0.4027452595498771, 0.005479527340814655, 0.9254712171604788, 0.43687638404245177, 0.5560244887813023, 0.840139401342936, 0.13929772457499456, 0.00870610778593716, 0.00870610778593716, 0.025541195830431452, 0.012770597915215726, 0.16601777289780445, 0.7790064728281594, 0.9467628882556882, 0.11644577940606897, 0.17466866910910345, 0.6404517867333793, 0.46398734665709945, 0.4151465733247732, 0.10989173999773408, 0.6071820608765679, 0.2500161427138809, 0.0357165918162687, 0.1071497754488061, 0.788413949787695, 0.13140232496461582, 0.06570116248230791, 0.9047473814494785, 0.06462481296067704, 0.9756251275754929, 0.9580026755896501, 0.9649303634024118, 0.8746921192353859, 0.06247800851681328, 0.06247800851681328, 0.5903940183369435, 0.393596012224629, 0.11439000917105706, 0.11439000917105706, 0.45756003668422823, 0.28597502292764265, 0.7944114685725056, 0.1588822937145011, 0.6690898937964019, 0.009468253214100027, 0.09152644773630025, 0.16411638904440046, 0.0031560844047000087, 0.05996560368930017, 0.0031560844047000087, 0.8733468492402847, 0.0984052787876377, 0.012300659848454713, 0.012300659848454713, 0.23344361122226162, 0.7003308336667848, 0.021695651419755504, 0.6725651940124207, 0.15186955993828855, 0.15186955993828855, 0.7090897987121704, 0.253246356682918, 0.12660109985307286, 0.6330054992653642, 0.18990164977960927, 0.7740073241853326, 0.19350183104633314, 0.9728036179377757, 0.9603679989587289, 0.7808719762239907, 0.1419767229498165, 0.44951248104943436, 0.11237812026235859, 0.33713436078707576, 0.9260486190467263, 0.9648966640123099, 0.2279937996281398, 0.2279937996281398, 0.34199069944220967, 0.07599793320937993, 0.07599793320937993, 0.9730889180506747, 0.9223470640136429, 0.9926627331095096, 0.44942129031901495, 0.39948559139467993, 0.09987139784866998, 0.012430107128999862, 0.07458064277399917, 0.037290321386999586, 0.8701074990299903, 0.9337883006860098, 0.9374397866556343, 0.12666573765264855, 0.6333286882632427, 0.1899986064789728, 0.09446672776688247, 0.09446672776688247, 0.6612670943681773, 0.04723336388344124, 0.04723336388344124, 0.9359575237503974, 0.9763840053033143, 0.45375173003074815, 0.5185734057494265, 0.9811791752792586, 0.5537899769938324, 0.05537899769938324, 0.2768949884969162, 0.11075799539876648, 0.2685068970574994, 0.7288044348703555, 0.9728997379939945, 0.26113646195170465, 0.7181252703671879, 0.29278682280392293, 0.29278682280392293, 0.4099015519254921, 0.9733427811405102, 0.9797695752792553, 0.17765081661204968, 0.17765081661204968, 0.6217778581421739, 0.9792723690304646, 0.9715304757672348, 0.040736902337243544, 0.9369487537566015, 0.97965409235648, 0.9188895687315455, 0.6499772547151003, 0.32498862735755013, 0.9793190439816523, 0.7745555891296062, 0.20205797977294077, 0.17781916749392537, 0.652003614144393, 0.1185461116626169, 0.9869491329866203, 0.976176915525517, 0.7453983062012561, 0.24045106651653422, 0.9235117284623058, 0.2487634117249376, 0.6840993822435784, 0.9799089817587723, 0.9928530708739308, 0.9352939290963375, 0.04796379123570962, 0.09270277956249896, 0.06180185304166597, 0.8343250160624907, 0.2580151547129691, 0.14937719483382422, 0.013579744984893111, 0.09053163323262073, 0.10863795987914489, 0.22632908308155184, 0.0995847965558828, 0.0497923982779414, 0.7916982056550304, 0.2065299666926166, 0.057564615697520555, 0.11512923139504111, 0.6332107726727261, 0.17269384709256166, 0.9603678245988911, 0.738451860229498, 0.24615062007649938, 0.9759341613555884, 0.6839568052273854, 0.18653367415292332, 0.12435578276861554, 0.8376146051945152, 0.09854289472876651, 0.8274633910845901, 0.13346183727170807, 0.973270351628036, 0.8405419193283287, 0.1260812878992493, 0.9188318294800074, 0.9768226910918871, 0.30081204161773034, 0.4812992665883685, 0.1604330888627895, 0.04010827221569738, 0.1802737559213528, 0.1577395364311837, 0.0225342194901691, 0.42815017031321295, 0.0450684389803382, 0.1802737559213528, 0.06167400890527912, 0.7400881068633494, 0.06167400890527912, 0.12334801781055824, 0.8394440135216533, 0.11992057336023619, 0.2901160049120891, 0.7045674405007879, 0.9156271960294913, 0.7575810877214375, 0.1993634441372204, 0.8043942648771523, 0.14195192909596804, 0.08302887802215406, 0.23248085846203134, 0.23248085846203134, 0.21587508285760054, 0.049817326813292435, 0.1660577560443081, 0.9897529012028221, 0.8604070181238945, 0.09560077979154384, 0.7828167962521276, 0.18419218735344178, 0.1934895876260845, 0.386979175252169, 0.386979175252169, 0.3471533448517928, 0.13273510244333253, 0.285890989877947, 0.1429454949389735, 0.015315588743461445, 0.07657794371730722, 0.19294471007245675, 0.5145192268598847, 0.25725961342994236, 0.2359632987400423, 0.13483617070859558, 0.26967234141719115, 0.1685452133857445, 0.20225425606289338, 0.36008836991293036, 0.10288239140369439, 0.36008836991293036, 0.10288239140369439, 0.9704616672487234, 0.9533424235437716, 0.9213741738930978, 0.5119421779239524, 0.08532369632065873, 0.21330924080164682, 0.17064739264131745, 0.7587866314333125, 0.22208389212682317, 0.9730890044577241], \"Term\": [\"aid\", \"aid\", \"aid\", \"air\", \"air\", \"air\", \"air\", \"air\", \"aircraft\", \"airstrikes\", \"airstrikes\", \"airstrikes\", \"airstrikes\", \"american\", \"american\", \"american\", \"amid\", \"amid\", \"arms\", \"arms\", \"army\", \"army\", \"attack\", \"attack\", \"attack\", \"attack\", \"attacks\", \"attacks\", \"attacks\", \"austin\", \"backed\", \"backed\", \"bank\", \"base\", \"biden\", \"biden\", \"biden\", \"billion\", \"border\", \"border\", \"border\", \"british\", \"cagr\", \"calls\", \"ceasefire\", \"chief\", \"chief\", \"chief\", \"chief\", \"chief\", \"china\", \"china\", \"city\", \"city\", \"city\", \"city\", \"civilians\", \"civilians\", \"claims\", \"claims\", \"claims\", \"claims\", \"claims\", \"conflict\", \"conflict\", \"conflict\", \"conflict\", \"conflict\", \"congress\", \"congress\", \"day\", \"day\", \"day\", \"days\", \"days\", \"days\", \"dead\", \"dead\", \"deal\", \"deal\", \"death\", \"death\", \"defense\", \"defense\", \"defense\", \"drone\", \"drone\", \"drone\", \"drone\", \"drone\", \"drones\", \"drones\", \"drones\", \"east\", \"east\", \"east\", \"east\", \"end\", \"end\", \"end\", \"families\", \"families\", \"family\", \"family\", \"family\", \"fighting\", \"fighting\", \"fighting\", \"footage\", \"footage\", \"forces\", \"forces\", \"forces\", \"forces\", \"forecast\", \"gaza\", \"gaza\", \"gaza\", \"gaza\", \"government\", \"group\", \"group\", \"hamas\", \"hamas\", \"hamas\", \"hamas\", \"happened\", \"happened\", \"happened\", \"happened\", \"hezbollah\", \"hit\", \"hit\", \"hit\", \"hospital\", \"hospital\", \"hospital\", \"hostage\", \"hostage\", \"hostage\", \"hostage\", \"hostages\", \"hostages\", \"hostages\", \"house\", \"house\", \"houthi\", \"houthis\", \"humanitarian\", \"idf\", \"idf\", \"idf\", \"iran\", \"iran\", \"iranian\", \"iranian\", \"iranian\", \"iranian\", \"iraq\", \"iraq\", \"israel\", \"israel\", \"israel\", \"israel\", \"israel\", \"israel\", \"israel\", \"israeli\", \"israeli\", \"israeli\", \"israeli\", \"japan\", \"japan\", \"killed\", \"killed\", \"killed\", \"killed\", \"killing\", \"killing\", \"kills\", \"kills\", \"kills\", \"know\", \"know\", \"korea\", \"kyiv\", \"largest\", \"largest\", \"launches\", \"launches\", \"launches\", \"leader\", \"lebanon\", \"live\", \"live\", \"live\", \"live\", \"live\", \"lloyd\", \"london\", \"market\", \"middle\", \"middle\", \"middle\", \"military\", \"military\", \"military\", \"military\", \"million\", \"minister\", \"missile\", \"missile\", \"missile\", \"missiles\", \"missiles\", \"missiles\", \"missiles\", \"missiles\", \"nato\", \"navy\", \"near\", \"near\", \"netanyahu\", \"new\", \"new\", \"new\", \"new\", \"north\", \"north\", \"nuclear\", \"october\", \"october\", \"offensive\", \"offensive\", \"offensive\", \"officials\", \"palestine\", \"palestinian\", \"palestinian\", \"palestinian\", \"palestinians\", \"pause\", \"pentagon\", \"pentagon\", \"people\", \"plane\", \"president\", \"president\", \"pro\", \"putin\", \"putin\", \"raid\", \"raid\", \"raid\", \"reach\", \"rebels\", \"red\", \"red\", \"refugee\", \"report\", \"report\", \"research\", \"russia\", \"russian\", \"russian\", \"say\", \"say\", \"say\", \"says\", \"says\", \"says\", \"says\", \"says\", \"says\", \"says\", \"says\", \"sea\", \"sea\", \"secretary\", \"secretary\", \"secretary\", \"secretary\", \"security\", \"shifa\", \"shifa\", \"ship\", \"shot\", \"shot\", \"shot\", \"shows\", \"shows\", \"soldiers\", \"soldiers\", \"south\", \"southern\", \"southern\", \"state\", \"stratview\", \"strike\", \"strike\", \"strike\", \"strike\", \"strikes\", \"strikes\", \"strikes\", \"strikes\", \"strikes\", \"strikes\", \"support\", \"support\", \"support\", \"support\", \"syria\", \"syria\", \"talks\", \"talks\", \"targets\", \"terror\", \"terror\", \"terrorists\", \"terrorists\", \"troops\", \"troops\", \"troops\", \"troops\", \"troops\", \"troops\", \"ukraine\", \"ukrainian\", \"ukrainian\", \"video\", \"video\", \"visit\", \"visit\", \"visit\", \"war\", \"war\", \"war\", \"war\", \"war\", \"war\", \"warning\", \"warning\", \"warning\", \"warns\", \"warns\", \"warns\", \"warns\", \"warns\", \"weapons\", \"weapons\", \"weapons\", \"weapons\", \"west\", \"white\", \"world\", \"year\", \"year\", \"year\", \"year\", \"yemen\", \"yemen\", \"zelensky\"]}, \"R\": 30, \"lambda.step\": 0.01, \"plot.opts\": {\"xlab\": \"PC1\", \"ylab\": \"PC2\"}, \"topic.order\": [3, 5, 6, 2, 7, 9, 1, 4, 8, 10]};\n",
       "\n",
       "function LDAvis_load_lib(url, callback){\n",
       "  var s = document.createElement('script');\n",
       "  s.src = url;\n",
       "  s.async = true;\n",
       "  s.onreadystatechange = s.onload = callback;\n",
       "  s.onerror = function(){console.warn(\"failed to load library \" + url);};\n",
       "  document.getElementsByTagName(\"head\")[0].appendChild(s);\n",
       "}\n",
       "\n",
       "if(typeof(LDAvis) !== \"undefined\"){\n",
       "   // already loaded: just create the visualization\n",
       "   !function(LDAvis){\n",
       "       new LDAvis(\"#\" + \"ldavis_el1264851823419682210979730\", ldavis_el1264851823419682210979730_data);\n",
       "   }(LDAvis);\n",
       "}else if(typeof define === \"function\" && define.amd){\n",
       "   // require.js is available: use it to load d3/LDAvis\n",
       "   require.config({paths: {d3: \"https://d3js.org/d3.v5\"}});\n",
       "   require([\"d3\"], function(d3){\n",
       "      window.d3 = d3;\n",
       "      LDAvis_load_lib(\"https://cdn.jsdelivr.net/gh/bmabey/pyLDAvis@3.4.0/pyLDAvis/js/ldavis.v3.0.0.js\", function(){\n",
       "        new LDAvis(\"#\" + \"ldavis_el1264851823419682210979730\", ldavis_el1264851823419682210979730_data);\n",
       "      });\n",
       "    });\n",
       "}else{\n",
       "    // require.js not available: dynamically load d3 & LDAvis\n",
       "    LDAvis_load_lib(\"https://d3js.org/d3.v5.js\", function(){\n",
       "         LDAvis_load_lib(\"https://cdn.jsdelivr.net/gh/bmabey/pyLDAvis@3.4.0/pyLDAvis/js/ldavis.v3.0.0.js\", function(){\n",
       "                 new LDAvis(\"#\" + \"ldavis_el1264851823419682210979730\", ldavis_el1264851823419682210979730_data);\n",
       "            })\n",
       "         });\n",
       "}\n",
       "</script>"
      ],
      "text/plain": [
       "PreparedData(topic_coordinates=              x         y  topics  cluster       Freq\n",
       "topic                                                \n",
       "2     -0.254049 -0.018779       1        1  17.589324\n",
       "4     -0.152808 -0.036265       2        1  13.833014\n",
       "5      0.016283 -0.170967       3        1  10.806241\n",
       "1      0.024094 -0.024299       4        1  10.724191\n",
       "6     -0.229720 -0.085981       5        1   9.583251\n",
       "8      0.282303 -0.184680       6        1   8.754076\n",
       "0      0.066618  0.101587       7        1   7.799667\n",
       "3      0.092273  0.398593       8        1   7.730044\n",
       "7     -0.116756  0.061146       9        1   7.238628\n",
       "9      0.271762 -0.040354      10        1   5.941565, topic_info=        Term        Freq       Total Category  logprob  loglift\n",
       "44      gaza  364.000000  364.000000  Default  30.0000  30.0000\n",
       "47     hamas  229.000000  229.000000  Default  29.0000  29.0000\n",
       "137  ukraine  121.000000  121.000000  Default  28.0000  28.0000\n",
       "62    israel  316.000000  316.000000  Default  27.0000  27.0000\n",
       "63   israeli  162.000000  162.000000  Default  26.0000  26.0000\n",
       "..       ...         ...         ...      ...      ...      ...\n",
       "109  refugee    0.109134   14.076703  Topic10  -8.0657  -2.0365\n",
       "71   largest    0.109138   14.086816  Topic10  -8.0656  -2.0372\n",
       "62    israel    0.508157  316.848307  Topic10  -6.5275  -3.6122\n",
       "58       idf    0.140141   64.022527  Topic10  -7.8156  -3.3011\n",
       "121     shot    0.109466   16.082887  Topic10  -8.0626  -2.1667\n",
       "\n",
       "[374 rows x 6 columns], token_table=      Topic      Freq      Term\n",
       "term                           \n",
       "0         1  0.138630       aid\n",
       "0         5  0.083178       aid\n",
       "0         7  0.748600       aid\n",
       "1         2  0.144834       air\n",
       "1         3  0.181043       air\n",
       "...     ...       ...       ...\n",
       "148       4  0.213309      year\n",
       "148       9  0.170647      year\n",
       "149       6  0.758787     yemen\n",
       "149      10  0.222084     yemen\n",
       "150       7  0.973089  zelensky\n",
       "\n",
       "[363 rows x 3 columns], R=30, lambda_step=0.01, plot_opts={'xlab': 'PC1', 'ylab': 'PC2'}, topic_order=[3, 5, 6, 2, 7, 9, 1, 4, 8, 10])"
      ]
     },
     "execution_count": 30,
     "metadata": {},
     "output_type": "execute_result"
    }
   ],
   "source": [
    "pyLDAvis.lda_model.prepare(lda_tf, tf, tf_vectorizer)"
   ]
  },
  {
   "cell_type": "code",
   "execution_count": null,
   "metadata": {},
   "outputs": [],
   "source": []
  }
 ],
 "metadata": {
  "kernelspec": {
   "display_name": "bert",
   "language": "python",
   "name": "python3"
  },
  "language_info": {
   "codemirror_mode": {
    "name": "ipython",
    "version": 3
   },
   "file_extension": ".py",
   "mimetype": "text/x-python",
   "name": "python",
   "nbconvert_exporter": "python",
   "pygments_lexer": "ipython3",
   "version": "3.11.7"
  }
 },
 "nbformat": 4,
 "nbformat_minor": 2
}
