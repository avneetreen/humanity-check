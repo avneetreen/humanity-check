{
 "cells": [
  {
   "cell_type": "code",
   "execution_count": 56,
   "metadata": {},
   "outputs": [],
   "source": [
    "import json\n",
    "import glob\n",
    "import logging \n",
    "import numpy as np\n",
    "import pandas as pd\n",
    "import matplotlib.pyplot as plt\n",
    "\n",
    "from bertopic import BERTopic\n",
    "from sklearn.feature_extraction.text import CountVectorizer, TfidfVectorizer"
   ]
  },
  {
   "cell_type": "code",
   "execution_count": 41,
   "metadata": {},
   "outputs": [],
   "source": [
    "logger = logging.getLogger(__name__)"
   ]
  },
  {
   "cell_type": "code",
   "execution_count": 43,
   "metadata": {},
   "outputs": [
    {
     "data": {
      "text/html": [
       "<div>\n",
       "<style scoped>\n",
       "    .dataframe tbody tr th:only-of-type {\n",
       "        vertical-align: middle;\n",
       "    }\n",
       "\n",
       "    .dataframe tbody tr th {\n",
       "        vertical-align: top;\n",
       "    }\n",
       "\n",
       "    .dataframe thead th {\n",
       "        text-align: right;\n",
       "    }\n",
       "</style>\n",
       "<table border=\"1\" class=\"dataframe\">\n",
       "  <thead>\n",
       "    <tr style=\"text-align: right;\">\n",
       "      <th></th>\n",
       "      <th>description</th>\n",
       "      <th>maintext</th>\n",
       "      <th>source_domain</th>\n",
       "      <th>title</th>\n",
       "      <th>url</th>\n",
       "      <th>language</th>\n",
       "      <th>date_publish</th>\n",
       "    </tr>\n",
       "  </thead>\n",
       "  <tbody>\n",
       "    <tr>\n",
       "      <th>0</th>\n",
       "      <td>The strategy goes well beyond defeating an opp...</td>\n",
       "      <td>How to make sense of the sheer intensity of Is...</td>\n",
       "      <td>www.theguardian.com</td>\n",
       "      <td>Israel’s use of disproportionate force is a lo...</td>\n",
       "      <td>https://www.theguardian.com/commentisfree/2023...</td>\n",
       "      <td>en</td>\n",
       "      <td>2023-12-05 12:47:14</td>\n",
       "    </tr>\n",
       "    <tr>\n",
       "      <th>1</th>\n",
       "      <td>All the conflict in Gaza is achieving is civil...</td>\n",
       "      <td>All the conflict in Gaza is achieving is civil...</td>\n",
       "      <td>www.unitedkingdomnews.net</td>\n",
       "      <td>Israel cant defeat Hamas in battle, so what's ...</td>\n",
       "      <td>https://www.unitedkingdomnews.net/news/2740561...</td>\n",
       "      <td>en</td>\n",
       "      <td>2024-02-06 00:00:00</td>\n",
       "    </tr>\n",
       "    <tr>\n",
       "      <th>2</th>\n",
       "      <td>Mexico has launched its army-run airline, with...</td>\n",
       "      <td>For free real time breaking news alerts sent s...</td>\n",
       "      <td>www.independent.co.uk</td>\n",
       "      <td>Mexico's army-run airline takes to the skies, ...</td>\n",
       "      <td>https://www.independent.co.uk/news/andres-manu...</td>\n",
       "      <td>en</td>\n",
       "      <td>2023-12-26 17:08:10</td>\n",
       "    </tr>\n",
       "    <tr>\n",
       "      <th>3</th>\n",
       "      <td>This blog is now closed.</td>\n",
       "      <td>From 23 Dec 2023 18.49 CET UNRWA: 'People in G...</td>\n",
       "      <td>www.theguardian.com</td>\n",
       "      <td>Death toll from Israeli attacks tops 20,000 - ...</td>\n",
       "      <td>https://www.theguardian.com/world/live/2023/de...</td>\n",
       "      <td>en</td>\n",
       "      <td>2023-12-24 00:17:56</td>\n",
       "    </tr>\n",
       "    <tr>\n",
       "      <th>4</th>\n",
       "      <td>Palestinian Islamic Jihad posts videos of two ...</td>\n",
       "      <td>The BBC will not be broadcasting the clip itse...</td>\n",
       "      <td>www.bbc.co.uk</td>\n",
       "      <td>Israel sees 'sign of life' in Gaza hostage video</td>\n",
       "      <td>https://www.bbc.co.uk/news/world-middle-east-6...</td>\n",
       "      <td>en</td>\n",
       "      <td>2023-11-09 18:57:24</td>\n",
       "    </tr>\n",
       "  </tbody>\n",
       "</table>\n",
       "</div>"
      ],
      "text/plain": [
       "                                         description  \\\n",
       "0  The strategy goes well beyond defeating an opp...   \n",
       "1  All the conflict in Gaza is achieving is civil...   \n",
       "2  Mexico has launched its army-run airline, with...   \n",
       "3                           This blog is now closed.   \n",
       "4  Palestinian Islamic Jihad posts videos of two ...   \n",
       "\n",
       "                                            maintext  \\\n",
       "0  How to make sense of the sheer intensity of Is...   \n",
       "1  All the conflict in Gaza is achieving is civil...   \n",
       "2  For free real time breaking news alerts sent s...   \n",
       "3  From 23 Dec 2023 18.49 CET UNRWA: 'People in G...   \n",
       "4  The BBC will not be broadcasting the clip itse...   \n",
       "\n",
       "               source_domain  \\\n",
       "0        www.theguardian.com   \n",
       "1  www.unitedkingdomnews.net   \n",
       "2      www.independent.co.uk   \n",
       "3        www.theguardian.com   \n",
       "4              www.bbc.co.uk   \n",
       "\n",
       "                                               title  \\\n",
       "0  Israel’s use of disproportionate force is a lo...   \n",
       "1  Israel cant defeat Hamas in battle, so what's ...   \n",
       "2  Mexico's army-run airline takes to the skies, ...   \n",
       "3  Death toll from Israeli attacks tops 20,000 - ...   \n",
       "4   Israel sees 'sign of life' in Gaza hostage video   \n",
       "\n",
       "                                                 url language  \\\n",
       "0  https://www.theguardian.com/commentisfree/2023...       en   \n",
       "1  https://www.unitedkingdomnews.net/news/2740561...       en   \n",
       "2  https://www.independent.co.uk/news/andres-manu...       en   \n",
       "3  https://www.theguardian.com/world/live/2023/de...       en   \n",
       "4  https://www.bbc.co.uk/news/world-middle-east-6...       en   \n",
       "\n",
       "          date_publish  \n",
       "0  2023-12-05 12:47:14  \n",
       "1  2024-02-06 00:00:00  \n",
       "2  2023-12-26 17:08:10  \n",
       "3  2023-12-24 00:17:56  \n",
       "4  2023-11-09 18:57:24  "
      ]
     },
     "execution_count": 43,
     "metadata": {},
     "output_type": "execute_result"
    }
   ],
   "source": [
    "df_uk = pd.read_csv(\"../data/processed/UK.csv\")\n",
    "df_uk.head()"
   ]
  },
  {
   "cell_type": "code",
   "execution_count": 33,
   "metadata": {},
   "outputs": [
    {
     "data": {
      "text/plain": [
       "(1398, 7)"
      ]
     },
     "execution_count": 33,
     "metadata": {},
     "output_type": "execute_result"
    }
   ],
   "source": [
    "df_uk.shape"
   ]
  },
  {
   "cell_type": "code",
   "execution_count": 45,
   "metadata": {},
   "outputs": [
    {
     "data": {
      "text/plain": [
       "<Axes: xlabel='source_domain'>"
      ]
     },
     "execution_count": 45,
     "metadata": {},
     "output_type": "execute_result"
    },
    {
     "data": {
      "image/png": "[encoded data removed]",
      "text/plain": [
       "<Figure size 640x480 with 1 Axes>"
      ]
     },
     "metadata": {},
     "output_type": "display_data"
    }
   ],
   "source": [
    "df_uk[\"source_domain\"].value_counts().plot(kind='bar')"
   ]
  },
  {
   "cell_type": "code",
   "execution_count": 49,
   "metadata": {},
   "outputs": [
    {
     "data": {
      "text/plain": [
       "<Axes: ylabel='Frequency'>"
      ]
     },
     "execution_count": 49,
     "metadata": {},
     "output_type": "execute_result"
    },
    {
     "data": {
      "image/png": "[encoded data removed]",
      "text/plain": [
       "<Figure size 640x480 with 1 Axes>"
      ]
     },
     "metadata": {},
     "output_type": "display_data"
    }
   ],
   "source": [
    "df_uk['maintext'].apply(lambda x: len(x.split(' '))).plot(kind='hist', bins=10)"
   ]
  },
  {
   "cell_type": "code",
   "execution_count": 104,
   "metadata": {},
   "outputs": [],
   "source": [
    "titles = df_uk.title.values\n",
    "texts = df_uk.maintext.values"
   ]
  },
  {
   "cell_type": "code",
   "execution_count": 72,
   "metadata": {},
   "outputs": [],
   "source": [
    "cv = CountVectorizer(min_df=2, stop_words='english')\n",
    "tfidf = TfidfVectorizer(min_df=2, stop_words='english')"
   ]
  },
  {
   "cell_type": "code",
   "execution_count": 73,
   "metadata": {},
   "outputs": [],
   "source": [
    "cv_words = cv.fit_transform(df_uk['title'])\n",
    "tf_idf_words = tfidf.fit_transform(df_uk['title'])"
   ]
  },
  {
   "cell_type": "code",
   "execution_count": 74,
   "metadata": {},
   "outputs": [],
   "source": [
    "tf_idf_feature_array = np.array(tfidf.get_feature_names_out())\n",
    "tfidf_sorting = np.argsort(tf_idf_words.toarray()).flatten()[::-1]"
   ]
  },
  {
   "cell_type": "code",
   "execution_count": 75,
   "metadata": {},
   "outputs": [],
   "source": [
    "cv_feature_array = np.array(cv.get_feature_names_out())\n",
    "cv_sorting = np.argsort(cv_words.toarray()).flatten()[::-1]"
   ]
  },
  {
   "cell_type": "code",
   "execution_count": 76,
   "metadata": {},
   "outputs": [
    {
     "data": {
      "text/plain": [
       "array(['framework', 'outline', 'accession', 'soon', 'eu', 'kyiv', 'talks',\n",
       "       'ukraine', 'exploding', 'explosions', 'exchange', 'exclusive',\n",
       "       'execute', 'extended', 'executions', 'exercise', 'exercises',\n",
       "       'expanding', 'expands', 'export', 'expected', 'explosion',\n",
       "       'expects', 'expelled', 'exactly', 'expert', 'experts',\n",
       "       'explanation', 'explosives', 'explode'], dtype=object)"
      ]
     },
     "execution_count": 76,
     "metadata": {},
     "output_type": "execute_result"
    }
   ],
   "source": [
    "n = 30\n",
    "top_n = tf_idf_feature_array[tfidf_sorting][:n]\n",
    "top_n"
   ]
  },
  {
   "cell_type": "code",
   "execution_count": 78,
   "metadata": {},
   "outputs": [
    {
     "data": {
      "text/plain": [
       "array(['soon', 'framework', 'outline', 'eu', 'ukraine', 'accession',\n",
       "       'kyiv', 'talks', 'explosion', 'expected', 'exchange', 'exclusive',\n",
       "       'execute', 'extended', 'executions', 'exercise', 'exercises',\n",
       "       'expanding', 'expands', 'export', 'explosives', 'exploding',\n",
       "       'expects', 'expelled', 'exactly', 'expert', 'experts',\n",
       "       'explanation', 'explosions', 'explode'], dtype=object)"
      ]
     },
     "execution_count": 78,
     "metadata": {},
     "output_type": "execute_result"
    }
   ],
   "source": [
    "n = 30\n",
    "top_n = cv_feature_array[cv_sorting][:n]\n",
    "top_n"
   ]
  },
  {
   "cell_type": "code",
   "execution_count": 107,
   "metadata": {},
   "outputs": [],
   "source": [
    "topic_model = BERTopic(language=\"english\")\n",
    "topics, probs = topic_model.fit_transform(titles)"
   ]
  },
  {
   "cell_type": "code",
   "execution_count": 108,
   "metadata": {},
   "outputs": [
    {
     "data": {
      "text/html": [
       "<div>\n",
       "<style scoped>\n",
       "    .dataframe tbody tr th:only-of-type {\n",
       "        vertical-align: middle;\n",
       "    }\n",
       "\n",
       "    .dataframe tbody tr th {\n",
       "        vertical-align: top;\n",
       "    }\n",
       "\n",
       "    .dataframe thead th {\n",
       "        text-align: right;\n",
       "    }\n",
       "</style>\n",
       "<table border=\"1\" class=\"dataframe\">\n",
       "  <thead>\n",
       "    <tr style=\"text-align: right;\">\n",
       "      <th></th>\n",
       "      <th>Topic</th>\n",
       "      <th>Count</th>\n",
       "      <th>Name</th>\n",
       "      <th>Representation</th>\n",
       "      <th>Representative_Docs</th>\n",
       "    </tr>\n",
       "  </thead>\n",
       "  <tbody>\n",
       "    <tr>\n",
       "      <th>0</th>\n",
       "      <td>-1</td>\n",
       "      <td>375</td>\n",
       "      <td>-1_gaza_in_the_war</td>\n",
       "      <td>[gaza, in, the, war, to, as, of, israel, and, ...</td>\n",
       "      <td>[Ukraine-Russia war live: 28 killed in Kyiv st...</td>\n",
       "    </tr>\n",
       "    <tr>\n",
       "      <th>1</th>\n",
       "      <td>0</td>\n",
       "      <td>89</td>\n",
       "      <td>0_yemen_houthi_sea_red</td>\n",
       "      <td>[yemen, houthi, sea, red, houthis, rebels, shi...</td>\n",
       "      <td>[Japan condemns Yemen's Houthi rebels hijack o...</td>\n",
       "    </tr>\n",
       "    <tr>\n",
       "      <th>2</th>\n",
       "      <td>1</td>\n",
       "      <td>79</td>\n",
       "      <td>1_hostages_hostage_hamas_israeli</td>\n",
       "      <td>[hostages, hostage, hamas, israeli, israel, re...</td>\n",
       "      <td>[Goodbye, my brave daughter: Heartbroken mothe...</td>\n",
       "    </tr>\n",
       "    <tr>\n",
       "      <th>3</th>\n",
       "      <td>2</td>\n",
       "      <td>61</td>\n",
       "      <td>2_market_research_billion_reach</td>\n",
       "      <td>[market, research, billion, reach, stratview, ...</td>\n",
       "      <td>[Aircraft EWIS Market is Forecast to Reach US$...</td>\n",
       "    </tr>\n",
       "    <tr>\n",
       "      <th>4</th>\n",
       "      <td>3</td>\n",
       "      <td>48</td>\n",
       "      <td>3_syria_iraq_drone_us</td>\n",
       "      <td>[syria, iraq, drone, us, iranbacked, airstrike...</td>\n",
       "      <td>[US launches airstrikes on Iran-backed terrori...</td>\n",
       "    </tr>\n",
       "  </tbody>\n",
       "</table>\n",
       "</div>"
      ],
      "text/plain": [
       "   Topic  Count                              Name  \\\n",
       "0     -1    375                -1_gaza_in_the_war   \n",
       "1      0     89            0_yemen_houthi_sea_red   \n",
       "2      1     79  1_hostages_hostage_hamas_israeli   \n",
       "3      2     61   2_market_research_billion_reach   \n",
       "4      3     48             3_syria_iraq_drone_us   \n",
       "\n",
       "                                      Representation  \\\n",
       "0  [gaza, in, the, war, to, as, of, israel, and, ...   \n",
       "1  [yemen, houthi, sea, red, houthis, rebels, shi...   \n",
       "2  [hostages, hostage, hamas, israeli, israel, re...   \n",
       "3  [market, research, billion, reach, stratview, ...   \n",
       "4  [syria, iraq, drone, us, iranbacked, airstrike...   \n",
       "\n",
       "                                 Representative_Docs  \n",
       "0  [Ukraine-Russia war live: 28 killed in Kyiv st...  \n",
       "1  [Japan condemns Yemen's Houthi rebels hijack o...  \n",
       "2  [Goodbye, my brave daughter: Heartbroken mothe...  \n",
       "3  [Aircraft EWIS Market is Forecast to Reach US$...  \n",
       "4  [US launches airstrikes on Iran-backed terrori...  "
      ]
     },
     "execution_count": 108,
     "metadata": {},
     "output_type": "execute_result"
    }
   ],
   "source": [
    "topic_model.get_topic_info().head()"
   ]
  },
  {
   "cell_type": "code",
   "execution_count": 109,
   "metadata": {},
   "outputs": [],
   "source": [
    "topic_df = pd.DataFrame({'topic': topics, 'document': titles})"
   ]
  },
  {
   "cell_type": "code",
   "execution_count": 110,
   "metadata": {},
   "outputs": [
    {
     "data": {
      "text/plain": [
       "array([\"Mexico's army-run airline takes to the skies, with first flight to the resort of Tulum\",\n",
       "       'Death toll from Israeli attacks tops 20,000 - As it happened',\n",
       "       'British Defense Ministry Cites Intense Ground Combat in Ukraine',\n",
       "       'New hope for truce in Gaza as Hamas leader flies to Egypt for talks and Israel says it is willing to agree to another pause in exchange for hostages amid growing UN pressure',\n",
       "       'Hundreds of prisoners of war freed after exchange between Russia and Ukraine',\n",
       "       \"Is Putin worried he could LOSE next year's Russian election? Kremlin is 'inexplicably concerned' about the outcome and paying close attention anti-war protests\",\n",
       "       \"Wagner Group Mercenaries Become Part of Russia's National Guard\",\n",
       "       \"Israeli forces engage with Hamas fighters near Gaza City's Shifa Hospital which IDF believes sits on top of the terrorist group's HQ\",\n",
       "       'UN reports surge in people fleeing to Rafah as fighting intensifies - as it happened',\n",
       "       'WhatsApp’s AI shows gun-wielding children when prompted with ‘Palestine’',\n",
       "       'Israel-Hamas war: Cubans protest in front of US embassy in Havana - as it happened',\n",
       "       \"Heartbroken family of 23-year-old American soldier killed by Iran-backed drone strike on mysterious US military base on Jordan-Syria border says it was her FIRST tour of duty - as they reveal the 'tor\",\n",
       "       'Peace in the Middle East faces many obstacles... but as calls for a more permanent Israel-Hamas ceasefire grow louder from all sides, it is clear that sustaining the violence is untenable, experts war',\n",
       "       'Pro-Palestine activists claim to have shut down Boston arms company that supplies Israel',\n",
       "       'What age is conscription and will Brits be forced to sign up for military service if the UK goes to war with Russia?',\n",
       "       'Biden says 74 American dual citizens who were trapped in Gaza got out - with hundreds more still stuck inside war zone',\n",
       "       \"Jewish family targeted by anti-Semitic abuse in New Jersey's American Dream Mall over teen daughter's IDF jacket say 'dozens' of bystanders stood by just WATCHING as they were attacked\",\n",
       "       \"Slick videos or more 'authentic' content? The Israel-Gaza battles raging on TikTok and X\",\n",
       "       'Palestinian death toll in Gaza nears 20,000 with nearly 2 million people displaced',\n",
       "       'How the dead are counted in Gaza',\n",
       "       'US files war crime charges against Russians accused of...',\n",
       "       \"Sabre-rattling Iran warns expansion of the Israel-Hamas war across the Middle East is 'inevitable'\",\n",
       "       'Russia-Ukraine war live: Ukraine launches inquiry into ‘execution’ of captured soldiers - as it happened',\n",
       "       'Putin unleashes hypersonic missiles in deadly new wave of airstrikes on Ukraine - as UK intelligence claims Russia is on course to lose 500,000 troops on frontlines by end of 2024',\n",
       "       \"Hamas's Gaza leader Yahya Sinwar has been 'isolated' in his bunker, Israel's defence minister says as he confirms IDF troops are in the heart of Gaza City\",\n",
       "       'Israel rejects claims it is trying to force Palestinians out of Gaza',\n",
       "       \"Biden rips Hamas for 'repeatedly raping' women and girls and 'mutilating their bodies while they were still alive': President launches scathing attack on reported atrocities by terrorist group\",\n",
       "       'Israel expanding ground offensive into central Gaza refugee camps',\n",
       "       'A protest against a top Israel-born chef was called antisemitic. Staff tell a different story',\n",
       "       'Ecologist tracks birds of prey to find Israeli dead',\n",
       "       'Israel presses ahead in Gaza as errant killing of captives adds to concern about its wartime conduct',\n",
       "       'Israeli army is locked in street battles in Hamas stronghold as Tel-Aviv also launches strikes on Iran-backed Hezbollah militants in Lebanon and Syria',\n",
       "       \"Russia showcases devastating 'meteorite' missile in chilling threat\",\n",
       "       'Britain to spearhead radar-dodging stealth fighter jets with AI weapon systems',\n",
       "       'The Body of a Bulgarian Woman was Found in the Tiber River in Italy',\n",
       "       \"Thursday evening news briefing: 'Justice not served' say victim's family as Nottingham killer sentenced\",\n",
       "       \"At least half of Gaza's buildings damaged or destroyed, new analysis shows\",\n",
       "       'Israel finds one of the largest weapons caches discovered yet in Gaza - near a school and hospital',\n",
       "       'IDF evidence so far falls well short of al-Shifa hospital being Hamas HQ',\n",
       "       \"'This is making a mockery of the IDF's claims they don't target civilians': British MP Layla Moran claims her family are trapped in Gaza church being targeted by 'Israeli snipers'\",\n",
       "       'Russia Has Lost Almost 350,000 Troops in Ukraine, Report Says',\n",
       "       'Insane firefight between Russian and Ukrainian troops captured on video',\n",
       "       'Israel Gaza war: Hamas-run health ministry says Gaza death toll passes 10,000',\n",
       "       'Israeli women were raped and mutilated at gunpoint as they begged to be killed - could Hamas animals sink any lower?',\n",
       "       'Israel Again Urges Gazans to Head South Amid Expanding War Effort',\n",
       "       \"Kyiv protesters demand more spending on the Ukraine's war effort and less on local projects\",\n",
       "       \"Poland's prime minister visits Ukraine in latest show of foreign support for the war against Russia\",\n",
       "       \"Kremlin slams Israeli minister's threat to drop nuke on Gaza and urges urgent intervention\",\n",
       "       \"Air Force EXPANDS deadly cancer study at secret underground nuclear missile sites after cluster of non-Hodgkin lymphoma cases among troops and 'likely carcinogens' found on two bases\",\n",
       "       'Myanmar resistance claims first capture of a district capital from the military government',\n",
       "       'Pro-Israeli porn star, 51, claims he is being boycotted by pro-Palestinian porn stars for signing a rocket used by the IDF in Gaza with his own name',\n",
       "       '‘I won’t believe it until I see it’: Palestinians gather to greet freed prisoners',\n",
       "       \"Zaporizhzhia Nuclear Plant Power Restored, Averting 'Catastrophe'\",\n",
       "       'Israeli forces and Hamas fighting house-to-house battles in Gaza - as it happened',\n",
       "       '‘Lying for the laugh’: should comedians tell us the truth?',\n",
       "       'Russia refuses to give explanation over suspected missile which flew over Poland',\n",
       "       'Israel Palestine updates: IDF forces battle near overrun Gaza hospital as thousands flee',\n",
       "       \"Main road in Gaza a 'battlefield'\",\n",
       "       'When men don’t listen to women',\n",
       "       'Israel offers to evacuate babies from crippled Gaza...',\n",
       "       'Russia refuses to give explanation over suspected missile which flew over Poland',\n",
       "       \"When a close friend told her she'd never make it in the Army she got mad - now she's the first female active-duty sniper in American history: 'I really do appreciate the motivation'\",\n",
       "       'Ukraine sends machine-gun mounted robots to frontline to wipe out Russian cannon fodder',\n",
       "       \"How worrying numbers of young people are falling for Hamas's dirty tricks in the propaganda war, writes AMI H ORKABY\",\n",
       "       'Far-right Israeli ministers call for resettlement of Gaza - as it happened',\n",
       "       'Israel strikes south Gaza and raids a hospital in the north as war grinds on with renewed US support',\n",
       "       'GOP Lawmaker Compares Palestinian Civilians To Nazis',\n",
       "       'Ukraine-Russia war live: 28 killed in Kyiv strike on bakery in occupied east, Moscow claims',\n",
       "       \"David Cameron meets Volodymyr Zelenskyy, reiterates UK's support for Ukraine\",\n",
       "       'Has Israel invaded Gaza? The military has been vague, even if its objectives are clear',\n",
       "       'Live: Israel pounds Gaza as Hamas says death toll surpasses 10,000',\n",
       "       '20,000 Ukrainian men have fled the country to avoid being drafted, with dozens escaping daily - even swimming across rivers to avoid going to war',\n",
       "       'Donald Trump will clinch the Republican nominee for president by MARCH 19, his campaign says',\n",
       "       'Israeli troops poised to press into Gaza City with force - as Palestinians say death toll passes 10,000',\n",
       "       'Israel says fighting in Gaza is most intense since start of ground offensive',\n",
       "       \"Somber Gigi Hadid jets into NYC in FIRST sighting since star backtracked on claims Israel is 'raping and torturing' Palestinians and admitted she failed to 'fact check' inflammatory post\",\n",
       "       \"Israel's military campaign in Gaza seen as among the most destructive in history, experts say\",\n",
       "       \"Biden says Hamas is committing war crimes by storing weapons in tunnels beneath Gaza hospital and insists a 'two-state solution' will be the outcome of the Israel conflict\",\n",
       "       'Israeli military forces in a state of ‘high readiness’ says senior IDF spokesperson - as it happened',\n",
       "       'Polish military say Russian missile entered its airspace from direction of Ukraine then vanished off radars',\n",
       "       'Israel-Gaza war: Dead bodies and tanks on road south as people flee',\n",
       "       'Fears grow for largest remaining hospital in Gaza as Israeli forces bombard Khan Younis',\n",
       "       'Kiev denies Russian sleeper spies now activated in security agency',\n",
       "       'Israel-Hamas war: IDF brings enormous blimp out of retirement to deter Hezbollah',\n",
       "       'Bahrain: 13 People Convicted in Unfair Mass Trial',\n",
       "       'Republican compares Palestinian civilians to Nazis in controversial speech on the House floor - shortly after wearing an IDF uniform in Congress',\n",
       "       \"Hamas militants 'wearing Israeli army uniforms to disguise themselves'\",\n",
       "       \"Israel 'is planning a new ground war against Hezbollah after Gaza campaign' with officials warning October 7 massacre would be 'nothing compared' to a terror attack from the north\",\n",
       "       'Israel-Gaza war: Counting the destruction of religious sites',\n",
       "       'Refugees who fled to India after latest fighting in Myanmar have begun returning home, officials say',\n",
       "       'Israeli forces pushing into south Gaza',\n",
       "       'Princess Leonor is so poised in military uniform for royal first supported by King Felipe VI and Queen Letizia',\n",
       "       'Letter to the UK Government Calling for an Immediate Halt to UK Arms Transfers to the Government of Israel',\n",
       "       'Hamas weapons and command HQ found in Al-Shifa hospital, Israel claims',\n",
       "       'Viasat and Airbus Deliver Secure Broadband SATCOM for Irish Defence Forces on C295 MSA Aircraft',\n",
       "       'British, German Top Diplomats Call for Sustainable Cease-Fire in Gaza',\n",
       "       'Calls for Gaza Cease-Fire Grow as Israel Vows to Dismantle Hamas',\n",
       "       '‘A story of revolutionary deep care’: revisiting the history of radical abortion defense',\n",
       "       'Khan Younis: UN says 12 killed at Gaza shelter as fighting rages',\n",
       "       'Kiev denies Russian moles penetrated security agency',\n",
       "       'Russia-Ukraine war: Russia confirms Ukrainian troops have crossed Dnipro River - as it happened',\n",
       "       'Qatar mediator says latest prisoner release would comprise 16 children and 14 women - as it happened',\n",
       "       'London surgeon Ghassan Abu-Sittah on Gaza war horrors',\n",
       "       \"Hamas fighters with RPGs 'engage in firefight with IDF troops at Gaza hospital' as Israel also surrounds second medical facility believed to be hiding the terrorists' HQ in 'circle of death'\",\n",
       "       'Report Says Israel Used US Weapons To Kill Gaza Families',\n",
       "       \"Doomsday Clock still 90 seconds to midnight as we're 'closest we've ever been' to End Times\",\n",
       "       'Is Hamas the same as ISIS, the Islamic State group? No',\n",
       "       'Australia and EU in talks about ‘the day after’ war in Gaza and unite on two-state solution',\n",
       "       \"Vladimir Putin's possible successor makes chilling nuclear weapons boast\",\n",
       "       \"Gigi Hadid fears she has caused 'collateral damage' for love interest Bradley Cooper after backlash over her Instagram post about Israel 'raping and torturing' Palestinians - and plans to 'stay out of\",\n",
       "       \"Gigi Hadid backtracks on claims Israel is 'raping and torturing' Palestinians as she ADMITS she failed to 'fact check' inflammatory post - amid mounting pressure on modeling agency to cut ties\",\n",
       "       \"White House 'raises concerns' with Israel after sniper shot dead two Christian women in Gaza in latest rift between Washington and Tel Aviv\",\n",
       "       '‘I will not be silenced’: Rashida Tlaib won’t stop fighting for Palestinian rights',\n",
       "       \"Israeli reservist: I chose to fight but don't know if I'll come back alive\",\n",
       "       'UK contemplating sending troops to Ukraine ex-ambassador',\n",
       "       'Ukraine damages a Russian landing ship in the Black Sea after battlefield disappointments',\n",
       "       'Palestinian Prisoner Speaks Out As Israel Say Hamas Broke Ceasefire',\n",
       "       \"War mad Vlad Putin 'often has a habit of ruining Christmas,' rages enemy leader\",\n",
       "       'Florida Republican voters could be key to push for abortion rights referendum',\n",
       "       \"The youngest victims of the Gaza war: Time is running out for 36 newborns at Shifa hospital surrounded by IDF, as Biden calls on medical centres to be 'protected' - but Israel insists Hamas 'uses thos\",\n",
       "       'Japan will send Patriot missiles to the U.S.: Tokyo relaxes post-Second World War export ban on deadly weapons in defense systems deal that could help Ukraine in its war with Russia',\n",
       "       'Rina Gonoi: Three ex-Japanese soldiers found guilty of sexually assaulting colleague who spoke about her ordeal on YouTube',\n",
       "       \"WhatsApp's AI has shocking ideas about Palestinian children\",\n",
       "       \"Zaporizhzhia Nuclear Plant Power Restored, Averting 'Catastrophe'\",\n",
       "       'Frontline footage shows Russian special forces hiding spot being wiped out by Ukraine',\n",
       "       'Live: Israel pounds Gaza as Hamas says death toll nears 10,000',\n",
       "       \"Volcano eruption in Iceland sends lava spewing just 500 metres away from Grindavik as smoke seen billowing into the sky - as country's president reassures lives are not in danger and flights still run\",\n",
       "       'Russia-Ukraine war: Zelenskiy says security of Ukraine, Europe and US relies on forceful response to Russia - as it happened',\n",
       "       'Why the world is due for MORE conflicts around the globe: With Ukraine, Gaza and the Red Sea all at war, JUSTIN CRUMP explains why MORE wars will break out as nations clamour for resources',\n",
       "       'IDF censures its soldiers filmed mocking call to prayer in Jenin mosque',\n",
       "       \"Israel's Defence Forces gear up for operation into South Gaza as hundreds of Palestinians accuse Tel-Aviv troops of forcing wounded civilians to leave Al-Shifa hospital as they conduct search for Hama\",\n",
       "       \"UN team says 32 babies are among scores of critically ill patients stranded in Gaza's main hospital\",\n",
       "       'Senate to debate Bernie Sanders’ measure requiring Gaza human rights report as condition for Israel aid - as it happened',\n",
       "       'Is Hamas the same as ISIS, the Islamic State group? No',\n",
       "       \"Georgia lawmakers mourn 'inexcusable' deaths of three soldiers from the Peach State killed in 'infuriating' Iran-backed attack including Breonna Moffett, 23, and Kennedy Ladon Sanders, 24\",\n",
       "       'US Affirms Support For Israel As Calls Mount For Gaza Ceasefire',\n",
       "       \"Kuwait's ruling emir, Sheikh Nawaf Al Ahmad Al Sabah, dies at age 86\",\n",
       "       'Three former soldiers found guilty in landmark Japan sexual assault case',\n",
       "       'US nuclear sub arrives in Middle East amid fears of dangerous escalation',\n",
       "       \"Israeli soldiers' mosque behaviour condemned by IDF\",\n",
       "       'A UN envoy says the Israel-Hamas war is spilling into Syria, adding to growing instability there',\n",
       "       \"Israel blows up home of senior Hamas leader in West Bank as the IDF continues to target the Islamist group's top men\",\n",
       "       'Rebels in Congo take key outpost in the east as peacekeepers withdraw and fighting intensifies',\n",
       "       'Labour steps up criticism of ‘intolerable’ killings in Gaza',\n",
       "       'Top U.S. defense firm General Dynamics is planning to open weapons plant in Ukraine - an investment that implies taxpayers will continue to dole out dollars to support war that has no end in sight',\n",
       "       \"Palestinians killed by firing squad 'hung upside down' from pylon after 'traitor' chants\",\n",
       "       \"Russia's Wagner Group 'plans to give Hezbollah high tech air-defenses' to deploy along the border with Israel in 'major concern' to US intelligence\",\n",
       "       'Hamas Has Lost Control Of Gaza, Claims Israel',\n",
       "       'Palestinian poet Mosab Abu Toha released by IDF after abrupt arrest',\n",
       "       'Iceland volcano: Thousands forced to flee deadly magma as eruption takes place near power plant',\n",
       "       'WHO says a child is killed every 10 minutes in Gaza - as it happened',\n",
       "       'Calls for Gaza Cease-Fire Grow as Israel Vows to Dismantle Hamas',\n",
       "       'Israel-Gaza war: Residents of Khan Younis say Israeli strikes heaviest since start of war',\n",
       "       'Left-wing Jews are torn between their values and the intensifying conflict',\n",
       "       'Ukraine-Russia war live: 28 killed in Kyiv strike on bakery in occupied east, Moscow claims',\n",
       "       \"Russia wants evidence before giving explanations about an object that entered Poland's airspace\",\n",
       "       \"Myanmar's military is losing ground against coordinated nationwide attacks, buoying opposition hopes\",\n",
       "       \"Images show major damage to Gaza's oldest mosque\",\n",
       "       'Hamas leader arrives in Cairo to discuss Gaza war',\n",
       "       'Thousands of bodies lie buried in rubble in Gaza. Families dig to retrieve them, often by hand',\n",
       "       'West risks being complicit in Israeli war crimes, warn Arab and Muslim foreign ministers',\n",
       "       'London surgeon Ghassan Abu-Sittah on Gaza war horrors',\n",
       "       \"Ten GOP senators urge top Democrat Chuck Schumer to REJECT Biden's $9BILLION Gaza humanitarian aid ask because it will be a 'gift' to Hamas murderers\",\n",
       "       'Letter to the UK Government Calling for an Immediate Halt to UK Arms Transfers to the Government of Israel',\n",
       "       'Eight-year-old boy among four reported dead in Israeli raid on Jenin',\n",
       "       'Thousands trapped in Gaza hospitals as Israeli troops encircle Khan Younis',\n",
       "       'Top UK general withheld evidence of SAS executions BBC',\n",
       "       \"Harrowing footage in Gaza City hospital 'shows decomposing bodies of babies left to die'\",\n",
       "       'Deadly blast kills at least 25 people in Russian-occupied Ukraine',\n",
       "       'Friday evening news briefing: Hamas military system nearly dismantled in northern Gaza, says Israel',\n",
       "       'Calls for Cease-fire in Gaza Growing',\n",
       "       'Live: Israel pounds Gaza as Hamas says death toll surpasses 10,000',\n",
       "       'The Pentagon has no more money for Ukraine as it hosts a meeting of 50 allies on support for Kyiv',\n",
       "       'US and Israel discuss when to scale back Gaza combat but agree fight will take months, envoy says',\n",
       "       'Feargal Sharkey praised for ‘powerful’ Israel-Palestine speech on Have I Got News for You',\n",
       "       'Israel says Gaza fighting could last a year, amplifying fears of regional war',\n",
       "       'Land of legends, land of blood: How Gaza became an eternal war zone',\n",
       "       'Lucinity Joins Forces with Trustly to Elevate Financial Crime Prevention',\n",
       "       'American Jews face 199 swatting and bomb threats across 14 states in a SINGLE day - as 2023 sees 541% spike in threats against synagogues',\n",
       "       'Israel-Hamas war: IDF doubles strikes on Gaza Strip',\n",
       "       'How the US and UK prepares for war over the Nevada desert: Daily Mail joins Exercise Red Flag drills where fighter jets train to take out enemy defense systems as allies ramp up strikes on Houthi targ',\n",
       "       'An ethnic resistance group in northern Myanmar says an entire army battalion has surrendered to it',\n",
       "       \"Boris Johnson visits kibbutz where Hamas massacred Israeli civilians as he warns 'we face a huge terrorist threat' on solidarity visit to Israel following October 7 attacks\",\n",
       "       'Lufthansa to resume flights to Tel Aviv in January - as it happened',\n",
       "       \"Two Republican Congressmen claim UFOs could be 'angels' sent by GOD as they say sightings are consistent with scriptures from the Bible\",\n",
       "       'Live updates | Talks on Gaza cease-fire and freeing more hostages as Hamas leader is in Egypt',\n",
       "       \"Protesters calling Antony Blinken a 'murderer' demand ceasefire in Gaza and derail hearing: Demonstrators hauled out and put up hands covered in 'blood' amid chaos in Congress\",\n",
       "       'Valdo Calocane: Everything we know about the Nottingham attacks killer so far',\n",
       "       \"David Cameron meets Volodymyr Zelenskyy, reiterates UK's support for Ukraine\",\n",
       "       'Letter to the UK Government Calling for an Immediate Halt to UK Arms Transfers to the Government of Israel',\n",
       "       'US and UK militaries ‘owe’ combined $111bn in climate reparations - study',\n",
       "       \"'We saw phosphorus burns': British-Palestinian surgeon recounts injuries he saw in Gaza - video\",\n",
       "       'Yahya Sinwar: Who is the Hamas leader in Gaza?',\n",
       "       \"Israel faces growing resistance from Hamas as the fighting rages from house to house and 'tunnel shaft to shaft' throughout Gaza City\",\n",
       "       '‘No climate justice without peace’: Gaza becomes flashpoint for climate activists',\n",
       "       'Israel Gaza: Drone shots show Palestinians buried in Rafah mass grave',\n",
       "       \"Israel 'breaks through' Hamas front line in northern Gaza\",\n",
       "       'Fiona Bruce stunned after audience member brands IDF ‘terrorists’',\n",
       "       'Israel extends ground offensive into southern Gaza, with mission in north ‘almost complete’',\n",
       "       'Land of legends, land of blood: How Gaza became an eternal war zone',\n",
       "       'The world in 2024: Guardian writers on what to look out for',\n",
       "       '‘Buying influence’: top US nuclear board advisers are tied to arms business',\n",
       "       'US police agencies took intelligence directly from IDF, leaked files show',\n",
       "       'False claims of staged deaths surge in Israel-Gaza war',\n",
       "       'Layla Moran: MP confirms death of family member in Gaza',\n",
       "       'British, German Top Diplomats Call for Sustainable Cease-Fire in Gaza',\n",
       "       'Live updates | Israeli warplanes hit refugee camp in Gaza Strip, killing at least 33 people',\n",
       "       'When men don’t listen to women',\n",
       "       'The US is officially unable to defend itself against an alien invasion',\n",
       "       'IDF instructions on Gaza refuge zones cruel ‘mirage’, say aid agencies',\n",
       "       'Nearly 100,000 Gaza buildings may be damaged, satellite images show',\n",
       "       'What are they trying to tell us? Internal Pentagon report warns America is unequipped to defend itself from an ALIEN invasion',\n",
       "       'Top UK general withheld evidence of SAS executions BBC',\n",
       "       'US to provide Ukraine with up to $250m in arms and equipment',\n",
       "       'UK contemplating sending troops to Ukraine ex-ambassador',\n",
       "       'Pentagon steps on AI accelerator as age of lethal autonomy looms',\n",
       "       'Western diplomats demand Gaza ceasefire',\n",
       "       '‘A formulaic game’: former officials say Trump’s attacks threaten rule of law',\n",
       "       'Ukraine-Russia war live: 28 killed in Kyiv strike on bakery in occupied east, Moscow claims',\n",
       "       'We have zombie Republican presidential candidates, enabled by an undead media',\n",
       "       'Calls for Cease-fire in Gaza Growing',\n",
       "       'Gaza: Surgeon ready to help says moral duty trumps fear',\n",
       "       'Blood-curdling confessions of ‘Gaza’s Bin Laden’ Yahya Sinwar revealed…as he admits he loves to kill with his bare hands',\n",
       "       '‘It’s not yet post-traumatic stress disorder … we’re still in it’: Israel, a nation at war',\n",
       "       'What the left gets wrong about Gaza and “decolonisation”',\n",
       "       \"AS Byatt, Who Wrote Bestseller 'Possession, Dies at 87\",\n",
       "       \"Khan Younis: Israel says forces have encircled Gaza's second city\",\n",
       "       'Bahrain: 13 People Convicted in Unfair Mass Trial',\n",
       "       \"Panicked Swedish youths flood helpline with calls after minister warned 'there could be war' and urged people to prepare for conflict in face of Russia tensions - as row breaks out over his 'alarming'\",\n",
       "       'Israel Again Urges Gazans to Head South Amid Expanding War Effort',\n",
       "       'Ukraine-Russia war live: 28 killed in Kyiv strike on bakery in occupied east, Moscow claims',\n",
       "       'USAid contractor and family killed in Israeli Gaza airstrike, agency says',\n",
       "       'Russian shelling kills 11 in Donetsk region while Ukraine claims it hit a Crimean air base',\n",
       "       'Dramatic body cam shows the moments Hamas terrorists launched their sunrise attack on Israel slaughtering police and 1,200 civilians along the road others and sparked the ongoing war',\n",
       "       'Wagner mercenaries likely serving in Russian national guard, says UK - as it happened',\n",
       "       'Israeli grid maps make life in Gaza ‘macabre game of Battleships’, say aid workers',\n",
       "       'Israeli soldiers fighting Hamas terrorists in schools and alleys in insane footage',\n",
       "       \"Police launch investigation into Alex Batty's alleged abduction\",\n",
       "       'Leftist Democrats invoke human rights law in scrutiny of Israel military aid',\n",
       "       \"US staring down the barrel of 'catastrophic' UFO leak, retired army colonel warns\",\n",
       "       'Israel says time running out to reach diplomatic solution in Lebanon',\n",
       "       \"Palestinians 'trapped' in bombarded coastal town as UN stops short of ordering ceasefire\",\n",
       "       \"Myanmar' army is facing battlefield challenges and grants amnesty to troops jailed for being AWOL\",\n",
       "       'Footage shows dozens of Hamas suspects stripped and blindfolded being paraded around in their underwear by IDF soldiers',\n",
       "       'UN Security Council to Vote on Call for Humanitarian Pause in Gaza',\n",
       "       'Israeli jets strike Gaza refugee camp, as US fails to win immediate support for pause in fighting',\n",
       "       'US carrier strike group to return home for first time since Israel-Hamas war',\n",
       "       'Russia says it test-fired an intercontinental ballistic missile from a new nuclear submarine',\n",
       "       'Kiev denies Russian sleeper spies now activated in security agency',\n",
       "       'British, German Top Diplomats Call for Sustainable Cease-Fire in Gaza',\n",
       "       \"Friday evening news briefing: Police launch investigation into Alex Batty's alleged abduction\",\n",
       "       'India grapples with killer smog ahead of COP 28 summit in Dubai',\n",
       "       'Republican compares Palestinian civilians to Nazis in controversial speech on the House floor - shortly after wearing an IDF uniform in Congress',\n",
       "       \"Hamas terror chief's lair is surrounded: Israeli tanks have circled the home of Yahya Sinwar as Netanyahu warns 'it's only a matter of time before we get him'\",\n",
       "       \"Israel deploys world's toughest all-female ‘Cheetah Battalion’ on secret op in heart of Gaza to hunt for Hamas’s leaders\",\n",
       "       \"The AP Interview: Ukraine's Zelenskyy says the war with Russia is in a new phase as winter looms\",\n",
       "       'Israel-Hamas war: Ground operation under way as IDF forces push into southern Gaza',\n",
       "       \"10 killed by shelling on Russia's Belgorod following Moscow's aerial assault against Ukraine\",\n",
       "       'UK factories help build the jets used by the Israeli military. They should be stopped',\n",
       "       '‘The Gospel’: how Israel uses AI to select bombing targets in Gaza',\n",
       "       'Live: Israel pounds Gaza as Hamas says death toll nears 10,000',\n",
       "       'Israel faces difficult phase of war with fighting in north and south Gaza',\n",
       "       'US announces new weapons package for Ukraine, as funds dwindle and Congress is stalled on aid bill',\n",
       "       \"Biden says Palestinian children are 'crying out for their parents', vows to get all Americans out of Gaza and urges Israel to protect citizens after refugee camp was bombed for the second day in a row\",\n",
       "       'Israel-Hamas war: Brazil’s president accuses Israel of ‘killing innocent people’ - as it happened',\n",
       "       'Gaza becoming ‘a graveyard for children’, says UN secretary general',\n",
       "       \"UK to sign naval 'security pact with Ukraine Telegraph\",\n",
       "       'Hamas reports clashes with IDF - as it happened',\n",
       "       \"Israel Gaza: 'I walked my kids past explosions and rotting corpses'\",\n",
       "       \"US military leaders head to Israel and will offer advice on shifting to the war's next phase in Gaza\",\n",
       "       'London surgeon Ghassan Abu-Sittah on Gaza war horrors',\n",
       "       'EU diplomats demand Gaza ceasefire',\n",
       "       \"IDF says Hamas 'hide rockets in playgrounds & swimming pools' as Netanyahu vows 'no ceasefire' until hostages are freed\",\n",
       "       'Twisted Hamas terrorists fill nursery with weapons and explosives - use kids as shields',\n",
       "       \"'The woke smugness is out of control': SNL is blasted after mocking Trump for using the term 'de-bank' claiming he made it up even though it is a common term to describe financial institutions closing\",\n",
       "       'Missing in action: essential context in the Israeli attack on Gaza',\n",
       "       'Israel’s judicial overhaul plans: what is row about and will it affect war in Gaza?',\n",
       "       'Britain sending more warships to Indian Ocean for joint training',\n",
       "       'Israel orders Khan Younis evacuation in southern Gaza',\n",
       "       'Israeli teen jailed for refusing to enlist in army during Hamas war',\n",
       "       'Inside the Israeli artillery unit hitting the Gaza Strip',\n",
       "       'Israeli forces ‘determined to advance’, says military - as it happened',\n",
       "       'Israel-Hamas war: Dozens killed in devastating refugee camp blast in Gaza',\n",
       "       \"Poland says 'everything indicates' a Russian missile briefly entered its airspace and left\",\n",
       "       'Turkish Parliament Bans Coca-Cola, Nestle From Premises',\n",
       "       'Russia-Ukraine war: Zelenskiy ‘weighing up presidential elections in spring’ - as it happened',\n",
       "       'Israel says troops are in centre of Khan Younis',\n",
       "       \"Mexico's hurricane reconstruction plans prioritize military barracks, owners left to rebuild hotels\",\n",
       "       'David Cameron visits Zelensky in Ukraine in first overseas trip since surprise return',\n",
       "       'US urges Israel to switch from Gaza bombardment to ‘precise targeting’ of Hamas',\n",
       "       'Nepal Bans TikTok, Says It Disrupts Social Harmony',\n",
       "       \"EXCLUSIVE: CIA's secret office has conducted UFO retrieval missions on at least NINE crash sites around the world, whistleblowers reveal\",\n",
       "       'Israeli minister outlines plans for Gaza after war',\n",
       "       \"EU, Ukraine to Soon Outline Framework for Kyiv's Accession Talks\",\n",
       "       'Ukraine says 3 civilians killed by Russian shelling and Russia says a drone killed a TV journalist',\n",
       "       'Kiev denies Russian moles penetrated security agency',\n",
       "       '‘I keep asking myself how will I die?’ Gaza residents in fear as battle for Khan Younis escalates',\n",
       "       '‘Think about the unthinkable’: could the US handle an even worse January 6?',\n",
       "       'Israel-Hamas war: Fighting continues around hospitals as IDF pledges incubators for sick babies',\n",
       "       \"Fear and free speech collide on America's campuses as Israel-Hamas war rages\",\n",
       "       'Israel’s military strategy threatens to make a desperate situation utterly dire',\n",
       "       'Footage shows IDF parading scores of Palestinian men around in underwear',\n",
       "       \"Israel accuses Hamas of 'war crimes' and reveals new evidence terror group uses hospitals as military HQs - as IDF says it has 'fully encircled Gaza City'\",\n",
       "       'Putin threat as ex-Soviet nation spends £5.2bn on US F-35s',\n",
       "       \"EU, Ukraine to Soon Outline Framework for Kyiv's Accession Talks\",\n",
       "       \"Protesters calling Antony Blinken a 'murderer' demand ceasefire in Gaza and derail hearing: Demonstrators hauled out and put up hands covered in 'blood' amid chaos in Congress\",\n",
       "       'White House seeks to restrain Israel in Gaza amid growing internal dissent',\n",
       "       'Fury on the streets of Tel Aviv over IDF shooting of Israeli hostages: Families of civilians kidnapped by Hamas stage demo after army admitted killing three it mistook for terrorists in Gaza fighting',\n",
       "       'Israeli forces kill three Palestinian fighters in West Bank hospital raid',\n",
       "       'FBI Director warns Hamas attack on Israel could inspire terrorism on AMERICAN soil: Christopher Wray says Hezbollah has also attempted operations in the U.S. in bleak prediction',\n",
       "       'Israel Again Urges Gazans to Head South Amid Expanding War Effort',\n",
       "       \"Elections en RDC : l'heritage de la famille Kabila pèse sur le scrutin\",\n",
       "       'Why is Joe Biden dragging the US into another potential war?',\n",
       "       'Married Texas car dealership heir, Erik Charles Maund, 48, is found guilty of paying two ex-US Marines and former IDF fighter $750k to kill sex worker, 33, and boyfriend after they tried to blackmail',\n",
       "       'Thursday briefing: Can US support for Israel’s war against Hamas survive ‘indiscriminate bombing’?',\n",
       "       \"British MP Layla Moran says members of her family are 'days from dying' as they remain trapped in Gaza church where elderly woman and daughter were 'shot dead by Israeli sniper'\",\n",
       "       'Dead, wounded or AWOL: Secret recordings reveal Russian soldiers trying to get out of the Ukraine war',\n",
       "       'Bahrain: 13 People Convicted in Unfair Mass Trial',\n",
       "       'Ukraine Hopeful Talks on Its EU Accession Will Start Soon',\n",
       "       'Grandmother fleeing Israeli bombs with grandson carrying white flag shot dead in street',\n",
       "       'Israel-Gaza war: Israeli bombing is killing and maiming children at a record pace, warn human rights groups',\n",
       "       'Israel says it will help evacuate premature babies',\n",
       "       \"UK sends 2 minehunters to Ukraine as Britain and Norway seek to bolster Kyiv's navy in the Black Sea\",\n",
       "       'Israel and Hamas at war: what we know on day 29',\n",
       "       'Jewish refugees from Israel find comfort and companionship in a countryside camp in Hungary',\n",
       "       'Israeli prime minister says “no intention of permanently occupying Gaza” - as it happened',\n",
       "       'Awni Eldous: The Palestinian boy who found YouTube fame after death',\n",
       "       'Israel Hamas war: Five key battlegrounds mapped as IDF clashes with terrorists',\n",
       "       'Israel’s focus turns to Khan Younis as it hunts for Hamas leaders',\n",
       "       'Weeks into the war, how much closer is Israel to its goal?',\n",
       "       \"Dozens of public school teachers in Oakland plan to hold unauthorized pro-Palestinian lessons - including a coloring book branding Israelis 'ZIONISTS' - in move slammed by local Jewish groups\",\n",
       "       'Calls for Cease-fire in Gaza Growing',\n",
       "       'Dubai air chiefs summit, sponsored by Israeli firm, avoids discussing strikes as Hamas war rages',\n",
       "       'In US, some Muslim-Jewish interfaith initiatives are strained by Israel-Hamas war',\n",
       "       'Russia ramps up attacks on key cities in eastern Ukraine',\n",
       "       \"Hamas reveals its plan for 'permanent war with Israel': Terror group says it hopes 'the Arab world will stand with us' and boasts 'no-one in the region is experiencing calm'\",\n",
       "       'Air attack in northwestern Myanmar kills 17, including children, but military denies responsibility',\n",
       "       'Bella Hadid Replaced With Israeli Model In Latest Dior Ad: Reports',\n",
       "       'Is Hamas the same as ISIS, the Islamic State group? No',\n",
       "       'India scrambles fighter jets to investigate UFO sighting as airport halts flights',\n",
       "       'Ukraine-Russia war live: 28 killed in Kyiv strike on bakery in occupied east, Moscow claims',\n",
       "       \"Protestors with 'bloody' hands storm Congress shouting 'murderer' and demanding Gaza ceasefire\",\n",
       "       \"How the US keeps funding Ukraine's military - even as it says it's out of money\",\n",
       "       'A political stalemate led to the bloodshed in the Middle East. Only a political settlement can truly end it',\n",
       "       'Washington and Baghdad plan to hold talks soon to end presence of US-led coalition in Iraq',\n",
       "       \"Russia 'loses 1,190 troops' after Ukraine repels Dnipro pushback\",\n",
       "       \"Israeli troops push deep into Gaza's southern city of Khan Younis\",\n",
       "       'Russia Has Lost Almost 350,000 Troops in Ukraine, Report Says',\n",
       "       \"The Iowa Republican Presidential Primary debate LIVE: Nikki Haley calls January 6 a 'terrible day' and criticizes Trump for repeatedly saying the election was stolen\",\n",
       "       'Over 200 Americans move TO Israel since Hamas barbaric attack launched a war and wave of antisemitism',\n",
       "       \"With the world's eyes on Gaza, attacks are on the rise in the West Bank, which faces its own war\",\n",
       "       \"Israel obtained Hamas' October 7 battle plan a YEAR before it happened - but dismissed attack as 'aspirational', bombshell report claims\",\n",
       "       'Three Palestinians shot dead by Israeli forces in West Bank, says health ministry',\n",
       "       'Calls for Gaza Cease-Fire Grow as Israel Vows to Dismantle Hamas',\n",
       "       'MSNBC host Joy Reid drops F-bomb in hot mic gaffe about drone strike on US military base as she blames Trump and Congress for border crisis',\n",
       "       'Two Palestinian boys killed during Israeli raid in West Bank',\n",
       "       \"EXCLUSIVE: Virginia's top prosecutor probing donations to pro-Palestine group with Hamas ties says 'moral leadership' is needed to cut through rising antisemitism on college campuses\",\n",
       "       'Corpses of abandoned babies found in Gaza hospital thanks to Israeli airstrikes',\n",
       "       '‘Israeli talking points in Carrie Bradshaw’s voice’: what we can learn from two Israel-Palestine bestsellers',\n",
       "       \"STEPHEN GLOVER: It's a charge the BBC can't ignore - That its reporting makes Jews in Britain feel less safe\",\n",
       "       'First Britons leave Gaza - but others are turned back',\n",
       "       '‘It can explode at any second’: fear at the Israeli market town split between two communities',\n",
       "       'Russia Has Lost Almost 350,000 Troops in Ukraine, Report Says',\n",
       "       \"Horror in Iceland as enormous volcanic eruption triggers fast moving lava stream that has swallowed houses with experts warning 'it's not possible to imagine anything worse'\",\n",
       "       'Boy, 13, is arrested and charged with planning a mass shooting at Temple Israel synagogue in Ohio - as police were tipped off after posts on Discord',\n",
       "       \"UK to sign naval 'security pact with Ukraine Telegraph\",\n",
       "       'Live updates | Israeli ground forces attack Hamas targets in north as warplanes strike across Gaza',\n",
       "       'UK preparing to push Ukraine toward peace talks media',\n",
       "       'French foreign minister visits Kyiv and pledges solidarity as Russia launches attacks',\n",
       "       'US military is seeing UFOs in SPACE, official report says',\n",
       "       \"Heartbroken family of US soldier, 24, killed in Jordan strike reveal she died alongside her best friend, 23, after following in her grandfather and father's footsteps to join the military\",\n",
       "       \"Gaza fighting 'most intense' since war began as IDF enters Khan Younis\",\n",
       "       'Russia-Ukraine war: Moscow says Kyiv risking nuclear disaster after Ukrainian drones shot down near Zaporizhzhia - as it happened',\n",
       "       \"Rashida Tlaib says Palestinians are 'human beings' and defends her right to criticize Israel in speech tearing into colleagues for advancing bill to censure her for calling Hamas attack 'resistance' a\",\n",
       "       \"EU, Ukraine to Soon Outline Framework for Kyiv's Accession Talks\"],\n",
       "      dtype=object)"
      ]
     },
     "execution_count": 110,
     "metadata": {},
     "output_type": "execute_result"
    }
   ],
   "source": [
    "topic_1 = topic_df[topic_df.topic == -1]\n",
    "topic_1.document.values"
   ]
  },
  {
   "cell_type": "code",
   "execution_count": 115,
   "metadata": {},
   "outputs": [
    {
     "data": {
      "application/vnd.plotly.v1+json": {
       "config": {
        "plotlyServerURL": "https://plot.ly"
       },
       "data": [
        {
         "customdata": [
          [
           0,
           "yemen | houthi | sea | red | houthis",
           89
          ],
          [
           1,
           "hostages | hostage | hamas | israeli | israel",
           79
          ],
          [
           2,
           "market | research | billion | reach | stratview",
           61
          ],
          [
           3,
           "syria | iraq | drone | us | iranbacked",
           48
          ],
          [
           4,
           "hospital | gazas | alshifa | patients | largest",
           47
          ],
          [
           5,
           "china | chinese | philippines | taiwan | xi",
           45
          ],
          [
           6,
           "un | humanitarian | gaza | aid | council",
           43
          ],
          [
           7,
           "london | propalestinian | of | protesters | screening",
           41
          ],
          [
           8,
           "killed | camp | israeli | refugee | 24",
           36
          ],
          [
           9,
           "hezbollah | lebanon | kills | commander | hamas",
           36
          ],
          [
           10,
           "ukraine | ukraines | putin | russia | russiaukraine",
           33
          ],
          [
           11,
           "netanyahu | biden | benjamin | to | war",
           33
          ],
          [
           12,
           "japan | osprey | off | five | venezuela",
           30
          ],
          [
           13,
           "ceasefire | gaza | truce | view | guardian",
           27
          ],
          [
           14,
           "plane | pows | russian | ukrainian | 65",
           23
          ],
          [
           15,
           "zelensky | aid | republicans | congress | more",
           22
          ],
          [
           16,
           "tunnel | tunnels | hamas | hospital | alshifa",
           22
          ],
          [
           17,
           "journalists | lives | among | gaza | killed",
           21
          ],
          [
           18,
           "korea | north | kim | korean | nuclear",
           20
          ],
          [
           19,
           "nato | putin | for | warning | years",
           20
          ],
          [
           20,
           "drones | drone | overnight | russia | 36",
           19
          ],
          [
           21,
           "game | atp | watch | week | afc",
           19
          ],
          [
           22,
           "southern | leave | towns | palestinians | flee",
           18
          ],
          [
           23,
           "bank | west | settler | palestinian | sparks",
           17
          ],
          [
           24,
           "jaishankar | diwali | cameron | sensational | exuk",
           17
          ],
          [
           25,
           "defeat | tells | long | hard | whats",
           17
          ],
          [
           26,
           "genocide | case | icj | africas | against",
           16
          ],
          [
           27,
           "maduro | saab | swap | cartel | seized",
           16
          ],
          [
           28,
           "lloyd | austin | his | secret | cancer",
           15
          ],
          [
           29,
           "participated | aggression | spark | us | global",
           14
          ],
          [
           30,
           "wapo | counteroffensive | strategy | ignored | ukraine",
           12
          ],
          [
           31,
           "blinken | antony | cleverly | james | access",
           12
          ],
          [
           32,
           "eu | ambassador | diplomat | slams | popular",
           11
          ],
          [
           33,
           "visit | bbc | humanitarian | 27 | apologize",
           11
          ],
          [
           34,
           "recruits | army | vaccine | gen | military",
           11
          ],
          [
           35,
           "families | gaza | palestinians | shot | death",
           11
          ],
          [
           36,
           "intelligence | attack | know | hamas | warnings",
           11
          ]
         ],
         "hovertemplate": "<b>Topic %{customdata[0]}</b><br>%{customdata[1]}<br>Size: %{customdata[2]}",
         "legendgroup": "",
         "marker": {
          "color": "#B0BEC5",
          "line": {
           "color": "DarkSlateGrey",
           "width": 2
          },
          "size": [
           89,
           79,
           61,
           48,
           47,
           45,
           43,
           41,
           36,
           36,
           33,
           33,
           30,
           27,
           23,
           22,
           22,
           21,
           20,
           20,
           19,
           19,
           18,
           17,
           17,
           17,
           16,
           16,
           15,
           14,
           12,
           12,
           11,
           11,
           11,
           11,
           11
          ],
          "sizemode": "area",
          "sizeref": 0.055625,
          "symbol": "circle"
         },
         "mode": "markers",
         "name": "",
         "orientation": "v",
         "showlegend": false,
         "type": "scatter",
         "x": [
          8.483701705932617,
          1.7725709676742554,
          2.8474390506744385,
          9.08932113647461,
          1.4136919975280762,
          19.186853408813477,
          2.1634328365325928,
          2.032508611679077,
          2.830204725265503,
          3.021195411682129,
          9.331512451171875,
          2.717963695526123,
          8.247289657592773,
          1.858309268951416,
          9.037018775939941,
          9.338272094726562,
          1.1958026885986328,
          2.2556936740875244,
          19.186962127685547,
          9.612969398498535,
          8.816071510314941,
          9.251763343811035,
          2.181584119796753,
          2.378754138946533,
          2.5694775581359863,
          2.62384033203125,
          2.4799323081970215,
          8.06607437133789,
          9.397306442260742,
          2.7090134620666504,
          9.425727844238281,
          1.912213921546936,
          2.533409595489502,
          2.3793232440948486,
          9.392600059509277,
          2.2168126106262207,
          2.721453905105591
         ],
         "xaxis": "x",
         "y": [
          -3.586446762084961,
          0.7503847479820251,
          -3.2022688388824463,
          -3.444101333618164,
          -4.117218017578125,
          2.3611321449279785,
          -4.172917366027832,
          0.485704630613327,
          0.6719761490821838,
          0.7712552547454834,
          9.211377143859863,
          13.55592155456543,
          -3.668246030807495,
          -4.377631664276123,
          9.470569610595703,
          8.857406616210938,
          -4.084413528442383,
          0.16308285295963287,
          2.361194133758545,
          9.36237907409668,
          9.657732009887695,
          -2.7375338077545166,
          0.7332489490509033,
          1.4872456789016724,
          -4.8178486824035645,
          13.650063514709473,
          1.6417107582092285,
          -3.5492305755615234,
          -2.963632822036743,
          -3.4505763053894043,
          9.129617691040039,
          -3.944485664367676,
          -3.1293375492095947,
          -4.570091247558594,
          -3.278486967086792,
          0.30202656984329224,
          13.552383422851562
         ],
         "yaxis": "y"
        }
       ],
       "layout": {
        "annotations": [
         {
          "showarrow": false,
          "text": "D1",
          "x": 1.016432285308838,
          "y": 5.0785235285758965,
          "yshift": 10
         },
         {
          "showarrow": false,
          "text": "D2",
          "x": 11.540719366073608,
          "xshift": 10,
          "y": 15.697573041915893
         }
        ],
        "height": 650,
        "hoverlabel": {
         "bgcolor": "white",
         "font": {
          "family": "Rockwell",
          "size": 16
         }
        },
        "legend": {
         "itemsizing": "constant",
         "tracegroupgap": 0
        },
        "margin": {
         "t": 60
        },
        "shapes": [
         {
          "line": {
           "color": "#CFD8DC",
           "width": 2
          },
          "type": "line",
          "x0": 11.540719366073608,
          "x1": 11.540719366073608,
          "y0": -5.540525984764099,
          "y1": 15.697573041915893
         },
         {
          "line": {
           "color": "#9E9E9E",
           "width": 2
          },
          "type": "line",
          "x0": 1.016432285308838,
          "x1": 22.065006446838378,
          "y0": 5.0785235285758965,
          "y1": 5.0785235285758965
         }
        ],
        "sliders": [
         {
          "active": 0,
          "pad": {
           "t": 50
          },
          "steps": [
           {
            "args": [
             {
              "marker.color": [
               [
                "red",
                "#B0BEC5",
                "#B0BEC5",
                "#B0BEC5",
                "#B0BEC5",
                "#B0BEC5",
                "#B0BEC5",
                "#B0BEC5",
                "#B0BEC5",
                "#B0BEC5",
                "#B0BEC5",
                "#B0BEC5",
                "#B0BEC5",
                "#B0BEC5",
                "#B0BEC5",
                "#B0BEC5",
                "#B0BEC5",
                "#B0BEC5",
                "#B0BEC5",
                "#B0BEC5",
                "#B0BEC5",
                "#B0BEC5",
                "#B0BEC5",
                "#B0BEC5",
                "#B0BEC5",
                "#B0BEC5",
                "#B0BEC5",
                "#B0BEC5",
                "#B0BEC5",
                "#B0BEC5",
                "#B0BEC5",
                "#B0BEC5",
                "#B0BEC5",
                "#B0BEC5",
                "#B0BEC5",
                "#B0BEC5",
                "#B0BEC5"
               ]
              ]
             }
            ],
            "label": "Topic 0",
            "method": "update"
           },
           {
            "args": [
             {
              "marker.color": [
               [
                "#B0BEC5",
                "red",
                "#B0BEC5",
                "#B0BEC5",
                "#B0BEC5",
                "#B0BEC5",
                "#B0BEC5",
                "#B0BEC5",
                "#B0BEC5",
                "#B0BEC5",
                "#B0BEC5",
                "#B0BEC5",
                "#B0BEC5",
                "#B0BEC5",
                "#B0BEC5",
                "#B0BEC5",
                "#B0BEC5",
                "#B0BEC5",
                "#B0BEC5",
                "#B0BEC5",
                "#B0BEC5",
                "#B0BEC5",
                "#B0BEC5",
                "#B0BEC5",
                "#B0BEC5",
                "#B0BEC5",
                "#B0BEC5",
                "#B0BEC5",
                "#B0BEC5",
                "#B0BEC5",
                "#B0BEC5",
                "#B0BEC5",
                "#B0BEC5",
                "#B0BEC5",
                "#B0BEC5",
                "#B0BEC5",
                "#B0BEC5"
               ]
              ]
             }
            ],
            "label": "Topic 1",
            "method": "update"
           },
           {
            "args": [
             {
              "marker.color": [
               [
                "#B0BEC5",
                "#B0BEC5",
                "red",
                "#B0BEC5",
                "#B0BEC5",
                "#B0BEC5",
                "#B0BEC5",
                "#B0BEC5",
                "#B0BEC5",
                "#B0BEC5",
                "#B0BEC5",
                "#B0BEC5",
                "#B0BEC5",
                "#B0BEC5",
                "#B0BEC5",
                "#B0BEC5",
                "#B0BEC5",
                "#B0BEC5",
                "#B0BEC5",
                "#B0BEC5",
                "#B0BEC5",
                "#B0BEC5",
                "#B0BEC5",
                "#B0BEC5",
                "#B0BEC5",
                "#B0BEC5",
                "#B0BEC5",
                "#B0BEC5",
                "#B0BEC5",
                "#B0BEC5",
                "#B0BEC5",
                "#B0BEC5",
                "#B0BEC5",
                "#B0BEC5",
                "#B0BEC5",
                "#B0BEC5",
                "#B0BEC5"
               ]
              ]
             }
            ],
            "label": "Topic 2",
            "method": "update"
           },
           {
            "args": [
             {
              "marker.color": [
               [
                "#B0BEC5",
                "#B0BEC5",
                "#B0BEC5",
                "red",
                "#B0BEC5",
                "#B0BEC5",
                "#B0BEC5",
                "#B0BEC5",
                "#B0BEC5",
                "#B0BEC5",
                "#B0BEC5",
                "#B0BEC5",
                "#B0BEC5",
                "#B0BEC5",
                "#B0BEC5",
                "#B0BEC5",
                "#B0BEC5",
                "#B0BEC5",
                "#B0BEC5",
                "#B0BEC5",
                "#B0BEC5",
                "#B0BEC5",
                "#B0BEC5",
                "#B0BEC5",
                "#B0BEC5",
                "#B0BEC5",
                "#B0BEC5",
                "#B0BEC5",
                "#B0BEC5",
                "#B0BEC5",
                "#B0BEC5",
                "#B0BEC5",
                "#B0BEC5",
                "#B0BEC5",
                "#B0BEC5",
                "#B0BEC5",
                "#B0BEC5"
               ]
              ]
             }
            ],
            "label": "Topic 3",
            "method": "update"
           },
           {
            "args": [
             {
              "marker.color": [
               [
                "#B0BEC5",
                "#B0BEC5",
                "#B0BEC5",
                "#B0BEC5",
                "red",
                "#B0BEC5",
                "#B0BEC5",
                "#B0BEC5",
                "#B0BEC5",
                "#B0BEC5",
                "#B0BEC5",
                "#B0BEC5",
                "#B0BEC5",
                "#B0BEC5",
                "#B0BEC5",
                "#B0BEC5",
                "#B0BEC5",
                "#B0BEC5",
                "#B0BEC5",
                "#B0BEC5",
                "#B0BEC5",
                "#B0BEC5",
                "#B0BEC5",
                "#B0BEC5",
                "#B0BEC5",
                "#B0BEC5",
                "#B0BEC5",
                "#B0BEC5",
                "#B0BEC5",
                "#B0BEC5",
                "#B0BEC5",
                "#B0BEC5",
                "#B0BEC5",
                "#B0BEC5",
                "#B0BEC5",
                "#B0BEC5",
                "#B0BEC5"
               ]
              ]
             }
            ],
            "label": "Topic 4",
            "method": "update"
           },
           {
            "args": [
             {
              "marker.color": [
               [
                "#B0BEC5",
                "#B0BEC5",
                "#B0BEC5",
                "#B0BEC5",
                "#B0BEC5",
                "red",
                "#B0BEC5",
                "#B0BEC5",
                "#B0BEC5",
                "#B0BEC5",
                "#B0BEC5",
                "#B0BEC5",
                "#B0BEC5",
                "#B0BEC5",
                "#B0BEC5",
                "#B0BEC5",
                "#B0BEC5",
                "#B0BEC5",
                "#B0BEC5",
                "#B0BEC5",
                "#B0BEC5",
                "#B0BEC5",
                "#B0BEC5",
                "#B0BEC5",
                "#B0BEC5",
                "#B0BEC5",
                "#B0BEC5",
                "#B0BEC5",
                "#B0BEC5",
                "#B0BEC5",
                "#B0BEC5",
                "#B0BEC5",
                "#B0BEC5",
                "#B0BEC5",
                "#B0BEC5",
                "#B0BEC5",
                "#B0BEC5"
               ]
              ]
             }
            ],
            "label": "Topic 5",
            "method": "update"
           },
           {
            "args": [
             {
              "marker.color": [
               [
                "#B0BEC5",
                "#B0BEC5",
                "#B0BEC5",
                "#B0BEC5",
                "#B0BEC5",
                "#B0BEC5",
                "red",
                "#B0BEC5",
                "#B0BEC5",
                "#B0BEC5",
                "#B0BEC5",
                "#B0BEC5",
                "#B0BEC5",
                "#B0BEC5",
                "#B0BEC5",
                "#B0BEC5",
                "#B0BEC5",
                "#B0BEC5",
                "#B0BEC5",
                "#B0BEC5",
                "#B0BEC5",
                "#B0BEC5",
                "#B0BEC5",
                "#B0BEC5",
                "#B0BEC5",
                "#B0BEC5",
                "#B0BEC5",
                "#B0BEC5",
                "#B0BEC5",
                "#B0BEC5",
                "#B0BEC5",
                "#B0BEC5",
                "#B0BEC5",
                "#B0BEC5",
                "#B0BEC5",
                "#B0BEC5",
                "#B0BEC5"
               ]
              ]
             }
            ],
            "label": "Topic 6",
            "method": "update"
           },
           {
            "args": [
             {
              "marker.color": [
               [
                "#B0BEC5",
                "#B0BEC5",
                "#B0BEC5",
                "#B0BEC5",
                "#B0BEC5",
                "#B0BEC5",
                "#B0BEC5",
                "red",
                "#B0BEC5",
                "#B0BEC5",
                "#B0BEC5",
                "#B0BEC5",
                "#B0BEC5",
                "#B0BEC5",
                "#B0BEC5",
                "#B0BEC5",
                "#B0BEC5",
                "#B0BEC5",
                "#B0BEC5",
                "#B0BEC5",
                "#B0BEC5",
                "#B0BEC5",
                "#B0BEC5",
                "#B0BEC5",
                "#B0BEC5",
                "#B0BEC5",
                "#B0BEC5",
                "#B0BEC5",
                "#B0BEC5",
                "#B0BEC5",
                "#B0BEC5",
                "#B0BEC5",
                "#B0BEC5",
                "#B0BEC5",
                "#B0BEC5",
                "#B0BEC5",
                "#B0BEC5"
               ]
              ]
             }
            ],
            "label": "Topic 7",
            "method": "update"
           },
           {
            "args": [
             {
              "marker.color": [
               [
                "#B0BEC5",
                "#B0BEC5",
                "#B0BEC5",
                "#B0BEC5",
                "#B0BEC5",
                "#B0BEC5",
                "#B0BEC5",
                "#B0BEC5",
                "red",
                "#B0BEC5",
                "#B0BEC5",
                "#B0BEC5",
                "#B0BEC5",
                "#B0BEC5",
                "#B0BEC5",
                "#B0BEC5",
                "#B0BEC5",
                "#B0BEC5",
                "#B0BEC5",
                "#B0BEC5",
                "#B0BEC5",
                "#B0BEC5",
                "#B0BEC5",
                "#B0BEC5",
                "#B0BEC5",
                "#B0BEC5",
                "#B0BEC5",
                "#B0BEC5",
                "#B0BEC5",
                "#B0BEC5",
                "#B0BEC5",
                "#B0BEC5",
                "#B0BEC5",
                "#B0BEC5",
                "#B0BEC5",
                "#B0BEC5",
                "#B0BEC5"
               ]
              ]
             }
            ],
            "label": "Topic 8",
            "method": "update"
           },
           {
            "args": [
             {
              "marker.color": [
               [
                "#B0BEC5",
                "#B0BEC5",
                "#B0BEC5",
                "#B0BEC5",
                "#B0BEC5",
                "#B0BEC5",
                "#B0BEC5",
                "#B0BEC5",
                "#B0BEC5",
                "red",
                "#B0BEC5",
                "#B0BEC5",
                "#B0BEC5",
                "#B0BEC5",
                "#B0BEC5",
                "#B0BEC5",
                "#B0BEC5",
                "#B0BEC5",
                "#B0BEC5",
                "#B0BEC5",
                "#B0BEC5",
                "#B0BEC5",
                "#B0BEC5",
                "#B0BEC5",
                "#B0BEC5",
                "#B0BEC5",
                "#B0BEC5",
                "#B0BEC5",
                "#B0BEC5",
                "#B0BEC5",
                "#B0BEC5",
                "#B0BEC5",
                "#B0BEC5",
                "#B0BEC5",
                "#B0BEC5",
                "#B0BEC5",
                "#B0BEC5"
               ]
              ]
             }
            ],
            "label": "Topic 9",
            "method": "update"
           },
           {
            "args": [
             {
              "marker.color": [
               [
                "#B0BEC5",
                "#B0BEC5",
                "#B0BEC5",
                "#B0BEC5",
                "#B0BEC5",
                "#B0BEC5",
                "#B0BEC5",
                "#B0BEC5",
                "#B0BEC5",
                "#B0BEC5",
                "red",
                "#B0BEC5",
                "#B0BEC5",
                "#B0BEC5",
                "#B0BEC5",
                "#B0BEC5",
                "#B0BEC5",
                "#B0BEC5",
                "#B0BEC5",
                "#B0BEC5",
                "#B0BEC5",
                "#B0BEC5",
                "#B0BEC5",
                "#B0BEC5",
                "#B0BEC5",
                "#B0BEC5",
                "#B0BEC5",
                "#B0BEC5",
                "#B0BEC5",
                "#B0BEC5",
                "#B0BEC5",
                "#B0BEC5",
                "#B0BEC5",
                "#B0BEC5",
                "#B0BEC5",
                "#B0BEC5",
                "#B0BEC5"
               ]
              ]
             }
            ],
            "label": "Topic 10",
            "method": "update"
           },
           {
            "args": [
             {
              "marker.color": [
               [
                "#B0BEC5",
                "#B0BEC5",
                "#B0BEC5",
                "#B0BEC5",
                "#B0BEC5",
                "#B0BEC5",
                "#B0BEC5",
                "#B0BEC5",
                "#B0BEC5",
                "#B0BEC5",
                "#B0BEC5",
                "red",
                "#B0BEC5",
                "#B0BEC5",
                "#B0BEC5",
                "#B0BEC5",
                "#B0BEC5",
                "#B0BEC5",
                "#B0BEC5",
                "#B0BEC5",
                "#B0BEC5",
                "#B0BEC5",
                "#B0BEC5",
                "#B0BEC5",
                "#B0BEC5",
                "#B0BEC5",
                "#B0BEC5",
                "#B0BEC5",
                "#B0BEC5",
                "#B0BEC5",
                "#B0BEC5",
                "#B0BEC5",
                "#B0BEC5",
                "#B0BEC5",
                "#B0BEC5",
                "#B0BEC5",
                "#B0BEC5"
               ]
              ]
             }
            ],
            "label": "Topic 11",
            "method": "update"
           },
           {
            "args": [
             {
              "marker.color": [
               [
                "#B0BEC5",
                "#B0BEC5",
                "#B0BEC5",
                "#B0BEC5",
                "#B0BEC5",
                "#B0BEC5",
                "#B0BEC5",
                "#B0BEC5",
                "#B0BEC5",
                "#B0BEC5",
                "#B0BEC5",
                "#B0BEC5",
                "red",
                "#B0BEC5",
                "#B0BEC5",
                "#B0BEC5",
                "#B0BEC5",
                "#B0BEC5",
                "#B0BEC5",
                "#B0BEC5",
                "#B0BEC5",
                "#B0BEC5",
                "#B0BEC5",
                "#B0BEC5",
                "#B0BEC5",
                "#B0BEC5",
                "#B0BEC5",
                "#B0BEC5",
                "#B0BEC5",
                "#B0BEC5",
                "#B0BEC5",
                "#B0BEC5",
                "#B0BEC5",
                "#B0BEC5",
                "#B0BEC5",
                "#B0BEC5",
                "#B0BEC5"
               ]
              ]
             }
            ],
            "label": "Topic 12",
            "method": "update"
           },
           {
            "args": [
             {
              "marker.color": [
               [
                "#B0BEC5",
                "#B0BEC5",
                "#B0BEC5",
                "#B0BEC5",
                "#B0BEC5",
                "#B0BEC5",
                "#B0BEC5",
                "#B0BEC5",
                "#B0BEC5",
                "#B0BEC5",
                "#B0BEC5",
                "#B0BEC5",
                "#B0BEC5",
                "red",
                "#B0BEC5",
                "#B0BEC5",
                "#B0BEC5",
                "#B0BEC5",
                "#B0BEC5",
                "#B0BEC5",
                "#B0BEC5",
                "#B0BEC5",
                "#B0BEC5",
                "#B0BEC5",
                "#B0BEC5",
                "#B0BEC5",
                "#B0BEC5",
                "#B0BEC5",
                "#B0BEC5",
                "#B0BEC5",
                "#B0BEC5",
                "#B0BEC5",
                "#B0BEC5",
                "#B0BEC5",
                "#B0BEC5",
                "#B0BEC5",
                "#B0BEC5"
               ]
              ]
             }
            ],
            "label": "Topic 13",
            "method": "update"
           },
           {
            "args": [
             {
              "marker.color": [
               [
                "#B0BEC5",
                "#B0BEC5",
                "#B0BEC5",
                "#B0BEC5",
                "#B0BEC5",
                "#B0BEC5",
                "#B0BEC5",
                "#B0BEC5",
                "#B0BEC5",
                "#B0BEC5",
                "#B0BEC5",
                "#B0BEC5",
                "#B0BEC5",
                "#B0BEC5",
                "red",
                "#B0BEC5",
                "#B0BEC5",
                "#B0BEC5",
                "#B0BEC5",
                "#B0BEC5",
                "#B0BEC5",
                "#B0BEC5",
                "#B0BEC5",
                "#B0BEC5",
                "#B0BEC5",
                "#B0BEC5",
                "#B0BEC5",
                "#B0BEC5",
                "#B0BEC5",
                "#B0BEC5",
                "#B0BEC5",
                "#B0BEC5",
                "#B0BEC5",
                "#B0BEC5",
                "#B0BEC5",
                "#B0BEC5",
                "#B0BEC5"
               ]
              ]
             }
            ],
            "label": "Topic 14",
            "method": "update"
           },
           {
            "args": [
             {
              "marker.color": [
               [
                "#B0BEC5",
                "#B0BEC5",
                "#B0BEC5",
                "#B0BEC5",
                "#B0BEC5",
                "#B0BEC5",
                "#B0BEC5",
                "#B0BEC5",
                "#B0BEC5",
                "#B0BEC5",
                "#B0BEC5",
                "#B0BEC5",
                "#B0BEC5",
                "#B0BEC5",
                "#B0BEC5",
                "red",
                "#B0BEC5",
                "#B0BEC5",
                "#B0BEC5",
                "#B0BEC5",
                "#B0BEC5",
                "#B0BEC5",
                "#B0BEC5",
                "#B0BEC5",
                "#B0BEC5",
                "#B0BEC5",
                "#B0BEC5",
                "#B0BEC5",
                "#B0BEC5",
                "#B0BEC5",
                "#B0BEC5",
                "#B0BEC5",
                "#B0BEC5",
                "#B0BEC5",
                "#B0BEC5",
                "#B0BEC5",
                "#B0BEC5"
               ]
              ]
             }
            ],
            "label": "Topic 15",
            "method": "update"
           },
           {
            "args": [
             {
              "marker.color": [
               [
                "#B0BEC5",
                "#B0BEC5",
                "#B0BEC5",
                "#B0BEC5",
                "#B0BEC5",
                "#B0BEC5",
                "#B0BEC5",
                "#B0BEC5",
                "#B0BEC5",
                "#B0BEC5",
                "#B0BEC5",
                "#B0BEC5",
                "#B0BEC5",
                "#B0BEC5",
                "#B0BEC5",
                "#B0BEC5",
                "red",
                "#B0BEC5",
                "#B0BEC5",
                "#B0BEC5",
                "#B0BEC5",
                "#B0BEC5",
                "#B0BEC5",
                "#B0BEC5",
                "#B0BEC5",
                "#B0BEC5",
                "#B0BEC5",
                "#B0BEC5",
                "#B0BEC5",
                "#B0BEC5",
                "#B0BEC5",
                "#B0BEC5",
                "#B0BEC5",
                "#B0BEC5",
                "#B0BEC5",
                "#B0BEC5",
                "#B0BEC5"
               ]
              ]
             }
            ],
            "label": "Topic 16",
            "method": "update"
           },
           {
            "args": [
             {
              "marker.color": [
               [
                "#B0BEC5",
                "#B0BEC5",
                "#B0BEC5",
                "#B0BEC5",
                "#B0BEC5",
                "#B0BEC5",
                "#B0BEC5",
                "#B0BEC5",
                "#B0BEC5",
                "#B0BEC5",
                "#B0BEC5",
                "#B0BEC5",
                "#B0BEC5",
                "#B0BEC5",
                "#B0BEC5",
                "#B0BEC5",
                "#B0BEC5",
                "red",
                "#B0BEC5",
                "#B0BEC5",
                "#B0BEC5",
                "#B0BEC5",
                "#B0BEC5",
                "#B0BEC5",
                "#B0BEC5",
                "#B0BEC5",
                "#B0BEC5",
                "#B0BEC5",
                "#B0BEC5",
                "#B0BEC5",
                "#B0BEC5",
                "#B0BEC5",
                "#B0BEC5",
                "#B0BEC5",
                "#B0BEC5",
                "#B0BEC5",
                "#B0BEC5"
               ]
              ]
             }
            ],
            "label": "Topic 17",
            "method": "update"
           },
           {
            "args": [
             {
              "marker.color": [
               [
                "#B0BEC5",
                "#B0BEC5",
                "#B0BEC5",
                "#B0BEC5",
                "#B0BEC5",
                "#B0BEC5",
                "#B0BEC5",
                "#B0BEC5",
                "#B0BEC5",
                "#B0BEC5",
                "#B0BEC5",
                "#B0BEC5",
                "#B0BEC5",
                "#B0BEC5",
                "#B0BEC5",
                "#B0BEC5",
                "#B0BEC5",
                "#B0BEC5",
                "red",
                "#B0BEC5",
                "#B0BEC5",
                "#B0BEC5",
                "#B0BEC5",
                "#B0BEC5",
                "#B0BEC5",
                "#B0BEC5",
                "#B0BEC5",
                "#B0BEC5",
                "#B0BEC5",
                "#B0BEC5",
                "#B0BEC5",
                "#B0BEC5",
                "#B0BEC5",
                "#B0BEC5",
                "#B0BEC5",
                "#B0BEC5",
                "#B0BEC5"
               ]
              ]
             }
            ],
            "label": "Topic 18",
            "method": "update"
           },
           {
            "args": [
             {
              "marker.color": [
               [
                "#B0BEC5",
                "#B0BEC5",
                "#B0BEC5",
                "#B0BEC5",
                "#B0BEC5",
                "#B0BEC5",
                "#B0BEC5",
                "#B0BEC5",
                "#B0BEC5",
                "#B0BEC5",
                "#B0BEC5",
                "#B0BEC5",
                "#B0BEC5",
                "#B0BEC5",
                "#B0BEC5",
                "#B0BEC5",
                "#B0BEC5",
                "#B0BEC5",
                "#B0BEC5",
                "red",
                "#B0BEC5",
                "#B0BEC5",
                "#B0BEC5",
                "#B0BEC5",
                "#B0BEC5",
                "#B0BEC5",
                "#B0BEC5",
                "#B0BEC5",
                "#B0BEC5",
                "#B0BEC5",
                "#B0BEC5",
                "#B0BEC5",
                "#B0BEC5",
                "#B0BEC5",
                "#B0BEC5",
                "#B0BEC5",
                "#B0BEC5"
               ]
              ]
             }
            ],
            "label": "Topic 19",
            "method": "update"
           },
           {
            "args": [
             {
              "marker.color": [
               [
                "#B0BEC5",
                "#B0BEC5",
                "#B0BEC5",
                "#B0BEC5",
                "#B0BEC5",
                "#B0BEC5",
                "#B0BEC5",
                "#B0BEC5",
                "#B0BEC5",
                "#B0BEC5",
                "#B0BEC5",
                "#B0BEC5",
                "#B0BEC5",
                "#B0BEC5",
                "#B0BEC5",
                "#B0BEC5",
                "#B0BEC5",
                "#B0BEC5",
                "#B0BEC5",
                "#B0BEC5",
                "red",
                "#B0BEC5",
                "#B0BEC5",
                "#B0BEC5",
                "#B0BEC5",
                "#B0BEC5",
                "#B0BEC5",
                "#B0BEC5",
                "#B0BEC5",
                "#B0BEC5",
                "#B0BEC5",
                "#B0BEC5",
                "#B0BEC5",
                "#B0BEC5",
                "#B0BEC5",
                "#B0BEC5",
                "#B0BEC5"
               ]
              ]
             }
            ],
            "label": "Topic 20",
            "method": "update"
           },
           {
            "args": [
             {
              "marker.color": [
               [
                "#B0BEC5",
                "#B0BEC5",
                "#B0BEC5",
                "#B0BEC5",
                "#B0BEC5",
                "#B0BEC5",
                "#B0BEC5",
                "#B0BEC5",
                "#B0BEC5",
                "#B0BEC5",
                "#B0BEC5",
                "#B0BEC5",
                "#B0BEC5",
                "#B0BEC5",
                "#B0BEC5",
                "#B0BEC5",
                "#B0BEC5",
                "#B0BEC5",
                "#B0BEC5",
                "#B0BEC5",
                "#B0BEC5",
                "red",
                "#B0BEC5",
                "#B0BEC5",
                "#B0BEC5",
                "#B0BEC5",
                "#B0BEC5",
                "#B0BEC5",
                "#B0BEC5",
                "#B0BEC5",
                "#B0BEC5",
                "#B0BEC5",
                "#B0BEC5",
                "#B0BEC5",
                "#B0BEC5",
                "#B0BEC5",
                "#B0BEC5"
               ]
              ]
             }
            ],
            "label": "Topic 21",
            "method": "update"
           },
           {
            "args": [
             {
              "marker.color": [
               [
                "#B0BEC5",
                "#B0BEC5",
                "#B0BEC5",
                "#B0BEC5",
                "#B0BEC5",
                "#B0BEC5",
                "#B0BEC5",
                "#B0BEC5",
                "#B0BEC5",
                "#B0BEC5",
                "#B0BEC5",
                "#B0BEC5",
                "#B0BEC5",
                "#B0BEC5",
                "#B0BEC5",
                "#B0BEC5",
                "#B0BEC5",
                "#B0BEC5",
                "#B0BEC5",
                "#B0BEC5",
                "#B0BEC5",
                "#B0BEC5",
                "red",
                "#B0BEC5",
                "#B0BEC5",
                "#B0BEC5",
                "#B0BEC5",
                "#B0BEC5",
                "#B0BEC5",
                "#B0BEC5",
                "#B0BEC5",
                "#B0BEC5",
                "#B0BEC5",
                "#B0BEC5",
                "#B0BEC5",
                "#B0BEC5",
                "#B0BEC5"
               ]
              ]
             }
            ],
            "label": "Topic 22",
            "method": "update"
           },
           {
            "args": [
             {
              "marker.color": [
               [
                "#B0BEC5",
                "#B0BEC5",
                "#B0BEC5",
                "#B0BEC5",
                "#B0BEC5",
                "#B0BEC5",
                "#B0BEC5",
                "#B0BEC5",
                "#B0BEC5",
                "#B0BEC5",
                "#B0BEC5",
                "#B0BEC5",
                "#B0BEC5",
                "#B0BEC5",
                "#B0BEC5",
                "#B0BEC5",
                "#B0BEC5",
                "#B0BEC5",
                "#B0BEC5",
                "#B0BEC5",
                "#B0BEC5",
                "#B0BEC5",
                "#B0BEC5",
                "red",
                "#B0BEC5",
                "#B0BEC5",
                "#B0BEC5",
                "#B0BEC5",
                "#B0BEC5",
                "#B0BEC5",
                "#B0BEC5",
                "#B0BEC5",
                "#B0BEC5",
                "#B0BEC5",
                "#B0BEC5",
                "#B0BEC5",
                "#B0BEC5"
               ]
              ]
             }
            ],
            "label": "Topic 23",
            "method": "update"
           },
           {
            "args": [
             {
              "marker.color": [
               [
                "#B0BEC5",
                "#B0BEC5",
                "#B0BEC5",
                "#B0BEC5",
                "#B0BEC5",
                "#B0BEC5",
                "#B0BEC5",
                "#B0BEC5",
                "#B0BEC5",
                "#B0BEC5",
                "#B0BEC5",
                "#B0BEC5",
                "#B0BEC5",
                "#B0BEC5",
                "#B0BEC5",
                "#B0BEC5",
                "#B0BEC5",
                "#B0BEC5",
                "#B0BEC5",
                "#B0BEC5",
                "#B0BEC5",
                "#B0BEC5",
                "#B0BEC5",
                "#B0BEC5",
                "red",
                "#B0BEC5",
                "#B0BEC5",
                "#B0BEC5",
                "#B0BEC5",
                "#B0BEC5",
                "#B0BEC5",
                "#B0BEC5",
                "#B0BEC5",
                "#B0BEC5",
                "#B0BEC5",
                "#B0BEC5",
                "#B0BEC5"
               ]
              ]
             }
            ],
            "label": "Topic 24",
            "method": "update"
           },
           {
            "args": [
             {
              "marker.color": [
               [
                "#B0BEC5",
                "#B0BEC5",
                "#B0BEC5",
                "#B0BEC5",
                "#B0BEC5",
                "#B0BEC5",
                "#B0BEC5",
                "#B0BEC5",
                "#B0BEC5",
                "#B0BEC5",
                "#B0BEC5",
                "#B0BEC5",
                "#B0BEC5",
                "#B0BEC5",
                "#B0BEC5",
                "#B0BEC5",
                "#B0BEC5",
                "#B0BEC5",
                "#B0BEC5",
                "#B0BEC5",
                "#B0BEC5",
                "#B0BEC5",
                "#B0BEC5",
                "#B0BEC5",
                "#B0BEC5",
                "red",
                "#B0BEC5",
                "#B0BEC5",
                "#B0BEC5",
                "#B0BEC5",
                "#B0BEC5",
                "#B0BEC5",
                "#B0BEC5",
                "#B0BEC5",
                "#B0BEC5",
                "#B0BEC5",
                "#B0BEC5"
               ]
              ]
             }
            ],
            "label": "Topic 25",
            "method": "update"
           },
           {
            "args": [
             {
              "marker.color": [
               [
                "#B0BEC5",
                "#B0BEC5",
                "#B0BEC5",
                "#B0BEC5",
                "#B0BEC5",
                "#B0BEC5",
                "#B0BEC5",
                "#B0BEC5",
                "#B0BEC5",
                "#B0BEC5",
                "#B0BEC5",
                "#B0BEC5",
                "#B0BEC5",
                "#B0BEC5",
                "#B0BEC5",
                "#B0BEC5",
                "#B0BEC5",
                "#B0BEC5",
                "#B0BEC5",
                "#B0BEC5",
                "#B0BEC5",
                "#B0BEC5",
                "#B0BEC5",
                "#B0BEC5",
                "#B0BEC5",
                "#B0BEC5",
                "red",
                "#B0BEC5",
                "#B0BEC5",
                "#B0BEC5",
                "#B0BEC5",
                "#B0BEC5",
                "#B0BEC5",
                "#B0BEC5",
                "#B0BEC5",
                "#B0BEC5",
                "#B0BEC5"
               ]
              ]
             }
            ],
            "label": "Topic 26",
            "method": "update"
           },
           {
            "args": [
             {
              "marker.color": [
               [
                "#B0BEC5",
                "#B0BEC5",
                "#B0BEC5",
                "#B0BEC5",
                "#B0BEC5",
                "#B0BEC5",
                "#B0BEC5",
                "#B0BEC5",
                "#B0BEC5",
                "#B0BEC5",
                "#B0BEC5",
                "#B0BEC5",
                "#B0BEC5",
                "#B0BEC5",
                "#B0BEC5",
                "#B0BEC5",
                "#B0BEC5",
                "#B0BEC5",
                "#B0BEC5",
                "#B0BEC5",
                "#B0BEC5",
                "#B0BEC5",
                "#B0BEC5",
                "#B0BEC5",
                "#B0BEC5",
                "#B0BEC5",
                "#B0BEC5",
                "red",
                "#B0BEC5",
                "#B0BEC5",
                "#B0BEC5",
                "#B0BEC5",
                "#B0BEC5",
                "#B0BEC5",
                "#B0BEC5",
                "#B0BEC5",
                "#B0BEC5"
               ]
              ]
             }
            ],
            "label": "Topic 27",
            "method": "update"
           },
           {
            "args": [
             {
              "marker.color": [
               [
                "#B0BEC5",
                "#B0BEC5",
                "#B0BEC5",
                "#B0BEC5",
                "#B0BEC5",
                "#B0BEC5",
                "#B0BEC5",
                "#B0BEC5",
                "#B0BEC5",
                "#B0BEC5",
                "#B0BEC5",
                "#B0BEC5",
                "#B0BEC5",
                "#B0BEC5",
                "#B0BEC5",
                "#B0BEC5",
                "#B0BEC5",
                "#B0BEC5",
                "#B0BEC5",
                "#B0BEC5",
                "#B0BEC5",
                "#B0BEC5",
                "#B0BEC5",
                "#B0BEC5",
                "#B0BEC5",
                "#B0BEC5",
                "#B0BEC5",
                "#B0BEC5",
                "red",
                "#B0BEC5",
                "#B0BEC5",
                "#B0BEC5",
                "#B0BEC5",
                "#B0BEC5",
                "#B0BEC5",
                "#B0BEC5",
                "#B0BEC5"
               ]
              ]
             }
            ],
            "label": "Topic 28",
            "method": "update"
           },
           {
            "args": [
             {
              "marker.color": [
               [
                "#B0BEC5",
                "#B0BEC5",
                "#B0BEC5",
                "#B0BEC5",
                "#B0BEC5",
                "#B0BEC5",
                "#B0BEC5",
                "#B0BEC5",
                "#B0BEC5",
                "#B0BEC5",
                "#B0BEC5",
                "#B0BEC5",
                "#B0BEC5",
                "#B0BEC5",
                "#B0BEC5",
                "#B0BEC5",
                "#B0BEC5",
                "#B0BEC5",
                "#B0BEC5",
                "#B0BEC5",
                "#B0BEC5",
                "#B0BEC5",
                "#B0BEC5",
                "#B0BEC5",
                "#B0BEC5",
                "#B0BEC5",
                "#B0BEC5",
                "#B0BEC5",
                "#B0BEC5",
                "red",
                "#B0BEC5",
                "#B0BEC5",
                "#B0BEC5",
                "#B0BEC5",
                "#B0BEC5",
                "#B0BEC5",
                "#B0BEC5"
               ]
              ]
             }
            ],
            "label": "Topic 29",
            "method": "update"
           },
           {
            "args": [
             {
              "marker.color": [
               [
                "#B0BEC5",
                "#B0BEC5",
                "#B0BEC5",
                "#B0BEC5",
                "#B0BEC5",
                "#B0BEC5",
                "#B0BEC5",
                "#B0BEC5",
                "#B0BEC5",
                "#B0BEC5",
                "#B0BEC5",
                "#B0BEC5",
                "#B0BEC5",
                "#B0BEC5",
                "#B0BEC5",
                "#B0BEC5",
                "#B0BEC5",
                "#B0BEC5",
                "#B0BEC5",
                "#B0BEC5",
                "#B0BEC5",
                "#B0BEC5",
                "#B0BEC5",
                "#B0BEC5",
                "#B0BEC5",
                "#B0BEC5",
                "#B0BEC5",
                "#B0BEC5",
                "#B0BEC5",
                "#B0BEC5",
                "red",
                "#B0BEC5",
                "#B0BEC5",
                "#B0BEC5",
                "#B0BEC5",
                "#B0BEC5",
                "#B0BEC5"
               ]
              ]
             }
            ],
            "label": "Topic 30",
            "method": "update"
           },
           {
            "args": [
             {
              "marker.color": [
               [
                "#B0BEC5",
                "#B0BEC5",
                "#B0BEC5",
                "#B0BEC5",
                "#B0BEC5",
                "#B0BEC5",
                "#B0BEC5",
                "#B0BEC5",
                "#B0BEC5",
                "#B0BEC5",
                "#B0BEC5",
                "#B0BEC5",
                "#B0BEC5",
                "#B0BEC5",
                "#B0BEC5",
                "#B0BEC5",
                "#B0BEC5",
                "#B0BEC5",
                "#B0BEC5",
                "#B0BEC5",
                "#B0BEC5",
                "#B0BEC5",
                "#B0BEC5",
                "#B0BEC5",
                "#B0BEC5",
                "#B0BEC5",
                "#B0BEC5",
                "#B0BEC5",
                "#B0BEC5",
                "#B0BEC5",
                "#B0BEC5",
                "red",
                "#B0BEC5",
                "#B0BEC5",
                "#B0BEC5",
                "#B0BEC5",
                "#B0BEC5"
               ]
              ]
             }
            ],
            "label": "Topic 31",
            "method": "update"
           },
           {
            "args": [
             {
              "marker.color": [
               [
                "#B0BEC5",
                "#B0BEC5",
                "#B0BEC5",
                "#B0BEC5",
                "#B0BEC5",
                "#B0BEC5",
                "#B0BEC5",
                "#B0BEC5",
                "#B0BEC5",
                "#B0BEC5",
                "#B0BEC5",
                "#B0BEC5",
                "#B0BEC5",
                "#B0BEC5",
                "#B0BEC5",
                "#B0BEC5",
                "#B0BEC5",
                "#B0BEC5",
                "#B0BEC5",
                "#B0BEC5",
                "#B0BEC5",
                "#B0BEC5",
                "#B0BEC5",
                "#B0BEC5",
                "#B0BEC5",
                "#B0BEC5",
                "#B0BEC5",
                "#B0BEC5",
                "#B0BEC5",
                "#B0BEC5",
                "#B0BEC5",
                "#B0BEC5",
                "red",
                "#B0BEC5",
                "#B0BEC5",
                "#B0BEC5",
                "#B0BEC5"
               ]
              ]
             }
            ],
            "label": "Topic 32",
            "method": "update"
           },
           {
            "args": [
             {
              "marker.color": [
               [
                "#B0BEC5",
                "#B0BEC5",
                "#B0BEC5",
                "#B0BEC5",
                "#B0BEC5",
                "#B0BEC5",
                "#B0BEC5",
                "#B0BEC5",
                "#B0BEC5",
                "#B0BEC5",
                "#B0BEC5",
                "#B0BEC5",
                "#B0BEC5",
                "#B0BEC5",
                "#B0BEC5",
                "#B0BEC5",
                "#B0BEC5",
                "#B0BEC5",
                "#B0BEC5",
                "#B0BEC5",
                "#B0BEC5",
                "#B0BEC5",
                "#B0BEC5",
                "#B0BEC5",
                "#B0BEC5",
                "#B0BEC5",
                "#B0BEC5",
                "#B0BEC5",
                "#B0BEC5",
                "#B0BEC5",
                "#B0BEC5",
                "#B0BEC5",
                "#B0BEC5",
                "red",
                "#B0BEC5",
                "#B0BEC5",
                "#B0BEC5"
               ]
              ]
             }
            ],
            "label": "Topic 33",
            "method": "update"
           },
           {
            "args": [
             {
              "marker.color": [
               [
                "#B0BEC5",
                "#B0BEC5",
                "#B0BEC5",
                "#B0BEC5",
                "#B0BEC5",
                "#B0BEC5",
                "#B0BEC5",
                "#B0BEC5",
                "#B0BEC5",
                "#B0BEC5",
                "#B0BEC5",
                "#B0BEC5",
                "#B0BEC5",
                "#B0BEC5",
                "#B0BEC5",
                "#B0BEC5",
                "#B0BEC5",
                "#B0BEC5",
                "#B0BEC5",
                "#B0BEC5",
                "#B0BEC5",
                "#B0BEC5",
                "#B0BEC5",
                "#B0BEC5",
                "#B0BEC5",
                "#B0BEC5",
                "#B0BEC5",
                "#B0BEC5",
                "#B0BEC5",
                "#B0BEC5",
                "#B0BEC5",
                "#B0BEC5",
                "#B0BEC5",
                "#B0BEC5",
                "red",
                "#B0BEC5",
                "#B0BEC5"
               ]
              ]
             }
            ],
            "label": "Topic 34",
            "method": "update"
           },
           {
            "args": [
             {
              "marker.color": [
               [
                "#B0BEC5",
                "#B0BEC5",
                "#B0BEC5",
                "#B0BEC5",
                "#B0BEC5",
                "#B0BEC5",
                "#B0BEC5",
                "#B0BEC5",
                "#B0BEC5",
                "#B0BEC5",
                "#B0BEC5",
                "#B0BEC5",
                "#B0BEC5",
                "#B0BEC5",
                "#B0BEC5",
                "#B0BEC5",
                "#B0BEC5",
                "#B0BEC5",
                "#B0BEC5",
                "#B0BEC5",
                "#B0BEC5",
                "#B0BEC5",
                "#B0BEC5",
                "#B0BEC5",
                "#B0BEC5",
                "#B0BEC5",
                "#B0BEC5",
                "#B0BEC5",
                "#B0BEC5",
                "#B0BEC5",
                "#B0BEC5",
                "#B0BEC5",
                "#B0BEC5",
                "#B0BEC5",
                "#B0BEC5",
                "red",
                "#B0BEC5"
               ]
              ]
             }
            ],
            "label": "Topic 35",
            "method": "update"
           },
           {
            "args": [
             {
              "marker.color": [
               [
                "#B0BEC5",
                "#B0BEC5",
                "#B0BEC5",
                "#B0BEC5",
                "#B0BEC5",
                "#B0BEC5",
                "#B0BEC5",
                "#B0BEC5",
                "#B0BEC5",
                "#B0BEC5",
                "#B0BEC5",
                "#B0BEC5",
                "#B0BEC5",
                "#B0BEC5",
                "#B0BEC5",
                "#B0BEC5",
                "#B0BEC5",
                "#B0BEC5",
                "#B0BEC5",
                "#B0BEC5",
                "#B0BEC5",
                "#B0BEC5",
                "#B0BEC5",
                "#B0BEC5",
                "#B0BEC5",
                "#B0BEC5",
                "#B0BEC5",
                "#B0BEC5",
                "#B0BEC5",
                "#B0BEC5",
                "#B0BEC5",
                "#B0BEC5",
                "#B0BEC5",
                "#B0BEC5",
                "#B0BEC5",
                "#B0BEC5",
                "red"
               ]
              ]
             }
            ],
            "label": "Topic 36",
            "method": "update"
           }
          ]
         }
        ],
        "template": {
         "data": {
          "bar": [
           {
            "error_x": {
             "color": "rgb(36,36,36)"
            },
            "error_y": {
             "color": "rgb(36,36,36)"
            },
            "marker": {
             "line": {
              "color": "white",
              "width": 0.5
             },
             "pattern": {
              "fillmode": "overlay",
              "size": 10,
              "solidity": 0.2
             }
            },
            "type": "bar"
           }
          ],
          "barpolar": [
           {
            "marker": {
             "line": {
              "color": "white",
              "width": 0.5
             },
             "pattern": {
              "fillmode": "overlay",
              "size": 10,
              "solidity": 0.2
             }
            },
            "type": "barpolar"
           }
          ],
          "carpet": [
           {
            "aaxis": {
             "endlinecolor": "rgb(36,36,36)",
             "gridcolor": "white",
             "linecolor": "white",
             "minorgridcolor": "white",
             "startlinecolor": "rgb(36,36,36)"
            },
            "baxis": {
             "endlinecolor": "rgb(36,36,36)",
             "gridcolor": "white",
             "linecolor": "white",
             "minorgridcolor": "white",
             "startlinecolor": "rgb(36,36,36)"
            },
            "type": "carpet"
           }
          ],
          "choropleth": [
           {
            "colorbar": {
             "outlinewidth": 1,
             "tickcolor": "rgb(36,36,36)",
             "ticks": "outside"
            },
            "type": "choropleth"
           }
          ],
          "contour": [
           {
            "colorbar": {
             "outlinewidth": 1,
             "tickcolor": "rgb(36,36,36)",
             "ticks": "outside"
            },
            "colorscale": [
             [
              0,
              "#440154"
             ],
             [
              0.1111111111111111,
              "#482878"
             ],
             [
              0.2222222222222222,
              "#3e4989"
             ],
             [
              0.3333333333333333,
              "#31688e"
             ],
             [
              0.4444444444444444,
              "#26828e"
             ],
             [
              0.5555555555555556,
              "#1f9e89"
             ],
             [
              0.6666666666666666,
              "#35b779"
             ],
             [
              0.7777777777777778,
              "#6ece58"
             ],
             [
              0.8888888888888888,
              "#b5de2b"
             ],
             [
              1,
              "#fde725"
             ]
            ],
            "type": "contour"
           }
          ],
          "contourcarpet": [
           {
            "colorbar": {
             "outlinewidth": 1,
             "tickcolor": "rgb(36,36,36)",
             "ticks": "outside"
            },
            "type": "contourcarpet"
           }
          ],
          "heatmap": [
           {
            "colorbar": {
             "outlinewidth": 1,
             "tickcolor": "rgb(36,36,36)",
             "ticks": "outside"
            },
            "colorscale": [
             [
              0,
              "#440154"
             ],
             [
              0.1111111111111111,
              "#482878"
             ],
             [
              0.2222222222222222,
              "#3e4989"
             ],
             [
              0.3333333333333333,
              "#31688e"
             ],
             [
              0.4444444444444444,
              "#26828e"
             ],
             [
              0.5555555555555556,
              "#1f9e89"
             ],
             [
              0.6666666666666666,
              "#35b779"
             ],
             [
              0.7777777777777778,
              "#6ece58"
             ],
             [
              0.8888888888888888,
              "#b5de2b"
             ],
             [
              1,
              "#fde725"
             ]
            ],
            "type": "heatmap"
           }
          ],
          "heatmapgl": [
           {
            "colorbar": {
             "outlinewidth": 1,
             "tickcolor": "rgb(36,36,36)",
             "ticks": "outside"
            },
            "colorscale": [
             [
              0,
              "#440154"
             ],
             [
              0.1111111111111111,
              "#482878"
             ],
             [
              0.2222222222222222,
              "#3e4989"
             ],
             [
              0.3333333333333333,
              "#31688e"
             ],
             [
              0.4444444444444444,
              "#26828e"
             ],
             [
              0.5555555555555556,
              "#1f9e89"
             ],
             [
              0.6666666666666666,
              "#35b779"
             ],
             [
              0.7777777777777778,
              "#6ece58"
             ],
             [
              0.8888888888888888,
              "#b5de2b"
             ],
             [
              1,
              "#fde725"
             ]
            ],
            "type": "heatmapgl"
           }
          ],
          "histogram": [
           {
            "marker": {
             "line": {
              "color": "white",
              "width": 0.6
             }
            },
            "type": "histogram"
           }
          ],
          "histogram2d": [
           {
            "colorbar": {
             "outlinewidth": 1,
             "tickcolor": "rgb(36,36,36)",
             "ticks": "outside"
            },
            "colorscale": [
             [
              0,
              "#440154"
             ],
             [
              0.1111111111111111,
              "#482878"
             ],
             [
              0.2222222222222222,
              "#3e4989"
             ],
             [
              0.3333333333333333,
              "#31688e"
             ],
             [
              0.4444444444444444,
              "#26828e"
             ],
             [
              0.5555555555555556,
              "#1f9e89"
             ],
             [
              0.6666666666666666,
              "#35b779"
             ],
             [
              0.7777777777777778,
              "#6ece58"
             ],
             [
              0.8888888888888888,
              "#b5de2b"
             ],
             [
              1,
              "#fde725"
             ]
            ],
            "type": "histogram2d"
           }
          ],
          "histogram2dcontour": [
           {
            "colorbar": {
             "outlinewidth": 1,
             "tickcolor": "rgb(36,36,36)",
             "ticks": "outside"
            },
            "colorscale": [
             [
              0,
              "#440154"
             ],
             [
              0.1111111111111111,
              "#482878"
             ],
             [
              0.2222222222222222,
              "#3e4989"
             ],
             [
              0.3333333333333333,
              "#31688e"
             ],
             [
              0.4444444444444444,
              "#26828e"
             ],
             [
              0.5555555555555556,
              "#1f9e89"
             ],
             [
              0.6666666666666666,
              "#35b779"
             ],
             [
              0.7777777777777778,
              "#6ece58"
             ],
             [
              0.8888888888888888,
              "#b5de2b"
             ],
             [
              1,
              "#fde725"
             ]
            ],
            "type": "histogram2dcontour"
           }
          ],
          "mesh3d": [
           {
            "colorbar": {
             "outlinewidth": 1,
             "tickcolor": "rgb(36,36,36)",
             "ticks": "outside"
            },
            "type": "mesh3d"
           }
          ],
          "parcoords": [
           {
            "line": {
             "colorbar": {
              "outlinewidth": 1,
              "tickcolor": "rgb(36,36,36)",
              "ticks": "outside"
             }
            },
            "type": "parcoords"
           }
          ],
          "pie": [
           {
            "automargin": true,
            "type": "pie"
           }
          ],
          "scatter": [
           {
            "fillpattern": {
             "fillmode": "overlay",
             "size": 10,
             "solidity": 0.2
            },
            "type": "scatter"
           }
          ],
          "scatter3d": [
           {
            "line": {
             "colorbar": {
              "outlinewidth": 1,
              "tickcolor": "rgb(36,36,36)",
              "ticks": "outside"
             }
            },
            "marker": {
             "colorbar": {
              "outlinewidth": 1,
              "tickcolor": "rgb(36,36,36)",
              "ticks": "outside"
             }
            },
            "type": "scatter3d"
           }
          ],
          "scattercarpet": [
           {
            "marker": {
             "colorbar": {
              "outlinewidth": 1,
              "tickcolor": "rgb(36,36,36)",
              "ticks": "outside"
             }
            },
            "type": "scattercarpet"
           }
          ],
          "scattergeo": [
           {
            "marker": {
             "colorbar": {
              "outlinewidth": 1,
              "tickcolor": "rgb(36,36,36)",
              "ticks": "outside"
             }
            },
            "type": "scattergeo"
           }
          ],
          "scattergl": [
           {
            "marker": {
             "colorbar": {
              "outlinewidth": 1,
              "tickcolor": "rgb(36,36,36)",
              "ticks": "outside"
             }
            },
            "type": "scattergl"
           }
          ],
          "scattermapbox": [
           {
            "marker": {
             "colorbar": {
              "outlinewidth": 1,
              "tickcolor": "rgb(36,36,36)",
              "ticks": "outside"
             }
            },
            "type": "scattermapbox"
           }
          ],
          "scatterpolar": [
           {
            "marker": {
             "colorbar": {
              "outlinewidth": 1,
              "tickcolor": "rgb(36,36,36)",
              "ticks": "outside"
             }
            },
            "type": "scatterpolar"
           }
          ],
          "scatterpolargl": [
           {
            "marker": {
             "colorbar": {
              "outlinewidth": 1,
              "tickcolor": "rgb(36,36,36)",
              "ticks": "outside"
             }
            },
            "type": "scatterpolargl"
           }
          ],
          "scatterternary": [
           {
            "marker": {
             "colorbar": {
              "outlinewidth": 1,
              "tickcolor": "rgb(36,36,36)",
              "ticks": "outside"
             }
            },
            "type": "scatterternary"
           }
          ],
          "surface": [
           {
            "colorbar": {
             "outlinewidth": 1,
             "tickcolor": "rgb(36,36,36)",
             "ticks": "outside"
            },
            "colorscale": [
             [
              0,
              "#440154"
             ],
             [
              0.1111111111111111,
              "#482878"
             ],
             [
              0.2222222222222222,
              "#3e4989"
             ],
             [
              0.3333333333333333,
              "#31688e"
             ],
             [
              0.4444444444444444,
              "#26828e"
             ],
             [
              0.5555555555555556,
              "#1f9e89"
             ],
             [
              0.6666666666666666,
              "#35b779"
             ],
             [
              0.7777777777777778,
              "#6ece58"
             ],
             [
              0.8888888888888888,
              "#b5de2b"
             ],
             [
              1,
              "#fde725"
             ]
            ],
            "type": "surface"
           }
          ],
          "table": [
           {
            "cells": {
             "fill": {
              "color": "rgb(237,237,237)"
             },
             "line": {
              "color": "white"
             }
            },
            "header": {
             "fill": {
              "color": "rgb(217,217,217)"
             },
             "line": {
              "color": "white"
             }
            },
            "type": "table"
           }
          ]
         },
         "layout": {
          "annotationdefaults": {
           "arrowhead": 0,
           "arrowwidth": 1
          },
          "autotypenumbers": "strict",
          "coloraxis": {
           "colorbar": {
            "outlinewidth": 1,
            "tickcolor": "rgb(36,36,36)",
            "ticks": "outside"
           }
          },
          "colorscale": {
           "diverging": [
            [
             0,
             "rgb(103,0,31)"
            ],
            [
             0.1,
             "rgb(178,24,43)"
            ],
            [
             0.2,
             "rgb(214,96,77)"
            ],
            [
             0.3,
             "rgb(244,165,130)"
            ],
            [
             0.4,
             "rgb(253,219,199)"
            ],
            [
             0.5,
             "rgb(247,247,247)"
            ],
            [
             0.6,
             "rgb(209,229,240)"
            ],
            [
             0.7,
             "rgb(146,197,222)"
            ],
            [
             0.8,
             "rgb(67,147,195)"
            ],
            [
             0.9,
             "rgb(33,102,172)"
            ],
            [
             1,
             "rgb(5,48,97)"
            ]
           ],
           "sequential": [
            [
             0,
             "#440154"
            ],
            [
             0.1111111111111111,
             "#482878"
            ],
            [
             0.2222222222222222,
             "#3e4989"
            ],
            [
             0.3333333333333333,
             "#31688e"
            ],
            [
             0.4444444444444444,
             "#26828e"
            ],
            [
             0.5555555555555556,
             "#1f9e89"
            ],
            [
             0.6666666666666666,
             "#35b779"
            ],
            [
             0.7777777777777778,
             "#6ece58"
            ],
            [
             0.8888888888888888,
             "#b5de2b"
            ],
            [
             1,
             "#fde725"
            ]
           ],
           "sequentialminus": [
            [
             0,
             "#440154"
            ],
            [
             0.1111111111111111,
             "#482878"
            ],
            [
             0.2222222222222222,
             "#3e4989"
            ],
            [
             0.3333333333333333,
             "#31688e"
            ],
            [
             0.4444444444444444,
             "#26828e"
            ],
            [
             0.5555555555555556,
             "#1f9e89"
            ],
            [
             0.6666666666666666,
             "#35b779"
            ],
            [
             0.7777777777777778,
             "#6ece58"
            ],
            [
             0.8888888888888888,
             "#b5de2b"
            ],
            [
             1,
             "#fde725"
            ]
           ]
          },
          "colorway": [
           "#1F77B4",
           "#FF7F0E",
           "#2CA02C",
           "#D62728",
           "#9467BD",
           "#8C564B",
           "#E377C2",
           "#7F7F7F",
           "#BCBD22",
           "#17BECF"
          ],
          "font": {
           "color": "rgb(36,36,36)"
          },
          "geo": {
           "bgcolor": "white",
           "lakecolor": "white",
           "landcolor": "white",
           "showlakes": true,
           "showland": true,
           "subunitcolor": "white"
          },
          "hoverlabel": {
           "align": "left"
          },
          "hovermode": "closest",
          "mapbox": {
           "style": "light"
          },
          "paper_bgcolor": "white",
          "plot_bgcolor": "white",
          "polar": {
           "angularaxis": {
            "gridcolor": "rgb(232,232,232)",
            "linecolor": "rgb(36,36,36)",
            "showgrid": false,
            "showline": true,
            "ticks": "outside"
           },
           "bgcolor": "white",
           "radialaxis": {
            "gridcolor": "rgb(232,232,232)",
            "linecolor": "rgb(36,36,36)",
            "showgrid": false,
            "showline": true,
            "ticks": "outside"
           }
          },
          "scene": {
           "xaxis": {
            "backgroundcolor": "white",
            "gridcolor": "rgb(232,232,232)",
            "gridwidth": 2,
            "linecolor": "rgb(36,36,36)",
            "showbackground": true,
            "showgrid": false,
            "showline": true,
            "ticks": "outside",
            "zeroline": false,
            "zerolinecolor": "rgb(36,36,36)"
           },
           "yaxis": {
            "backgroundcolor": "white",
            "gridcolor": "rgb(232,232,232)",
            "gridwidth": 2,
            "linecolor": "rgb(36,36,36)",
            "showbackground": true,
            "showgrid": false,
            "showline": true,
            "ticks": "outside",
            "zeroline": false,
            "zerolinecolor": "rgb(36,36,36)"
           },
           "zaxis": {
            "backgroundcolor": "white",
            "gridcolor": "rgb(232,232,232)",
            "gridwidth": 2,
            "linecolor": "rgb(36,36,36)",
            "showbackground": true,
            "showgrid": false,
            "showline": true,
            "ticks": "outside",
            "zeroline": false,
            "zerolinecolor": "rgb(36,36,36)"
           }
          },
          "shapedefaults": {
           "fillcolor": "black",
           "line": {
            "width": 0
           },
           "opacity": 0.3
          },
          "ternary": {
           "aaxis": {
            "gridcolor": "rgb(232,232,232)",
            "linecolor": "rgb(36,36,36)",
            "showgrid": false,
            "showline": true,
            "ticks": "outside"
           },
           "baxis": {
            "gridcolor": "rgb(232,232,232)",
            "linecolor": "rgb(36,36,36)",
            "showgrid": false,
            "showline": true,
            "ticks": "outside"
           },
           "bgcolor": "white",
           "caxis": {
            "gridcolor": "rgb(232,232,232)",
            "linecolor": "rgb(36,36,36)",
            "showgrid": false,
            "showline": true,
            "ticks": "outside"
           }
          },
          "title": {
           "x": 0.05
          },
          "xaxis": {
           "automargin": true,
           "gridcolor": "rgb(232,232,232)",
           "linecolor": "rgb(36,36,36)",
           "showgrid": false,
           "showline": true,
           "ticks": "outside",
           "title": {
            "standoff": 15
           },
           "zeroline": false,
           "zerolinecolor": "rgb(36,36,36)"
          },
          "yaxis": {
           "automargin": true,
           "gridcolor": "rgb(232,232,232)",
           "linecolor": "rgb(36,36,36)",
           "showgrid": false,
           "showline": true,
           "ticks": "outside",
           "title": {
            "standoff": 15
           },
           "zeroline": false,
           "zerolinecolor": "rgb(36,36,36)"
          }
         }
        },
        "title": {
         "font": {
          "color": "Black",
          "size": 22
         },
         "text": "<b>Intertopic Distance Map</b>",
         "x": 0.5,
         "xanchor": "center",
         "y": 0.95,
         "yanchor": "top"
        },
        "width": 650,
        "xaxis": {
         "anchor": "y",
         "domain": [
          0,
          1
         ],
         "range": [
          1.016432285308838,
          22.065006446838378
         ],
         "title": {
          "text": ""
         },
         "visible": false
        },
        "yaxis": {
         "anchor": "x",
         "domain": [
          0,
          1
         ],
         "range": [
          -5.540525984764099,
          15.697573041915893
         ],
         "title": {
          "text": ""
         },
         "visible": false
        }
       }
      }
     },
     "metadata": {},
     "output_type": "display_data"
    }
   ],
   "source": [
    "topic_model.visualize_topics()"
   ]
  },
  {
   "cell_type": "code",
   "execution_count": null,
   "metadata": {},
   "outputs": [],
   "source": []
  }
 ],
 "metadata": {
  "kernelspec": {
   "display_name": "openai",
   "language": "python",
   "name": "python3"
  },
  "language_info": {
   "codemirror_mode": {
    "name": "ipython",
    "version": 3
   },
   "file_extension": ".py",
   "mimetype": "text/x-python",
   "name": "python",
   "nbconvert_exporter": "python",
   "pygments_lexer": "ipython3",
   "version": "3.12.1"
  }
 },
 "nbformat": 4,
 "nbformat_minor": 2
}
